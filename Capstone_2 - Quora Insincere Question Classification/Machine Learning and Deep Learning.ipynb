{
 "cells": [
  {
   "cell_type": "markdown",
   "metadata": {},
   "source": [
    "# Machine Learning to Classify Insincere Quora Questions\n",
    "\n",
    "**The aim is to be able to classify questions as sincere vs insincere using different features of the text and the question text itself. We will try Machine learning classification algorithms to solve the problem.**"
   ]
  },
  {
   "cell_type": "code",
   "execution_count": 1,
   "metadata": {},
   "outputs": [],
   "source": [
    "import pandas as pd\n",
    "import swifter\n",
    "import numpy as np\n",
    "import nltk\n",
    "import re\n",
    "import seaborn as sns\n",
    "import matplotlib.pyplot as plt\n",
    "%matplotlib inline\n",
    "from sklearn.linear_model import LogisticRegression\n",
    "from sklearn.pipeline import Pipeline\n",
    "from sklearn.model_selection import train_test_split, cross_val_score\n",
    "from sklearn.feature_extraction.text import CountVectorizer, TfidfVectorizer\n",
    "from sklearn.decomposition import TruncatedSVD\n",
    "import xgboost as xgb\n",
    "from sklearn.naive_bayes import MultinomialNB\n",
    "from sklearn.metrics import confusion_matrix, classification_report\n",
    "from sklearn.neighbors import KNeighborsClassifier\n",
    "from gensim.models import Word2Vec\n",
    "from sklearn.metrics import precision_recall_curve\n",
    "import matplotlib.pyplot as plt\n",
    "from sklearn.utils.fixes import signature\n",
    "import sklearn.metrics as metrics\n"
   ]
  },
  {
   "cell_type": "code",
   "execution_count": 2,
   "metadata": {},
   "outputs": [],
   "source": [
    "data = pd.read_csv('final_processed_df.csv')"
   ]
  },
  {
   "cell_type": "code",
   "execution_count": 3,
   "metadata": {},
   "outputs": [
    {
     "data": {
      "text/html": [
       "<div>\n",
       "<style scoped>\n",
       "    .dataframe tbody tr th:only-of-type {\n",
       "        vertical-align: middle;\n",
       "    }\n",
       "\n",
       "    .dataframe tbody tr th {\n",
       "        vertical-align: top;\n",
       "    }\n",
       "\n",
       "    .dataframe thead th {\n",
       "        text-align: right;\n",
       "    }\n",
       "</style>\n",
       "<table border=\"1\" class=\"dataframe\">\n",
       "  <thead>\n",
       "    <tr style=\"text-align: right;\">\n",
       "      <th></th>\n",
       "      <th>qid</th>\n",
       "      <th>question_text</th>\n",
       "      <th>target</th>\n",
       "      <th>length</th>\n",
       "      <th>capitals</th>\n",
       "      <th>caps_vs_length</th>\n",
       "      <th>num_words</th>\n",
       "      <th>num_unique_words</th>\n",
       "      <th>words_vs_unique</th>\n",
       "      <th>num_exclamation_marks</th>\n",
       "      <th>num_question_marks</th>\n",
       "      <th>num_punctuation</th>\n",
       "      <th>num_symbols</th>\n",
       "      <th>processed_text</th>\n",
       "      <th>len_after</th>\n",
       "      <th>num_words_after</th>\n",
       "      <th>len_ratio</th>\n",
       "      <th>num_words_ratio</th>\n",
       "    </tr>\n",
       "  </thead>\n",
       "  <tbody>\n",
       "    <tr>\n",
       "      <th>0</th>\n",
       "      <td>00002165364db923c7e6</td>\n",
       "      <td>How did Quebec nationalists see their province...</td>\n",
       "      <td>0</td>\n",
       "      <td>72</td>\n",
       "      <td>2</td>\n",
       "      <td>0.027778</td>\n",
       "      <td>13</td>\n",
       "      <td>13</td>\n",
       "      <td>1.0000</td>\n",
       "      <td>0</td>\n",
       "      <td>1</td>\n",
       "      <td>0</td>\n",
       "      <td>0</td>\n",
       "      <td>quebec nationalist see province nation</td>\n",
       "      <td>38</td>\n",
       "      <td>5</td>\n",
       "      <td>1.894737</td>\n",
       "      <td>2.600000</td>\n",
       "    </tr>\n",
       "    <tr>\n",
       "      <th>1</th>\n",
       "      <td>000032939017120e6e44</td>\n",
       "      <td>Do you have an adopted dog, how would you enco...</td>\n",
       "      <td>0</td>\n",
       "      <td>81</td>\n",
       "      <td>1</td>\n",
       "      <td>0.012346</td>\n",
       "      <td>16</td>\n",
       "      <td>15</td>\n",
       "      <td>0.9375</td>\n",
       "      <td>0</td>\n",
       "      <td>1</td>\n",
       "      <td>1</td>\n",
       "      <td>0</td>\n",
       "      <td>adopt dog would encourage people adopt not shop</td>\n",
       "      <td>47</td>\n",
       "      <td>8</td>\n",
       "      <td>1.723404</td>\n",
       "      <td>2.000000</td>\n",
       "    </tr>\n",
       "    <tr>\n",
       "      <th>2</th>\n",
       "      <td>0000412ca6e4628ce2cf</td>\n",
       "      <td>Why does velocity affect time? Does velocity a...</td>\n",
       "      <td>0</td>\n",
       "      <td>67</td>\n",
       "      <td>2</td>\n",
       "      <td>0.029851</td>\n",
       "      <td>10</td>\n",
       "      <td>8</td>\n",
       "      <td>0.8000</td>\n",
       "      <td>0</td>\n",
       "      <td>2</td>\n",
       "      <td>0</td>\n",
       "      <td>0</td>\n",
       "      <td>velocity affect time velocity affect space geo...</td>\n",
       "      <td>51</td>\n",
       "      <td>7</td>\n",
       "      <td>1.313725</td>\n",
       "      <td>1.428571</td>\n",
       "    </tr>\n",
       "    <tr>\n",
       "      <th>3</th>\n",
       "      <td>000042bf85aa498cd78e</td>\n",
       "      <td>How did Otto von Guericke used the Magdeburg h...</td>\n",
       "      <td>0</td>\n",
       "      <td>57</td>\n",
       "      <td>4</td>\n",
       "      <td>0.070175</td>\n",
       "      <td>9</td>\n",
       "      <td>9</td>\n",
       "      <td>1.0000</td>\n",
       "      <td>0</td>\n",
       "      <td>1</td>\n",
       "      <td>0</td>\n",
       "      <td>0</td>\n",
       "      <td>otto von guericke use magdeburg hemisphere</td>\n",
       "      <td>42</td>\n",
       "      <td>6</td>\n",
       "      <td>1.357143</td>\n",
       "      <td>1.500000</td>\n",
       "    </tr>\n",
       "    <tr>\n",
       "      <th>4</th>\n",
       "      <td>0000455dfa3e01eae3af</td>\n",
       "      <td>Can I convert montra helicon D to a mountain b...</td>\n",
       "      <td>0</td>\n",
       "      <td>77</td>\n",
       "      <td>3</td>\n",
       "      <td>0.038961</td>\n",
       "      <td>15</td>\n",
       "      <td>15</td>\n",
       "      <td>1.0000</td>\n",
       "      <td>0</td>\n",
       "      <td>1</td>\n",
       "      <td>0</td>\n",
       "      <td>0</td>\n",
       "      <td>convert montra helicon mountain bike change tyre</td>\n",
       "      <td>48</td>\n",
       "      <td>7</td>\n",
       "      <td>1.604167</td>\n",
       "      <td>2.142857</td>\n",
       "    </tr>\n",
       "  </tbody>\n",
       "</table>\n",
       "</div>"
      ],
      "text/plain": [
       "                    qid                                      question_text  \\\n",
       "0  00002165364db923c7e6  How did Quebec nationalists see their province...   \n",
       "1  000032939017120e6e44  Do you have an adopted dog, how would you enco...   \n",
       "2  0000412ca6e4628ce2cf  Why does velocity affect time? Does velocity a...   \n",
       "3  000042bf85aa498cd78e  How did Otto von Guericke used the Magdeburg h...   \n",
       "4  0000455dfa3e01eae3af  Can I convert montra helicon D to a mountain b...   \n",
       "\n",
       "   target  length  capitals  caps_vs_length  num_words  num_unique_words  \\\n",
       "0       0      72         2        0.027778         13                13   \n",
       "1       0      81         1        0.012346         16                15   \n",
       "2       0      67         2        0.029851         10                 8   \n",
       "3       0      57         4        0.070175          9                 9   \n",
       "4       0      77         3        0.038961         15                15   \n",
       "\n",
       "   words_vs_unique  num_exclamation_marks  num_question_marks  \\\n",
       "0           1.0000                      0                   1   \n",
       "1           0.9375                      0                   1   \n",
       "2           0.8000                      0                   2   \n",
       "3           1.0000                      0                   1   \n",
       "4           1.0000                      0                   1   \n",
       "\n",
       "   num_punctuation  num_symbols  \\\n",
       "0                0            0   \n",
       "1                1            0   \n",
       "2                0            0   \n",
       "3                0            0   \n",
       "4                0            0   \n",
       "\n",
       "                                      processed_text  len_after  \\\n",
       "0             quebec nationalist see province nation         38   \n",
       "1    adopt dog would encourage people adopt not shop         47   \n",
       "2  velocity affect time velocity affect space geo...         51   \n",
       "3         otto von guericke use magdeburg hemisphere         42   \n",
       "4   convert montra helicon mountain bike change tyre         48   \n",
       "\n",
       "   num_words_after  len_ratio  num_words_ratio  \n",
       "0                5   1.894737         2.600000  \n",
       "1                8   1.723404         2.000000  \n",
       "2                7   1.313725         1.428571  \n",
       "3                6   1.357143         1.500000  \n",
       "4                7   1.604167         2.142857  "
      ]
     },
     "execution_count": 3,
     "metadata": {},
     "output_type": "execute_result"
    }
   ],
   "source": [
    "data.head()"
   ]
  },
  {
   "cell_type": "code",
   "execution_count": 4,
   "metadata": {},
   "outputs": [
    {
     "name": "stdout",
     "output_type": "stream",
     "text": [
      "<class 'pandas.core.frame.DataFrame'>\n",
      "RangeIndex: 1306122 entries, 0 to 1306121\n",
      "Data columns (total 18 columns):\n",
      "qid                      1306122 non-null object\n",
      "question_text            1306122 non-null object\n",
      "target                   1306122 non-null int64\n",
      "length                   1306122 non-null int64\n",
      "capitals                 1306122 non-null int64\n",
      "caps_vs_length           1306122 non-null float64\n",
      "num_words                1306122 non-null int64\n",
      "num_unique_words         1306122 non-null int64\n",
      "words_vs_unique          1306122 non-null float64\n",
      "num_exclamation_marks    1306122 non-null int64\n",
      "num_question_marks       1306122 non-null int64\n",
      "num_punctuation          1306122 non-null int64\n",
      "num_symbols              1306122 non-null int64\n",
      "processed_text           1305749 non-null object\n",
      "len_after                1306122 non-null int64\n",
      "num_words_after          1306122 non-null int64\n",
      "len_ratio                1306122 non-null float64\n",
      "num_words_ratio          1306122 non-null float64\n",
      "dtypes: float64(4), int64(11), object(3)\n",
      "memory usage: 179.4+ MB\n"
     ]
    }
   ],
   "source": [
    "data.info()"
   ]
  },
  {
   "cell_type": "code",
   "execution_count": 5,
   "metadata": {},
   "outputs": [
    {
     "data": {
      "application/vnd.jupyter.widget-view+json": {
       "model_id": "ac47b0bbd5f446049c1b2b1bbe295ace",
       "version_major": 2,
       "version_minor": 0
      },
      "text/plain": [
       "HBox(children=(IntProgress(value=0, description='Dask Apply', max=16), HTML(value='')))"
      ]
     },
     "metadata": {},
     "output_type": "display_data"
    },
    {
     "name": "stdout",
     "output_type": "stream",
     "text": [
      "\n"
     ]
    },
    {
     "data": {
      "application/vnd.jupyter.widget-view+json": {
       "model_id": "996b102b29154b9c9fb58b7e50570fae",
       "version_major": 2,
       "version_minor": 0
      },
      "text/plain": [
       "HBox(children=(IntProgress(value=0, description='Dask Apply', max=16), HTML(value='')))"
      ]
     },
     "metadata": {},
     "output_type": "display_data"
    },
    {
     "name": "stdout",
     "output_type": "stream",
     "text": [
      "\n"
     ]
    }
   ],
   "source": [
    "def float_to_int(x):\n",
    "    if x == float('inf') or x == float('-inf'):\n",
    "        return float(0) # or a large value you choose\n",
    "    return int(x)\n",
    "\n",
    "data.len_ratio = data.len_ratio.swifter.apply(float_to_int)\n",
    "data.num_words_ratio = data.num_words_ratio.swifter.apply(float_to_int)\n",
    "\n",
    "data.processed_text = data.processed_text.fillna('')"
   ]
  },
  {
   "cell_type": "code",
   "execution_count": 6,
   "metadata": {},
   "outputs": [
    {
     "data": {
      "text/html": [
       "<div>\n",
       "<style scoped>\n",
       "    .dataframe tbody tr th:only-of-type {\n",
       "        vertical-align: middle;\n",
       "    }\n",
       "\n",
       "    .dataframe tbody tr th {\n",
       "        vertical-align: top;\n",
       "    }\n",
       "\n",
       "    .dataframe thead th {\n",
       "        text-align: right;\n",
       "    }\n",
       "</style>\n",
       "<table border=\"1\" class=\"dataframe\">\n",
       "  <thead>\n",
       "    <tr style=\"text-align: right;\">\n",
       "      <th></th>\n",
       "      <th>target</th>\n",
       "      <th>length</th>\n",
       "      <th>capitals</th>\n",
       "      <th>caps_vs_length</th>\n",
       "      <th>num_words</th>\n",
       "      <th>num_unique_words</th>\n",
       "      <th>words_vs_unique</th>\n",
       "      <th>num_exclamation_marks</th>\n",
       "      <th>num_question_marks</th>\n",
       "      <th>num_punctuation</th>\n",
       "      <th>num_symbols</th>\n",
       "      <th>len_after</th>\n",
       "      <th>num_words_after</th>\n",
       "      <th>len_ratio</th>\n",
       "      <th>num_words_ratio</th>\n",
       "    </tr>\n",
       "  </thead>\n",
       "  <tbody>\n",
       "    <tr>\n",
       "      <th>count</th>\n",
       "      <td>1.306122e+06</td>\n",
       "      <td>1.306122e+06</td>\n",
       "      <td>1.306122e+06</td>\n",
       "      <td>1.306122e+06</td>\n",
       "      <td>1.306122e+06</td>\n",
       "      <td>1.306122e+06</td>\n",
       "      <td>1.306122e+06</td>\n",
       "      <td>1.306122e+06</td>\n",
       "      <td>1.306122e+06</td>\n",
       "      <td>1.306122e+06</td>\n",
       "      <td>1.306122e+06</td>\n",
       "      <td>1.306122e+06</td>\n",
       "      <td>1.306122e+06</td>\n",
       "      <td>1.306122e+06</td>\n",
       "      <td>1.306122e+06</td>\n",
       "    </tr>\n",
       "    <tr>\n",
       "      <th>mean</th>\n",
       "      <td>6.187018e-02</td>\n",
       "      <td>7.067884e+01</td>\n",
       "      <td>2.860756e+00</td>\n",
       "      <td>4.557576e-02</td>\n",
       "      <td>1.280361e+01</td>\n",
       "      <td>1.213578e+01</td>\n",
       "      <td>9.666687e-01</td>\n",
       "      <td>1.742563e-03</td>\n",
       "      <td>1.057475e+00</td>\n",
       "      <td>2.904055e-01</td>\n",
       "      <td>1.543730e-02</td>\n",
       "      <td>4.271438e+01</td>\n",
       "      <td>6.453952e+00</td>\n",
       "      <td>1.206526e+00</td>\n",
       "      <td>1.660784e+00</td>\n",
       "    </tr>\n",
       "    <tr>\n",
       "      <th>std</th>\n",
       "      <td>2.409197e-01</td>\n",
       "      <td>3.878428e+01</td>\n",
       "      <td>2.573325e+00</td>\n",
       "      <td>3.919927e-02</td>\n",
       "      <td>7.052437e+00</td>\n",
       "      <td>6.040779e+00</td>\n",
       "      <td>5.687022e-02</td>\n",
       "      <td>4.676167e-02</td>\n",
       "      <td>2.588720e-01</td>\n",
       "      <td>7.637911e-01</td>\n",
       "      <td>1.502499e-01</td>\n",
       "      <td>2.517267e+01</td>\n",
       "      <td>3.730951e+00</td>\n",
       "      <td>5.222969e-01</td>\n",
       "      <td>6.736842e-01</td>\n",
       "    </tr>\n",
       "    <tr>\n",
       "      <th>min</th>\n",
       "      <td>0.000000e+00</td>\n",
       "      <td>1.000000e+00</td>\n",
       "      <td>0.000000e+00</td>\n",
       "      <td>0.000000e+00</td>\n",
       "      <td>1.000000e+00</td>\n",
       "      <td>1.000000e+00</td>\n",
       "      <td>9.523810e-02</td>\n",
       "      <td>0.000000e+00</td>\n",
       "      <td>0.000000e+00</td>\n",
       "      <td>0.000000e+00</td>\n",
       "      <td>0.000000e+00</td>\n",
       "      <td>0.000000e+00</td>\n",
       "      <td>0.000000e+00</td>\n",
       "      <td>0.000000e+00</td>\n",
       "      <td>0.000000e+00</td>\n",
       "    </tr>\n",
       "    <tr>\n",
       "      <th>25%</th>\n",
       "      <td>0.000000e+00</td>\n",
       "      <td>4.500000e+01</td>\n",
       "      <td>1.000000e+00</td>\n",
       "      <td>2.000000e-02</td>\n",
       "      <td>8.000000e+00</td>\n",
       "      <td>8.000000e+00</td>\n",
       "      <td>9.354839e-01</td>\n",
       "      <td>0.000000e+00</td>\n",
       "      <td>1.000000e+00</td>\n",
       "      <td>0.000000e+00</td>\n",
       "      <td>0.000000e+00</td>\n",
       "      <td>2.600000e+01</td>\n",
       "      <td>4.000000e+00</td>\n",
       "      <td>1.000000e+00</td>\n",
       "      <td>1.000000e+00</td>\n",
       "    </tr>\n",
       "    <tr>\n",
       "      <th>50%</th>\n",
       "      <td>0.000000e+00</td>\n",
       "      <td>6.000000e+01</td>\n",
       "      <td>2.000000e+00</td>\n",
       "      <td>3.389831e-02</td>\n",
       "      <td>1.100000e+01</td>\n",
       "      <td>1.100000e+01</td>\n",
       "      <td>1.000000e+00</td>\n",
       "      <td>0.000000e+00</td>\n",
       "      <td>1.000000e+00</td>\n",
       "      <td>0.000000e+00</td>\n",
       "      <td>0.000000e+00</td>\n",
       "      <td>3.600000e+01</td>\n",
       "      <td>5.000000e+00</td>\n",
       "      <td>1.000000e+00</td>\n",
       "      <td>2.000000e+00</td>\n",
       "    </tr>\n",
       "    <tr>\n",
       "      <th>75%</th>\n",
       "      <td>0.000000e+00</td>\n",
       "      <td>8.500000e+01</td>\n",
       "      <td>4.000000e+00</td>\n",
       "      <td>5.882353e-02</td>\n",
       "      <td>1.500000e+01</td>\n",
       "      <td>1.500000e+01</td>\n",
       "      <td>1.000000e+00</td>\n",
       "      <td>0.000000e+00</td>\n",
       "      <td>1.000000e+00</td>\n",
       "      <td>0.000000e+00</td>\n",
       "      <td>0.000000e+00</td>\n",
       "      <td>5.300000e+01</td>\n",
       "      <td>8.000000e+00</td>\n",
       "      <td>1.000000e+00</td>\n",
       "      <td>2.000000e+00</td>\n",
       "    </tr>\n",
       "    <tr>\n",
       "      <th>max</th>\n",
       "      <td>1.000000e+00</td>\n",
       "      <td>1.017000e+03</td>\n",
       "      <td>1.800000e+02</td>\n",
       "      <td>1.000000e+00</td>\n",
       "      <td>1.340000e+02</td>\n",
       "      <td>9.600000e+01</td>\n",
       "      <td>1.000000e+00</td>\n",
       "      <td>5.000000e+00</td>\n",
       "      <td>1.000000e+01</td>\n",
       "      <td>3.500000e+01</td>\n",
       "      <td>2.000000e+01</td>\n",
       "      <td>6.840000e+02</td>\n",
       "      <td>6.900000e+01</td>\n",
       "      <td>8.100000e+01</td>\n",
       "      <td>2.800000e+01</td>\n",
       "    </tr>\n",
       "  </tbody>\n",
       "</table>\n",
       "</div>"
      ],
      "text/plain": [
       "             target        length      capitals  caps_vs_length     num_words  \\\n",
       "count  1.306122e+06  1.306122e+06  1.306122e+06    1.306122e+06  1.306122e+06   \n",
       "mean   6.187018e-02  7.067884e+01  2.860756e+00    4.557576e-02  1.280361e+01   \n",
       "std    2.409197e-01  3.878428e+01  2.573325e+00    3.919927e-02  7.052437e+00   \n",
       "min    0.000000e+00  1.000000e+00  0.000000e+00    0.000000e+00  1.000000e+00   \n",
       "25%    0.000000e+00  4.500000e+01  1.000000e+00    2.000000e-02  8.000000e+00   \n",
       "50%    0.000000e+00  6.000000e+01  2.000000e+00    3.389831e-02  1.100000e+01   \n",
       "75%    0.000000e+00  8.500000e+01  4.000000e+00    5.882353e-02  1.500000e+01   \n",
       "max    1.000000e+00  1.017000e+03  1.800000e+02    1.000000e+00  1.340000e+02   \n",
       "\n",
       "       num_unique_words  words_vs_unique  num_exclamation_marks  \\\n",
       "count      1.306122e+06     1.306122e+06           1.306122e+06   \n",
       "mean       1.213578e+01     9.666687e-01           1.742563e-03   \n",
       "std        6.040779e+00     5.687022e-02           4.676167e-02   \n",
       "min        1.000000e+00     9.523810e-02           0.000000e+00   \n",
       "25%        8.000000e+00     9.354839e-01           0.000000e+00   \n",
       "50%        1.100000e+01     1.000000e+00           0.000000e+00   \n",
       "75%        1.500000e+01     1.000000e+00           0.000000e+00   \n",
       "max        9.600000e+01     1.000000e+00           5.000000e+00   \n",
       "\n",
       "       num_question_marks  num_punctuation   num_symbols     len_after  \\\n",
       "count        1.306122e+06     1.306122e+06  1.306122e+06  1.306122e+06   \n",
       "mean         1.057475e+00     2.904055e-01  1.543730e-02  4.271438e+01   \n",
       "std          2.588720e-01     7.637911e-01  1.502499e-01  2.517267e+01   \n",
       "min          0.000000e+00     0.000000e+00  0.000000e+00  0.000000e+00   \n",
       "25%          1.000000e+00     0.000000e+00  0.000000e+00  2.600000e+01   \n",
       "50%          1.000000e+00     0.000000e+00  0.000000e+00  3.600000e+01   \n",
       "75%          1.000000e+00     0.000000e+00  0.000000e+00  5.300000e+01   \n",
       "max          1.000000e+01     3.500000e+01  2.000000e+01  6.840000e+02   \n",
       "\n",
       "       num_words_after     len_ratio  num_words_ratio  \n",
       "count     1.306122e+06  1.306122e+06     1.306122e+06  \n",
       "mean      6.453952e+00  1.206526e+00     1.660784e+00  \n",
       "std       3.730951e+00  5.222969e-01     6.736842e-01  \n",
       "min       0.000000e+00  0.000000e+00     0.000000e+00  \n",
       "25%       4.000000e+00  1.000000e+00     1.000000e+00  \n",
       "50%       5.000000e+00  1.000000e+00     2.000000e+00  \n",
       "75%       8.000000e+00  1.000000e+00     2.000000e+00  \n",
       "max       6.900000e+01  8.100000e+01     2.800000e+01  "
      ]
     },
     "execution_count": 6,
     "metadata": {},
     "output_type": "execute_result"
    }
   ],
   "source": [
    "data.describe()"
   ]
  },
  {
   "cell_type": "code",
   "execution_count": 7,
   "metadata": {},
   "outputs": [],
   "source": [
    "sincere_df = data[data['target']==0]\n",
    "insincere_df = data[data['target']==1]"
   ]
  },
  {
   "cell_type": "code",
   "execution_count": 8,
   "metadata": {},
   "outputs": [],
   "source": [
    "sincere_df_subset = sincere_df.sample(n=160000)"
   ]
  },
  {
   "cell_type": "code",
   "execution_count": 9,
   "metadata": {},
   "outputs": [],
   "source": [
    "insincere_df = insincere_df.reset_index()\n",
    "sincere_df_subset = sincere_df_subset.reset_index()"
   ]
  },
  {
   "cell_type": "code",
   "execution_count": 10,
   "metadata": {},
   "outputs": [
    {
     "data": {
      "text/plain": [
       "(160000, 19)"
      ]
     },
     "execution_count": 10,
     "metadata": {},
     "output_type": "execute_result"
    }
   ],
   "source": [
    "sincere_df_subset.shape"
   ]
  },
  {
   "cell_type": "code",
   "execution_count": 11,
   "metadata": {
    "scrolled": true
   },
   "outputs": [
    {
     "data": {
      "text/html": [
       "<div>\n",
       "<style scoped>\n",
       "    .dataframe tbody tr th:only-of-type {\n",
       "        vertical-align: middle;\n",
       "    }\n",
       "\n",
       "    .dataframe tbody tr th {\n",
       "        vertical-align: top;\n",
       "    }\n",
       "\n",
       "    .dataframe thead th {\n",
       "        text-align: right;\n",
       "    }\n",
       "</style>\n",
       "<table border=\"1\" class=\"dataframe\">\n",
       "  <thead>\n",
       "    <tr style=\"text-align: right;\">\n",
       "      <th></th>\n",
       "      <th>qid</th>\n",
       "      <th>question_text</th>\n",
       "      <th>target</th>\n",
       "      <th>length</th>\n",
       "      <th>capitals</th>\n",
       "      <th>caps_vs_length</th>\n",
       "      <th>num_words</th>\n",
       "      <th>num_unique_words</th>\n",
       "      <th>words_vs_unique</th>\n",
       "      <th>num_exclamation_marks</th>\n",
       "      <th>num_question_marks</th>\n",
       "      <th>num_punctuation</th>\n",
       "      <th>num_symbols</th>\n",
       "      <th>processed_text</th>\n",
       "      <th>len_after</th>\n",
       "      <th>num_words_after</th>\n",
       "      <th>len_ratio</th>\n",
       "      <th>num_words_ratio</th>\n",
       "    </tr>\n",
       "  </thead>\n",
       "  <tbody>\n",
       "    <tr>\n",
       "      <th>0</th>\n",
       "      <td>5ac62fd1a008d53a3fcf</td>\n",
       "      <td>Can hypnosis help me change some details on a ...</td>\n",
       "      <td>0</td>\n",
       "      <td>63</td>\n",
       "      <td>1</td>\n",
       "      <td>0.015873</td>\n",
       "      <td>13</td>\n",
       "      <td>13</td>\n",
       "      <td>1.000000</td>\n",
       "      <td>0</td>\n",
       "      <td>1</td>\n",
       "      <td>0</td>\n",
       "      <td>0</td>\n",
       "      <td>hypnosis help change detail time past</td>\n",
       "      <td>37</td>\n",
       "      <td>6</td>\n",
       "      <td>1.0</td>\n",
       "      <td>2.0</td>\n",
       "    </tr>\n",
       "    <tr>\n",
       "      <th>1</th>\n",
       "      <td>fbc1953919783efd640d</td>\n",
       "      <td>Why does cyclones spin clock wise in the sourt...</td>\n",
       "      <td>0</td>\n",
       "      <td>106</td>\n",
       "      <td>1</td>\n",
       "      <td>0.009434</td>\n",
       "      <td>15</td>\n",
       "      <td>13</td>\n",
       "      <td>0.866667</td>\n",
       "      <td>0</td>\n",
       "      <td>1</td>\n",
       "      <td>0</td>\n",
       "      <td>0</td>\n",
       "      <td>cyclone spin clock wise sourthernhemisphere an...</td>\n",
       "      <td>77</td>\n",
       "      <td>8</td>\n",
       "      <td>1.0</td>\n",
       "      <td>1.0</td>\n",
       "    </tr>\n",
       "    <tr>\n",
       "      <th>2</th>\n",
       "      <td>c12f98f80faea947d8a5</td>\n",
       "      <td>To get better at anything you do, do you have ...</td>\n",
       "      <td>0</td>\n",
       "      <td>67</td>\n",
       "      <td>1</td>\n",
       "      <td>0.014925</td>\n",
       "      <td>13</td>\n",
       "      <td>11</td>\n",
       "      <td>0.846154</td>\n",
       "      <td>0</td>\n",
       "      <td>1</td>\n",
       "      <td>1</td>\n",
       "      <td>0</td>\n",
       "      <td>get well anything get uncomfortable</td>\n",
       "      <td>35</td>\n",
       "      <td>5</td>\n",
       "      <td>1.0</td>\n",
       "      <td>2.0</td>\n",
       "    </tr>\n",
       "    <tr>\n",
       "      <th>3</th>\n",
       "      <td>b1c1129198cbc04c5968</td>\n",
       "      <td>Except for retirement, what are the reasons to...</td>\n",
       "      <td>0</td>\n",
       "      <td>63</td>\n",
       "      <td>1</td>\n",
       "      <td>0.015873</td>\n",
       "      <td>11</td>\n",
       "      <td>11</td>\n",
       "      <td>1.000000</td>\n",
       "      <td>0</td>\n",
       "      <td>1</td>\n",
       "      <td>1</td>\n",
       "      <td>0</td>\n",
       "      <td>except retirement reason save money</td>\n",
       "      <td>35</td>\n",
       "      <td>5</td>\n",
       "      <td>1.0</td>\n",
       "      <td>2.0</td>\n",
       "    </tr>\n",
       "    <tr>\n",
       "      <th>4</th>\n",
       "      <td>4920246317856d8814de</td>\n",
       "      <td>Why does talking about sex make some people fe...</td>\n",
       "      <td>0</td>\n",
       "      <td>63</td>\n",
       "      <td>1</td>\n",
       "      <td>0.015873</td>\n",
       "      <td>10</td>\n",
       "      <td>10</td>\n",
       "      <td>1.000000</td>\n",
       "      <td>0</td>\n",
       "      <td>1</td>\n",
       "      <td>0</td>\n",
       "      <td>0</td>\n",
       "      <td>talk sex make people feel uncomfortable</td>\n",
       "      <td>39</td>\n",
       "      <td>6</td>\n",
       "      <td>1.0</td>\n",
       "      <td>1.0</td>\n",
       "    </tr>\n",
       "  </tbody>\n",
       "</table>\n",
       "</div>"
      ],
      "text/plain": [
       "                    qid                                      question_text  \\\n",
       "0  5ac62fd1a008d53a3fcf  Can hypnosis help me change some details on a ...   \n",
       "1  fbc1953919783efd640d  Why does cyclones spin clock wise in the sourt...   \n",
       "2  c12f98f80faea947d8a5  To get better at anything you do, do you have ...   \n",
       "3  b1c1129198cbc04c5968  Except for retirement, what are the reasons to...   \n",
       "4  4920246317856d8814de  Why does talking about sex make some people fe...   \n",
       "\n",
       "   target  length  capitals  caps_vs_length  num_words  num_unique_words  \\\n",
       "0       0      63         1        0.015873         13                13   \n",
       "1       0     106         1        0.009434         15                13   \n",
       "2       0      67         1        0.014925         13                11   \n",
       "3       0      63         1        0.015873         11                11   \n",
       "4       0      63         1        0.015873         10                10   \n",
       "\n",
       "   words_vs_unique  num_exclamation_marks  num_question_marks  \\\n",
       "0         1.000000                      0                   1   \n",
       "1         0.866667                      0                   1   \n",
       "2         0.846154                      0                   1   \n",
       "3         1.000000                      0                   1   \n",
       "4         1.000000                      0                   1   \n",
       "\n",
       "   num_punctuation  num_symbols  \\\n",
       "0                0            0   \n",
       "1                0            0   \n",
       "2                1            0   \n",
       "3                1            0   \n",
       "4                0            0   \n",
       "\n",
       "                                      processed_text  len_after  \\\n",
       "0              hypnosis help change detail time past         37   \n",
       "1  cyclone spin clock wise sourthernhemisphere an...         77   \n",
       "2                get well anything get uncomfortable         35   \n",
       "3                except retirement reason save money         35   \n",
       "4            talk sex make people feel uncomfortable         39   \n",
       "\n",
       "   num_words_after  len_ratio  num_words_ratio  \n",
       "0                6        1.0              2.0  \n",
       "1                8        1.0              1.0  \n",
       "2                5        1.0              2.0  \n",
       "3                5        1.0              2.0  \n",
       "4                6        1.0              1.0  "
      ]
     },
     "execution_count": 11,
     "metadata": {},
     "output_type": "execute_result"
    }
   ],
   "source": [
    "subset = pd.concat([sincere_df_subset, insincere_df],0)\n",
    "subset = subset.drop(['index'],1)\n",
    "subset.head()"
   ]
  },
  {
   "cell_type": "code",
   "execution_count": 12,
   "metadata": {},
   "outputs": [
    {
     "data": {
      "text/plain": [
       "(240810, 18)"
      ]
     },
     "execution_count": 12,
     "metadata": {},
     "output_type": "execute_result"
    }
   ],
   "source": [
    "subset.shape"
   ]
  },
  {
   "cell_type": "code",
   "execution_count": 13,
   "metadata": {},
   "outputs": [
    {
     "data": {
      "text/plain": [
       "((168567,), (168567,), (72243,), (72243,))"
      ]
     },
     "execution_count": 13,
     "metadata": {},
     "output_type": "execute_result"
    }
   ],
   "source": [
    "#split the data\n",
    "X = subset.processed_text\n",
    "y = subset.target\n",
    "\n",
    "\n",
    "X_train, X_test, y_train, y_test = train_test_split(X, y, test_size=0.3, random_state=6)\n",
    "X_train.shape, y_train.shape, X_test.shape, y_test.shape"
   ]
  },
  {
   "cell_type": "markdown",
   "metadata": {},
   "source": [
    "## Logistic Regression"
   ]
  },
  {
   "cell_type": "code",
   "execution_count": 14,
   "metadata": {},
   "outputs": [
    {
     "name": "stderr",
     "output_type": "stream",
     "text": [
      "/anaconda3/lib/python3.7/site-packages/sklearn/linear_model/logistic.py:433: FutureWarning: Default solver will be changed to 'lbfgs' in 0.22. Specify a solver to silence this warning.\n",
      "  FutureWarning)\n"
     ]
    },
    {
     "data": {
      "text/plain": [
       "Text(0.5,1,'Confusion Matrix')"
      ]
     },
     "execution_count": 14,
     "metadata": {},
     "output_type": "execute_result"
    },
    {
     "data": {
      "image/png": "[encoded data removed]",
      "text/plain": [
       "<Figure size 432x288 with 1 Axes>"
      ]
     },
     "metadata": {
      "needs_background": "light"
     },
     "output_type": "display_data"
    }
   ],
   "source": [
    "tf_vec = TfidfVectorizer(stop_words='english', ngram_range=(1, 3))\n",
    "lr = LogisticRegression()\n",
    "pipeline_lr = Pipeline([('tfidf', tf_vec), ('lr', lr)])\n",
    "pipeline_lr.fit(X_train, y_train)\n",
    "y_pred = pipeline_lr.predict(X_test)\n",
    "\n",
    "cm = confusion_matrix(y_test, y_pred)\n",
    "\n",
    "ax = plt.gca()\n",
    "sns.heatmap(cm, cmap='Blues', cbar=False, annot=True, xticklabels=y_test.unique(), yticklabels=y_test.unique(), ax=ax)\n",
    "ax.set_xlabel('y_pred')\n",
    "ax.set_ylabel('y_true')\n",
    "ax.set_title('Confusion Matrix')"
   ]
  },
  {
   "cell_type": "code",
   "execution_count": 15,
   "metadata": {},
   "outputs": [
    {
     "name": "stdout",
     "output_type": "stream",
     "text": [
      "              precision    recall  f1-score   support\n",
      "\n",
      "           0       0.92      0.87      0.90     48081\n",
      "           1       0.77      0.86      0.81     24162\n",
      "\n",
      "   micro avg       0.87      0.87      0.87     72243\n",
      "   macro avg       0.85      0.87      0.86     72243\n",
      "weighted avg       0.87      0.87      0.87     72243\n",
      "\n"
     ]
    }
   ],
   "source": [
    "print(classification_report(y_test, y_pred))"
   ]
  },
  {
   "cell_type": "code",
   "execution_count": 16,
   "metadata": {
    "scrolled": true
   },
   "outputs": [
    {
     "name": "stdout",
     "output_type": "stream",
     "text": [
      "The best threshold is 0.4999999999999998, with an F1 score of 0.8134085654950823\n"
     ]
    }
   ],
   "source": [
    "y_prob = pipeline_lr.predict_proba(X_test)\n",
    "from sklearn.metrics import f1_score\n",
    "best_threshold = 0\n",
    "f1=0\n",
    "for i in np.arange(.1, .51, 0.01):\n",
    "    y_pred = [1 if proba>i else 0 for proba in y_prob[:, 1]]\n",
    "    f1score = f1_score(y_pred, y_test)\n",
    "    if f1score>f1:\n",
    "        best_threshold = i\n",
    "        f1=f1score\n",
    "        \n",
    "y_pred = [1 if proba>best_threshold else 0 for proba in y_prob[:, 1]]\n",
    "f1 = f1_score(y_test, y_pred)\n",
    "print('The best threshold is {}, with an F1 score of {}'.format(best_threshold, f1))"
   ]
  },
  {
   "cell_type": "code",
   "execution_count": 17,
   "metadata": {
    "scrolled": false
   },
   "outputs": [
    {
     "data": {
      "text/plain": [
       "Text(0.5,0,'False Positive Rate')"
      ]
     },
     "execution_count": 17,
     "metadata": {},
     "output_type": "execute_result"
    },
    {
     "data": {
      "image/png": "[encoded data removed]",
      "text/plain": [
       "<Figure size 1080x576 with 2 Axes>"
      ]
     },
     "metadata": {
      "needs_background": "light"
     },
     "output_type": "display_data"
    }
   ],
   "source": [
    "fig, (ax1,ax2) = plt.subplots(nrows=1, ncols=2, figsize=(15,8))\n",
    "\n",
    "precision, recall, _ = precision_recall_curve(y_test, y_pred)\n",
    "\n",
    "step_kwargs = ({'step': 'post'} if 'step' in signature(plt.fill_between).parameters else {})\n",
    "\n",
    "ax1.step(recall, precision, color='b', alpha=0.2,where='post')\n",
    "ax1.fill_between(recall, precision, alpha=0.2, color='b', **step_kwargs)\n",
    "ax1.set_xlabel('Recall')\n",
    "ax1.set_ylabel('Precision')\n",
    "ax1.set_ylim([0.0, 1.05])\n",
    "ax1.set_xlim([0.0, 1.0])\n",
    "ax1.set_title('Precision-Recall curve')\n",
    "\n",
    "fpr, tpr, threshold = metrics.roc_curve(y_test, y_pred)\n",
    "roc_auc = metrics.auc(fpr, tpr)\n",
    "\n",
    "ax2.set_title('Receiver Operating Characteristic')\n",
    "ax2.plot(fpr, tpr, 'b', label = 'AUC = %0.2f' % roc_auc)\n",
    "ax2.legend(loc = 'lower right')\n",
    "ax2.plot([0, 1], [0, 1],'r--')\n",
    "ax2.set_xlim([0, 1])\n",
    "ax2.set_ylim([0, 1])\n",
    "ax2.set_ylabel('True Positive Rate')\n",
    "ax2.set_xlabel('False Positive Rate')"
   ]
  },
  {
   "cell_type": "markdown",
   "metadata": {},
   "source": [
    "### Count vectorizer SVD"
   ]
  },
  {
   "cell_type": "code",
   "execution_count": 18,
   "metadata": {},
   "outputs": [],
   "source": [
    "count_vec = CountVectorizer(stop_words='english', ngram_range=(1, 3))\n",
    "svd = TruncatedSVD(n_components=100, random_state=6)\n",
    "tf_vec = TfidfVectorizer(stop_words='english')"
   ]
  },
  {
   "cell_type": "code",
   "execution_count": 19,
   "metadata": {},
   "outputs": [
    {
     "data": {
      "image/png": "[encoded data removed]",
      "text/plain": [
       "<Figure size 1296x2160 with 20 Axes>"
      ]
     },
     "metadata": {
      "needs_background": "light"
     },
     "output_type": "display_data"
    }
   ],
   "source": [
    "pipeline = Pipeline([('vectorizer', count_vec),('svd', svd)])\n",
    "model = pipeline.fit_transform(X_train)\n",
    "\n",
    "components = pd.DataFrame(data=svd.components_, columns=pipeline.named_steps['vectorizer'].get_feature_names())\n",
    "\n",
    "fig, axes = plt.subplots(10, 2, figsize=(18, 30))\n",
    "for i, ax in enumerate(axes.flat):\n",
    "    components.iloc[i].sort_values(ascending=False)[:10].sort_values().plot.barh(ax=ax)\n",
    "    "
   ]
  },
  {
   "cell_type": "markdown",
   "metadata": {},
   "source": [
    "## Naive Bayes"
   ]
  },
  {
   "cell_type": "code",
   "execution_count": 20,
   "metadata": {},
   "outputs": [
    {
     "data": {
      "text/html": [
       "<div>\n",
       "<style scoped>\n",
       "    .dataframe tbody tr th:only-of-type {\n",
       "        vertical-align: middle;\n",
       "    }\n",
       "\n",
       "    .dataframe tbody tr th {\n",
       "        vertical-align: top;\n",
       "    }\n",
       "\n",
       "    .dataframe thead th {\n",
       "        text-align: right;\n",
       "    }\n",
       "</style>\n",
       "<table border=\"1\" class=\"dataframe\">\n",
       "  <thead>\n",
       "    <tr style=\"text-align: right;\">\n",
       "      <th></th>\n",
       "      <th>sincere</th>\n",
       "      <th>insincere</th>\n",
       "    </tr>\n",
       "  </thead>\n",
       "  <tbody>\n",
       "    <tr>\n",
       "      <th>sincere</th>\n",
       "      <td>43457</td>\n",
       "      <td>4624</td>\n",
       "    </tr>\n",
       "    <tr>\n",
       "      <th>insincere</th>\n",
       "      <td>5709</td>\n",
       "      <td>18453</td>\n",
       "    </tr>\n",
       "  </tbody>\n",
       "</table>\n",
       "</div>"
      ],
      "text/plain": [
       "           sincere  insincere\n",
       "sincere      43457       4624\n",
       "insincere     5709      18453"
      ]
     },
     "execution_count": 20,
     "metadata": {},
     "output_type": "execute_result"
    }
   ],
   "source": [
    "mb = MultinomialNB()\n",
    "pipeline_mb = Pipeline([ ('vectorizer', tf_vec), ('mb', mb)])\n",
    "\n",
    "pipeline_mb.fit(X_train, y_train)\n",
    "y_pred = pipeline_mb.predict(X_test)\n",
    "cm = confusion_matrix(y_test, y_pred)\n",
    "labels = ['sincere', 'insincere']\n",
    "df_cm = pd.DataFrame(cm, columns=labels, index=labels)\n",
    "df_cm"
   ]
  },
  {
   "cell_type": "code",
   "execution_count": 21,
   "metadata": {},
   "outputs": [
    {
     "name": "stdout",
     "output_type": "stream",
     "text": [
      "              precision    recall  f1-score   support\n",
      "\n",
      "           0       0.88      0.90      0.89     48081\n",
      "           1       0.80      0.76      0.78     24162\n",
      "\n",
      "   micro avg       0.86      0.86      0.86     72243\n",
      "   macro avg       0.84      0.83      0.84     72243\n",
      "weighted avg       0.86      0.86      0.86     72243\n",
      "\n"
     ]
    }
   ],
   "source": [
    "score = cross_val_score(pipeline_mb, X_test, y=y_test, cv=3, scoring='f1_macro')\n",
    "print(classification_report(y_test, y_pred))"
   ]
  },
  {
   "cell_type": "code",
   "execution_count": 22,
   "metadata": {},
   "outputs": [
    {
     "data": {
      "text/plain": [
       "Text(0.5,0,'False Positive Rate')"
      ]
     },
     "execution_count": 22,
     "metadata": {},
     "output_type": "execute_result"
    },
    {
     "data": {
      "image/png": "[encoded data removed]",
      "text/plain": [
       "<Figure size 1080x576 with 2 Axes>"
      ]
     },
     "metadata": {
      "needs_background": "light"
     },
     "output_type": "display_data"
    }
   ],
   "source": [
    "fig, (ax1,ax2) = plt.subplots(nrows=1, ncols=2, figsize=(15,8))\n",
    "\n",
    "precision, recall, _ = precision_recall_curve(y_test, y_pred)\n",
    "\n",
    "step_kwargs = ({'step': 'post'} if 'step' in signature(plt.fill_between).parameters else {})\n",
    "\n",
    "ax1.step(recall, precision, color='b', alpha=0.2,where='post')\n",
    "ax1.fill_between(recall, precision, alpha=0.2, color='b', **step_kwargs)\n",
    "ax1.set_xlabel('Recall')\n",
    "ax1.set_ylabel('Precision')\n",
    "ax1.set_ylim([0.0, 1.05])\n",
    "ax1.set_xlim([0.0, 1.0])\n",
    "ax1.set_title('Precision-Recall curve')\n",
    "\n",
    "fpr, tpr, threshold = metrics.roc_curve(y_test, y_pred)\n",
    "roc_auc = metrics.auc(fpr, tpr)\n",
    "\n",
    "ax2.set_title('Receiver Operating Characteristic')\n",
    "ax2.plot(fpr, tpr, 'b', label = 'AUC = %0.2f' % roc_auc)\n",
    "ax2.legend(loc = 'lower right')\n",
    "ax2.plot([0, 1], [0, 1],'r--')\n",
    "ax2.set_xlim([0, 1])\n",
    "ax2.set_ylim([0, 1])\n",
    "ax2.set_ylabel('True Positive Rate')\n",
    "ax2.set_xlabel('False Positive Rate')"
   ]
  },
  {
   "cell_type": "markdown",
   "metadata": {},
   "source": [
    "## KNN"
   ]
  },
  {
   "cell_type": "code",
   "execution_count": 23,
   "metadata": {},
   "outputs": [
    {
     "data": {
      "text/html": [
       "<div>\n",
       "<style scoped>\n",
       "    .dataframe tbody tr th:only-of-type {\n",
       "        vertical-align: middle;\n",
       "    }\n",
       "\n",
       "    .dataframe tbody tr th {\n",
       "        vertical-align: top;\n",
       "    }\n",
       "\n",
       "    .dataframe thead th {\n",
       "        text-align: right;\n",
       "    }\n",
       "</style>\n",
       "<table border=\"1\" class=\"dataframe\">\n",
       "  <thead>\n",
       "    <tr style=\"text-align: right;\">\n",
       "      <th></th>\n",
       "      <th>sincere</th>\n",
       "      <th>insincere</th>\n",
       "    </tr>\n",
       "  </thead>\n",
       "  <tbody>\n",
       "    <tr>\n",
       "      <th>sincere</th>\n",
       "      <td>46428</td>\n",
       "      <td>1653</td>\n",
       "    </tr>\n",
       "    <tr>\n",
       "      <th>insincere</th>\n",
       "      <td>18302</td>\n",
       "      <td>5860</td>\n",
       "    </tr>\n",
       "  </tbody>\n",
       "</table>\n",
       "</div>"
      ],
      "text/plain": [
       "           sincere  insincere\n",
       "sincere      46428       1653\n",
       "insincere    18302       5860"
      ]
     },
     "execution_count": 23,
     "metadata": {},
     "output_type": "execute_result"
    }
   ],
   "source": [
    "knn = KNeighborsClassifier()\n",
    "pipeline_knn = Pipeline([ ('vectorizer', tf_vec), ('mb', knn)])\n",
    "\n",
    "pipeline_knn.fit(X_train, y_train)\n",
    "y_pred = pipeline_knn.predict(X_test)\n",
    "cm = confusion_matrix(y_test, y_pred)\n",
    "labels = ['sincere', 'insincere']\n",
    "df_cm = pd.DataFrame(cm, columns=labels, index=labels)\n",
    "df_cm"
   ]
  },
  {
   "cell_type": "code",
   "execution_count": 24,
   "metadata": {},
   "outputs": [
    {
     "name": "stdout",
     "output_type": "stream",
     "text": [
      "              precision    recall  f1-score   support\n",
      "\n",
      "           0       0.72      0.97      0.82     48081\n",
      "           1       0.78      0.24      0.37     24162\n",
      "\n",
      "   micro avg       0.72      0.72      0.72     72243\n",
      "   macro avg       0.75      0.60      0.60     72243\n",
      "weighted avg       0.74      0.72      0.67     72243\n",
      "\n"
     ]
    }
   ],
   "source": [
    "score = cross_val_score(pipeline_mb, X_test, y=y_test, cv=3, scoring='f1_macro')\n",
    "print(classification_report(y_test, y_pred))"
   ]
  },
  {
   "cell_type": "code",
   "execution_count": 25,
   "metadata": {},
   "outputs": [
    {
     "data": {
      "text/plain": [
       "Text(0.5,0,'False Positive Rate')"
      ]
     },
     "execution_count": 25,
     "metadata": {},
     "output_type": "execute_result"
    },
    {
     "data": {
      "image/png": "[encoded data removed]",
      "text/plain": [
       "<Figure size 1080x576 with 2 Axes>"
      ]
     },
     "metadata": {
      "needs_background": "light"
     },
     "output_type": "display_data"
    }
   ],
   "source": [
    "fig, (ax1,ax2) = plt.subplots(nrows=1, ncols=2, figsize=(15,8))\n",
    "\n",
    "precision, recall, _ = precision_recall_curve(y_test, y_pred)\n",
    "\n",
    "step_kwargs = ({'step': 'post'} if 'step' in signature(plt.fill_between).parameters else {})\n",
    "\n",
    "ax1.step(recall, precision, color='b', alpha=0.2,where='post')\n",
    "ax1.fill_between(recall, precision, alpha=0.2, color='b', **step_kwargs)\n",
    "ax1.set_xlabel('Recall')\n",
    "ax1.set_ylabel('Precision')\n",
    "ax1.set_ylim([0.0, 1.05])\n",
    "ax1.set_xlim([0.0, 1.0])\n",
    "ax1.set_title('Precision-Recall curve')\n",
    "\n",
    "fpr, tpr, threshold = metrics.roc_curve(y_test, y_pred)\n",
    "roc_auc = metrics.auc(fpr, tpr)\n",
    "\n",
    "ax2.set_title('Receiver Operating Characteristic')\n",
    "ax2.plot(fpr, tpr, 'b', label = 'AUC = %0.2f' % roc_auc)\n",
    "ax2.legend(loc = 'lower right')\n",
    "ax2.plot([0, 1], [0, 1],'r--')\n",
    "ax2.set_xlim([0, 1])\n",
    "ax2.set_ylim([0, 1])\n",
    "ax2.set_ylabel('True Positive Rate')\n",
    "ax2.set_xlabel('False Positive Rate')"
   ]
  },
  {
   "cell_type": "markdown",
   "metadata": {},
   "source": [
    "## XGb"
   ]
  },
  {
   "cell_type": "code",
   "execution_count": 26,
   "metadata": {},
   "outputs": [
    {
     "data": {
      "text/html": [
       "<div>\n",
       "<style scoped>\n",
       "    .dataframe tbody tr th:only-of-type {\n",
       "        vertical-align: middle;\n",
       "    }\n",
       "\n",
       "    .dataframe tbody tr th {\n",
       "        vertical-align: top;\n",
       "    }\n",
       "\n",
       "    .dataframe thead th {\n",
       "        text-align: right;\n",
       "    }\n",
       "</style>\n",
       "<table border=\"1\" class=\"dataframe\">\n",
       "  <thead>\n",
       "    <tr style=\"text-align: right;\">\n",
       "      <th></th>\n",
       "      <th>sincere</th>\n",
       "      <th>insincere</th>\n",
       "    </tr>\n",
       "  </thead>\n",
       "  <tbody>\n",
       "    <tr>\n",
       "      <th>sincere</th>\n",
       "      <td>46131</td>\n",
       "      <td>1950</td>\n",
       "    </tr>\n",
       "    <tr>\n",
       "      <th>insincere</th>\n",
       "      <td>12680</td>\n",
       "      <td>11482</td>\n",
       "    </tr>\n",
       "  </tbody>\n",
       "</table>\n",
       "</div>"
      ],
      "text/plain": [
       "           sincere  insincere\n",
       "sincere      46131       1950\n",
       "insincere    12680      11482"
      ]
     },
     "execution_count": 26,
     "metadata": {},
     "output_type": "execute_result"
    }
   ],
   "source": [
    "xgbc = xgb.XGBClassifier() \n",
    "pipeline_xgb = Pipeline([ ('vectorizer', tf_vec), ('mb', xgbc)])\n",
    "\n",
    "pipeline_xgb.fit(X_train, y_train)\n",
    "y_pred = pipeline_xgb.predict(X_test)\n",
    "cm = confusion_matrix(y_test, y_pred)\n",
    "labels = ['sincere', 'insincere']\n",
    "df_cm = pd.DataFrame(cm, columns=labels, index=labels)\n",
    "df_cm"
   ]
  },
  {
   "cell_type": "code",
   "execution_count": 27,
   "metadata": {},
   "outputs": [
    {
     "name": "stdout",
     "output_type": "stream",
     "text": [
      "              precision    recall  f1-score   support\n",
      "\n",
      "           0       0.78      0.96      0.86     48081\n",
      "           1       0.85      0.48      0.61     24162\n",
      "\n",
      "   micro avg       0.80      0.80      0.80     72243\n",
      "   macro avg       0.82      0.72      0.74     72243\n",
      "weighted avg       0.81      0.80      0.78     72243\n",
      "\n"
     ]
    }
   ],
   "source": [
    "score = cross_val_score(pipeline_xgb, X_test, y=y_test, cv=3, scoring='f1_macro')\n",
    "print(classification_report(y_test, y_pred))"
   ]
  },
  {
   "cell_type": "code",
   "execution_count": 28,
   "metadata": {},
   "outputs": [
    {
     "data": {
      "text/plain": [
       "Text(0.5,0,'False Positive Rate')"
      ]
     },
     "execution_count": 28,
     "metadata": {},
     "output_type": "execute_result"
    },
    {
     "data": {
      "image/png": "[encoded data removed]",
      "text/plain": [
       "<Figure size 1080x576 with 2 Axes>"
      ]
     },
     "metadata": {
      "needs_background": "light"
     },
     "output_type": "display_data"
    }
   ],
   "source": [
    "fig, (ax1,ax2) = plt.subplots(nrows=1, ncols=2, figsize=(15,8))\n",
    "\n",
    "precision, recall, _ = precision_recall_curve(y_test, y_pred)\n",
    "\n",
    "step_kwargs = ({'step': 'post'} if 'step' in signature(plt.fill_between).parameters else {})\n",
    "\n",
    "ax1.step(recall, precision, color='b', alpha=0.2,where='post')\n",
    "ax1.fill_between(recall, precision, alpha=0.2, color='b', **step_kwargs)\n",
    "ax1.set_xlabel('Recall')\n",
    "ax1.set_ylabel('Precision')\n",
    "ax1.set_ylim([0.0, 1.05])\n",
    "ax1.set_xlim([0.0, 1.0])\n",
    "ax1.set_title('Precision-Recall curve')\n",
    "\n",
    "fpr, tpr, threshold = metrics.roc_curve(y_test, y_pred)\n",
    "roc_auc = metrics.auc(fpr, tpr)\n",
    "\n",
    "ax2.set_title('Receiver Operating Characteristic')\n",
    "ax2.plot(fpr, tpr, 'b', label = 'AUC = %0.2f' % roc_auc)\n",
    "ax2.legend(loc = 'lower right')\n",
    "ax2.plot([0, 1], [0, 1],'r--')\n",
    "ax2.set_xlim([0, 1])\n",
    "ax2.set_ylim([0, 1])\n",
    "ax2.set_ylabel('True Positive Rate')\n",
    "ax2.set_xlabel('False Positive Rate')"
   ]
  },
  {
   "cell_type": "markdown",
   "metadata": {},
   "source": [
    "## Word2Vec"
   ]
  },
  {
   "cell_type": "code",
   "execution_count": 29,
   "metadata": {},
   "outputs": [
    {
     "name": "stderr",
     "output_type": "stream",
     "text": [
      "Pandas Apply: 100%|██████████| 240810/240810 [00:04<00:00, 58295.06it/s]\n"
     ]
    }
   ],
   "source": [
    "def text_preprocess(text):\n",
    "    text = text.lower() \n",
    "    text = re.sub('[^a-zA-Z]', ' ', text) \n",
    "    text = re.sub(r'\\s+', ' ', text)\n",
    "    return text\n",
    "\n",
    "q_text = subset.question_text.swifter.apply(text_preprocess)"
   ]
  },
  {
   "cell_type": "code",
   "execution_count": 30,
   "metadata": {},
   "outputs": [],
   "source": [
    "all_words = [nltk.word_tokenize(sent) for sent in q_text]"
   ]
  },
  {
   "cell_type": "code",
   "execution_count": 31,
   "metadata": {},
   "outputs": [],
   "source": [
    "word2vec = Word2Vec(all_words, min_count=2)  \n",
    "vocabulary = word2vec.wv.vocab"
   ]
  },
  {
   "cell_type": "code",
   "execution_count": 32,
   "metadata": {},
   "outputs": [
    {
     "data": {
      "text/plain": [
       "[('borderline', 0.7583668828010559),\n",
       " ('manipulative', 0.7579392194747925),\n",
       " ('passive', 0.7270898818969727),\n",
       " ('hurtful', 0.7119739055633545),\n",
       " ('egotistical', 0.7103731036186218),\n",
       " ('materialistic', 0.7026214599609375),\n",
       " ('unsatisfactory', 0.6978661417961121),\n",
       " ('loneliness', 0.6968875527381897),\n",
       " ('rhyme', 0.6961944103240967),\n",
       " ('abnormal', 0.6947051882743835)]"
      ]
     },
     "execution_count": 32,
     "metadata": {},
     "output_type": "execute_result"
    }
   ],
   "source": [
    "word2vec.wv.most_similar('toxic')"
   ]
  },
  {
   "cell_type": "code",
   "execution_count": 33,
   "metadata": {},
   "outputs": [
    {
     "data": {
      "text/plain": [
       "[('unanswered', 0.828280508518219),\n",
       " ('nonsensical', 0.8214545249938965),\n",
       " ('thinly', 0.8208191990852356),\n",
       " ('factual', 0.8206750154495239),\n",
       " ('idiotic', 0.8139907121658325),\n",
       " ('lame', 0.8119657635688782),\n",
       " ('upvote', 0.8069602251052856),\n",
       " ('anonymously', 0.8056206107139587),\n",
       " ('flagging', 0.8045205473899841),\n",
       " ('anonymous', 0.8027613759040833)]"
      ]
     },
     "execution_count": 33,
     "metadata": {},
     "output_type": "execute_result"
    }
   ],
   "source": [
    "word2vec.wv.most_similar('insincere')"
   ]
  },
  {
   "cell_type": "code",
   "execution_count": 34,
   "metadata": {},
   "outputs": [
    {
     "data": {
      "text/plain": [
       "[('bigots', 0.6601197719573975),\n",
       " ('racists', 0.6496767997741699),\n",
       " ('racism', 0.6474902629852295),\n",
       " ('selfish', 0.6423566341400146),\n",
       " ('bigoted', 0.640907883644104),\n",
       " ('christian', 0.63759446144104),\n",
       " ('sexist', 0.6360123157501221),\n",
       " ('evil', 0.6342980265617371),\n",
       " ('hypocritical', 0.6287550926208496),\n",
       " ('hateful', 0.6236812472343445)]"
      ]
     },
     "execution_count": 34,
     "metadata": {},
     "output_type": "execute_result"
    }
   ],
   "source": [
    "word2vec.wv.most_similar('racist')"
   ]
  },
  {
   "cell_type": "code",
   "execution_count": 81,
   "metadata": {},
   "outputs": [],
   "source": [
    "wordvec=word2vec.wv"
   ]
  },
  {
   "cell_type": "code",
   "execution_count": 82,
   "metadata": {},
   "outputs": [],
   "source": [
    "def word_averaging(wordvec, words):\n",
    "    all_words, mean = set(), []\n",
    "    \n",
    "    for word in words:\n",
    "        if isinstance(word, np.ndarray):\n",
    "            mean.append(word)\n",
    "        elif word in wordvec.vocab:\n",
    "            mean.append(wordvec.syn0norm[wordvec.vocab[word].index])\n",
    "            all_words.add(wordvec.vocab[word].index)\n",
    "\n",
    "    #if not mean:\n",
    "       # logging.warning(\"cannot compute similarity with no input %s\", words)\n",
    "        # FIXME: remove these examples in pre-processing\n",
    "       # return np.zeros(wv.vector_size,)\n",
    "\n",
    "    mean = gensim.matutils.unitvec(np.array(mean).mean(axis=0)).astype(np.float32)\n",
    "    return mean\n",
    "\n",
    "def  word_averaging_list(wordvec, text_list):\n",
    "    return np.vstack([word_averaging(wordvec, post) for post in text_list ])\n",
    "\n",
    "def w2v_tokenize_text(text):\n",
    "    tokens = []\n",
    "    for sent in nltk.sent_tokenize(text, language='english'):\n",
    "        for word in nltk.word_tokenize(sent, language='english'):\n",
    "            if len(word) < 2:\n",
    "                continue\n",
    "            tokens.append(word)\n",
    "    return tokens"
   ]
  },
  {
   "cell_type": "code",
   "execution_count": 74,
   "metadata": {},
   "outputs": [
    {
     "name": "stderr",
     "output_type": "stream",
     "text": [
      "Pandas Apply: 100%|██████████| 240810/240810 [00:03<00:00, 63468.93it/s]\n",
      "/anaconda3/lib/python3.7/site-packages/pandas/core/generic.py:4405: SettingWithCopyWarning: \n",
      "A value is trying to be set on a copy of a slice from a DataFrame.\n",
      "Try using .loc[row_indexer,col_indexer] = value instead\n",
      "\n",
      "See the caveats in the documentation: http://pandas.pydata.org/pandas-docs/stable/indexing.html#indexing-view-versus-copy\n",
      "  self[name] = value\n"
     ]
    }
   ],
   "source": [
    "word2vec_subset = subset[['question_text', 'target']]\n",
    "word2vec_subset.question_text = word2vec_subset.question_text.swifter.apply(text_preprocess)"
   ]
  },
  {
   "cell_type": "code",
   "execution_count": 75,
   "metadata": {},
   "outputs": [],
   "source": [
    "train, test = train_test_split(word2vec_subset, test_size=0.3, random_state = 6)\n",
    "\n",
    "test_tokenized = test.apply(lambda r: w2v_tokenize_text(r['question_text']), axis=1).values\n",
    "train_tokenized = train.apply(lambda r: w2v_tokenize_text(r['question_text']), axis=1).values"
   ]
  },
  {
   "cell_type": "code",
   "execution_count": 83,
   "metadata": {},
   "outputs": [
    {
     "name": "stderr",
     "output_type": "stream",
     "text": [
      "/anaconda3/lib/python3.7/site-packages/ipykernel_launcher.py:8: DeprecationWarning: Call to deprecated `syn0norm` (Attribute will be removed in 4.0.0, use self.vectors_norm instead).\n",
      "  \n",
      "/anaconda3/lib/python3.7/site-packages/ipykernel_launcher.py:16: RuntimeWarning: Mean of empty slice.\n",
      "  app.launch_new_instance()\n",
      "/anaconda3/lib/python3.7/site-packages/numpy/core/_methods.py:85: RuntimeWarning: invalid value encountered in double_scalars\n",
      "  ret = ret.dtype.type(ret / rcount)\n"
     ]
    },
    {
     "ename": "TypeError",
     "evalue": "'numpy.float64' object is not iterable",
     "output_type": "error",
     "traceback": [
      "\u001b[0;31m---------------------------------------------------------------------------\u001b[0m",
      "\u001b[0;31mTypeError\u001b[0m                                 Traceback (most recent call last)",
      "\u001b[0;32m<ipython-input-83-cd6174972c46>\u001b[0m in \u001b[0;36m<module>\u001b[0;34m()\u001b[0m\n\u001b[0;32m----> 1\u001b[0;31m \u001b[0mX_train_word_average\u001b[0m \u001b[0;34m=\u001b[0m \u001b[0mword_averaging_list\u001b[0m\u001b[0;34m(\u001b[0m\u001b[0mwordvec\u001b[0m\u001b[0;34m,\u001b[0m\u001b[0mtrain_tokenized\u001b[0m\u001b[0;34m)\u001b[0m\u001b[0;34m\u001b[0m\u001b[0;34m\u001b[0m\u001b[0m\n\u001b[0m\u001b[1;32m      2\u001b[0m \u001b[0mX_test_word_average\u001b[0m \u001b[0;34m=\u001b[0m \u001b[0mword_averaging_list\u001b[0m\u001b[0;34m(\u001b[0m\u001b[0mwordvec\u001b[0m\u001b[0;34m,\u001b[0m\u001b[0mtest_tokenized\u001b[0m\u001b[0;34m)\u001b[0m\u001b[0;34m\u001b[0m\u001b[0;34m\u001b[0m\u001b[0m\n",
      "\u001b[0;32m<ipython-input-82-21171e58526c>\u001b[0m in \u001b[0;36mword_averaging_list\u001b[0;34m(wordvec, text_list)\u001b[0m\n\u001b[1;32m     18\u001b[0m \u001b[0;34m\u001b[0m\u001b[0m\n\u001b[1;32m     19\u001b[0m \u001b[0;32mdef\u001b[0m  \u001b[0mword_averaging_list\u001b[0m\u001b[0;34m(\u001b[0m\u001b[0mwordvec\u001b[0m\u001b[0;34m,\u001b[0m \u001b[0mtext_list\u001b[0m\u001b[0;34m)\u001b[0m\u001b[0;34m:\u001b[0m\u001b[0;34m\u001b[0m\u001b[0;34m\u001b[0m\u001b[0m\n\u001b[0;32m---> 20\u001b[0;31m     \u001b[0;32mreturn\u001b[0m \u001b[0mnp\u001b[0m\u001b[0;34m.\u001b[0m\u001b[0mvstack\u001b[0m\u001b[0;34m(\u001b[0m\u001b[0;34m[\u001b[0m\u001b[0mword_averaging\u001b[0m\u001b[0;34m(\u001b[0m\u001b[0mwordvec\u001b[0m\u001b[0;34m,\u001b[0m \u001b[0mpost\u001b[0m\u001b[0;34m)\u001b[0m \u001b[0;32mfor\u001b[0m \u001b[0mpost\u001b[0m \u001b[0;32min\u001b[0m \u001b[0mtext_list\u001b[0m \u001b[0;34m]\u001b[0m\u001b[0;34m)\u001b[0m\u001b[0;34m\u001b[0m\u001b[0;34m\u001b[0m\u001b[0m\n\u001b[0m\u001b[1;32m     21\u001b[0m \u001b[0;34m\u001b[0m\u001b[0m\n\u001b[1;32m     22\u001b[0m \u001b[0;32mdef\u001b[0m \u001b[0mw2v_tokenize_text\u001b[0m\u001b[0;34m(\u001b[0m\u001b[0mtext\u001b[0m\u001b[0;34m)\u001b[0m\u001b[0;34m:\u001b[0m\u001b[0;34m\u001b[0m\u001b[0;34m\u001b[0m\u001b[0m\n",
      "\u001b[0;32m<ipython-input-82-21171e58526c>\u001b[0m in \u001b[0;36m<listcomp>\u001b[0;34m(.0)\u001b[0m\n\u001b[1;32m     18\u001b[0m \u001b[0;34m\u001b[0m\u001b[0m\n\u001b[1;32m     19\u001b[0m \u001b[0;32mdef\u001b[0m  \u001b[0mword_averaging_list\u001b[0m\u001b[0;34m(\u001b[0m\u001b[0mwordvec\u001b[0m\u001b[0;34m,\u001b[0m \u001b[0mtext_list\u001b[0m\u001b[0;34m)\u001b[0m\u001b[0;34m:\u001b[0m\u001b[0;34m\u001b[0m\u001b[0;34m\u001b[0m\u001b[0m\n\u001b[0;32m---> 20\u001b[0;31m     \u001b[0;32mreturn\u001b[0m \u001b[0mnp\u001b[0m\u001b[0;34m.\u001b[0m\u001b[0mvstack\u001b[0m\u001b[0;34m(\u001b[0m\u001b[0;34m[\u001b[0m\u001b[0mword_averaging\u001b[0m\u001b[0;34m(\u001b[0m\u001b[0mwordvec\u001b[0m\u001b[0;34m,\u001b[0m \u001b[0mpost\u001b[0m\u001b[0;34m)\u001b[0m \u001b[0;32mfor\u001b[0m \u001b[0mpost\u001b[0m \u001b[0;32min\u001b[0m \u001b[0mtext_list\u001b[0m \u001b[0;34m]\u001b[0m\u001b[0;34m)\u001b[0m\u001b[0;34m\u001b[0m\u001b[0;34m\u001b[0m\u001b[0m\n\u001b[0m\u001b[1;32m     21\u001b[0m \u001b[0;34m\u001b[0m\u001b[0m\n\u001b[1;32m     22\u001b[0m \u001b[0;32mdef\u001b[0m \u001b[0mw2v_tokenize_text\u001b[0m\u001b[0;34m(\u001b[0m\u001b[0mtext\u001b[0m\u001b[0;34m)\u001b[0m\u001b[0;34m:\u001b[0m\u001b[0;34m\u001b[0m\u001b[0;34m\u001b[0m\u001b[0m\n",
      "\u001b[0;32m<ipython-input-82-21171e58526c>\u001b[0m in \u001b[0;36mword_averaging\u001b[0;34m(wordvec, words)\u001b[0m\n\u001b[1;32m     14\u001b[0m        \u001b[0;31m# return np.zeros(wv.vector_size,)\u001b[0m\u001b[0;34m\u001b[0m\u001b[0;34m\u001b[0m\u001b[0;34m\u001b[0m\u001b[0m\n\u001b[1;32m     15\u001b[0m \u001b[0;34m\u001b[0m\u001b[0m\n\u001b[0;32m---> 16\u001b[0;31m     \u001b[0mmean\u001b[0m \u001b[0;34m=\u001b[0m \u001b[0mgensim\u001b[0m\u001b[0;34m.\u001b[0m\u001b[0mmatutils\u001b[0m\u001b[0;34m.\u001b[0m\u001b[0munitvec\u001b[0m\u001b[0;34m(\u001b[0m\u001b[0mnp\u001b[0m\u001b[0;34m.\u001b[0m\u001b[0marray\u001b[0m\u001b[0;34m(\u001b[0m\u001b[0mmean\u001b[0m\u001b[0;34m)\u001b[0m\u001b[0;34m.\u001b[0m\u001b[0mmean\u001b[0m\u001b[0;34m(\u001b[0m\u001b[0maxis\u001b[0m\u001b[0;34m=\u001b[0m\u001b[0;36m0\u001b[0m\u001b[0;34m)\u001b[0m\u001b[0;34m)\u001b[0m\u001b[0;34m.\u001b[0m\u001b[0mastype\u001b[0m\u001b[0;34m(\u001b[0m\u001b[0mnp\u001b[0m\u001b[0;34m.\u001b[0m\u001b[0mfloat32\u001b[0m\u001b[0;34m)\u001b[0m\u001b[0;34m\u001b[0m\u001b[0;34m\u001b[0m\u001b[0m\n\u001b[0m\u001b[1;32m     17\u001b[0m     \u001b[0;32mreturn\u001b[0m \u001b[0mmean\u001b[0m\u001b[0;34m\u001b[0m\u001b[0;34m\u001b[0m\u001b[0m\n\u001b[1;32m     18\u001b[0m \u001b[0;34m\u001b[0m\u001b[0m\n",
      "\u001b[0;32m/anaconda3/lib/python3.7/site-packages/gensim/matutils.py\u001b[0m in \u001b[0;36munitvec\u001b[0;34m(vec, norm, return_norm)\u001b[0m\n\u001b[1;32m    749\u001b[0m \u001b[0;34m\u001b[0m\u001b[0m\n\u001b[1;32m    750\u001b[0m     \u001b[0;32mtry\u001b[0m\u001b[0;34m:\u001b[0m\u001b[0;34m\u001b[0m\u001b[0;34m\u001b[0m\u001b[0m\n\u001b[0;32m--> 751\u001b[0;31m         \u001b[0mfirst\u001b[0m \u001b[0;34m=\u001b[0m \u001b[0mnext\u001b[0m\u001b[0;34m(\u001b[0m\u001b[0miter\u001b[0m\u001b[0;34m(\u001b[0m\u001b[0mvec\u001b[0m\u001b[0;34m)\u001b[0m\u001b[0;34m)\u001b[0m  \u001b[0;31m# is there at least one element?\u001b[0m\u001b[0;34m\u001b[0m\u001b[0;34m\u001b[0m\u001b[0m\n\u001b[0m\u001b[1;32m    752\u001b[0m     \u001b[0;32mexcept\u001b[0m \u001b[0mStopIteration\u001b[0m\u001b[0;34m:\u001b[0m\u001b[0;34m\u001b[0m\u001b[0;34m\u001b[0m\u001b[0m\n\u001b[1;32m    753\u001b[0m         \u001b[0;32mreturn\u001b[0m \u001b[0mvec\u001b[0m\u001b[0;34m\u001b[0m\u001b[0;34m\u001b[0m\u001b[0m\n",
      "\u001b[0;31mTypeError\u001b[0m: 'numpy.float64' object is not iterable"
     ]
    }
   ],
   "source": [
    "X_train_word_average = word_averaging_list(wordvec,train_tokenized)\n",
    "X_test_word_average = word_averaging_list(wordvec,test_tokenized)"
   ]
  },
  {
   "cell_type": "code",
   "execution_count": null,
   "metadata": {},
   "outputs": [],
   "source": [
    "from sklearn.linear_model import LogisticRegression\n",
    "logreg = LogisticRegression(n_jobs=1, C=1e5)\n",
    "logreg = logreg.fit(X_train_word_average, train['tags'])\n",
    "y_pred = logreg.predict(X_test_word_average)"
   ]
  },
  {
   "cell_type": "code",
   "execution_count": null,
   "metadata": {},
   "outputs": [],
   "source": [
    "print('accuracy %s' % accuracy_score(y_pred, test.tags))\n",
    "print(classification_report(test.tags, y_pred,target_names=my_tags))"
   ]
  },
  {
   "cell_type": "code",
   "execution_count": null,
   "metadata": {},
   "outputs": [],
   "source": []
  },
  {
   "cell_type": "markdown",
   "metadata": {},
   "source": [
    "## Logistic regression with all variables"
   ]
  },
  {
   "cell_type": "code",
   "execution_count": 35,
   "metadata": {},
   "outputs": [],
   "source": [
    "subset_dropcols = subset.drop(['qid','question_text','target', 'processed_text'],1)"
   ]
  },
  {
   "cell_type": "code",
   "execution_count": 36,
   "metadata": {},
   "outputs": [],
   "source": [
    "ngram = CountVectorizer(ngram_range=(3,3), max_df=0.50, min_df= 20)\n",
    "ngram_matrix = ngram.fit_transform(subset.processed_text)\n",
    "\n",
    "ngram_matrix = ngram_matrix.toarray()\n",
    "vocab = ngram.get_feature_names()\n",
    "ngram_df = pd.DataFrame(ngram_matrix, columns=vocab)"
   ]
  },
  {
   "cell_type": "code",
   "execution_count": 37,
   "metadata": {},
   "outputs": [],
   "source": [
    "ngram_df=ngram_df.reset_index()\n",
    "subset_dropcols =subset_dropcols.reset_index()\n",
    "subset_ngram = pd.concat([subset_dropcols, ngram_df], 1)"
   ]
  },
  {
   "cell_type": "code",
   "execution_count": 38,
   "metadata": {},
   "outputs": [
    {
     "data": {
      "text/html": [
       "<div>\n",
       "<style scoped>\n",
       "    .dataframe tbody tr th:only-of-type {\n",
       "        vertical-align: middle;\n",
       "    }\n",
       "\n",
       "    .dataframe tbody tr th {\n",
       "        vertical-align: top;\n",
       "    }\n",
       "\n",
       "    .dataframe thead th {\n",
       "        text-align: right;\n",
       "    }\n",
       "</style>\n",
       "<table border=\"1\" class=\"dataframe\">\n",
       "  <thead>\n",
       "    <tr style=\"text-align: right;\">\n",
       "      <th></th>\n",
       "      <th>length</th>\n",
       "      <th>capitals</th>\n",
       "      <th>caps_vs_length</th>\n",
       "      <th>num_words</th>\n",
       "      <th>num_unique_words</th>\n",
       "      <th>words_vs_unique</th>\n",
       "      <th>num_exclamation_marks</th>\n",
       "      <th>num_question_marks</th>\n",
       "      <th>num_punctuation</th>\n",
       "      <th>num_symbols</th>\n",
       "      <th>...</th>\n",
       "      <th>would world like</th>\n",
       "      <th>year old boy</th>\n",
       "      <th>year old daughter</th>\n",
       "      <th>year old girl</th>\n",
       "      <th>year old guy</th>\n",
       "      <th>year old male</th>\n",
       "      <th>year old man</th>\n",
       "      <th>year old son</th>\n",
       "      <th>year old woman</th>\n",
       "      <th>yearold girl bore</th>\n",
       "    </tr>\n",
       "  </thead>\n",
       "  <tbody>\n",
       "    <tr>\n",
       "      <th>0</th>\n",
       "      <td>63</td>\n",
       "      <td>1</td>\n",
       "      <td>0.015873</td>\n",
       "      <td>13</td>\n",
       "      <td>13</td>\n",
       "      <td>1.000000</td>\n",
       "      <td>0</td>\n",
       "      <td>1</td>\n",
       "      <td>0</td>\n",
       "      <td>0</td>\n",
       "      <td>...</td>\n",
       "      <td>0</td>\n",
       "      <td>0</td>\n",
       "      <td>0</td>\n",
       "      <td>0</td>\n",
       "      <td>0</td>\n",
       "      <td>0</td>\n",
       "      <td>0</td>\n",
       "      <td>0</td>\n",
       "      <td>0</td>\n",
       "      <td>0</td>\n",
       "    </tr>\n",
       "    <tr>\n",
       "      <th>1</th>\n",
       "      <td>106</td>\n",
       "      <td>1</td>\n",
       "      <td>0.009434</td>\n",
       "      <td>15</td>\n",
       "      <td>13</td>\n",
       "      <td>0.866667</td>\n",
       "      <td>0</td>\n",
       "      <td>1</td>\n",
       "      <td>0</td>\n",
       "      <td>0</td>\n",
       "      <td>...</td>\n",
       "      <td>0</td>\n",
       "      <td>0</td>\n",
       "      <td>0</td>\n",
       "      <td>0</td>\n",
       "      <td>0</td>\n",
       "      <td>0</td>\n",
       "      <td>0</td>\n",
       "      <td>0</td>\n",
       "      <td>0</td>\n",
       "      <td>0</td>\n",
       "    </tr>\n",
       "    <tr>\n",
       "      <th>2</th>\n",
       "      <td>67</td>\n",
       "      <td>1</td>\n",
       "      <td>0.014925</td>\n",
       "      <td>13</td>\n",
       "      <td>11</td>\n",
       "      <td>0.846154</td>\n",
       "      <td>0</td>\n",
       "      <td>1</td>\n",
       "      <td>1</td>\n",
       "      <td>0</td>\n",
       "      <td>...</td>\n",
       "      <td>0</td>\n",
       "      <td>0</td>\n",
       "      <td>0</td>\n",
       "      <td>0</td>\n",
       "      <td>0</td>\n",
       "      <td>0</td>\n",
       "      <td>0</td>\n",
       "      <td>0</td>\n",
       "      <td>0</td>\n",
       "      <td>0</td>\n",
       "    </tr>\n",
       "    <tr>\n",
       "      <th>3</th>\n",
       "      <td>63</td>\n",
       "      <td>1</td>\n",
       "      <td>0.015873</td>\n",
       "      <td>11</td>\n",
       "      <td>11</td>\n",
       "      <td>1.000000</td>\n",
       "      <td>0</td>\n",
       "      <td>1</td>\n",
       "      <td>1</td>\n",
       "      <td>0</td>\n",
       "      <td>...</td>\n",
       "      <td>0</td>\n",
       "      <td>0</td>\n",
       "      <td>0</td>\n",
       "      <td>0</td>\n",
       "      <td>0</td>\n",
       "      <td>0</td>\n",
       "      <td>0</td>\n",
       "      <td>0</td>\n",
       "      <td>0</td>\n",
       "      <td>0</td>\n",
       "    </tr>\n",
       "    <tr>\n",
       "      <th>4</th>\n",
       "      <td>63</td>\n",
       "      <td>1</td>\n",
       "      <td>0.015873</td>\n",
       "      <td>10</td>\n",
       "      <td>10</td>\n",
       "      <td>1.000000</td>\n",
       "      <td>0</td>\n",
       "      <td>1</td>\n",
       "      <td>0</td>\n",
       "      <td>0</td>\n",
       "      <td>...</td>\n",
       "      <td>0</td>\n",
       "      <td>0</td>\n",
       "      <td>0</td>\n",
       "      <td>0</td>\n",
       "      <td>0</td>\n",
       "      <td>0</td>\n",
       "      <td>0</td>\n",
       "      <td>0</td>\n",
       "      <td>0</td>\n",
       "      <td>0</td>\n",
       "    </tr>\n",
       "  </tbody>\n",
       "</table>\n",
       "<p>5 rows × 205 columns</p>\n",
       "</div>"
      ],
      "text/plain": [
       "   length  capitals  caps_vs_length  num_words  num_unique_words  \\\n",
       "0      63         1        0.015873         13                13   \n",
       "1     106         1        0.009434         15                13   \n",
       "2      67         1        0.014925         13                11   \n",
       "3      63         1        0.015873         11                11   \n",
       "4      63         1        0.015873         10                10   \n",
       "\n",
       "   words_vs_unique  num_exclamation_marks  num_question_marks  \\\n",
       "0         1.000000                      0                   1   \n",
       "1         0.866667                      0                   1   \n",
       "2         0.846154                      0                   1   \n",
       "3         1.000000                      0                   1   \n",
       "4         1.000000                      0                   1   \n",
       "\n",
       "   num_punctuation  num_symbols        ...          would world like  \\\n",
       "0                0            0        ...                         0   \n",
       "1                0            0        ...                         0   \n",
       "2                1            0        ...                         0   \n",
       "3                1            0        ...                         0   \n",
       "4                0            0        ...                         0   \n",
       "\n",
       "   year old boy  year old daughter  year old girl  year old guy  \\\n",
       "0             0                  0              0             0   \n",
       "1             0                  0              0             0   \n",
       "2             0                  0              0             0   \n",
       "3             0                  0              0             0   \n",
       "4             0                  0              0             0   \n",
       "\n",
       "   year old male  year old man  year old son  year old woman  \\\n",
       "0              0             0             0               0   \n",
       "1              0             0             0               0   \n",
       "2              0             0             0               0   \n",
       "3              0             0             0               0   \n",
       "4              0             0             0               0   \n",
       "\n",
       "   yearold girl bore  \n",
       "0                  0  \n",
       "1                  0  \n",
       "2                  0  \n",
       "3                  0  \n",
       "4                  0  \n",
       "\n",
       "[5 rows x 205 columns]"
      ]
     },
     "execution_count": 38,
     "metadata": {},
     "output_type": "execute_result"
    }
   ],
   "source": [
    "subset_ngram = subset_ngram.drop(['index'],1)\n",
    "subset_ngram.head()"
   ]
  },
  {
   "cell_type": "code",
   "execution_count": 39,
   "metadata": {},
   "outputs": [],
   "source": [
    "X = subset_ngram\n",
    "y = subset.target\n",
    "\n",
    "X_train, X_test, y_train, y_test = train_test_split(X, y, test_size=0.3, random_state=6)"
   ]
  },
  {
   "cell_type": "code",
   "execution_count": 40,
   "metadata": {},
   "outputs": [
    {
     "name": "stderr",
     "output_type": "stream",
     "text": [
      "/anaconda3/lib/python3.7/site-packages/sklearn/linear_model/logistic.py:433: FutureWarning: Default solver will be changed to 'lbfgs' in 0.22. Specify a solver to silence this warning.\n",
      "  FutureWarning)\n"
     ]
    },
    {
     "data": {
      "text/plain": [
       "Text(0.5,1,'Confusion Matrix')"
      ]
     },
     "execution_count": 40,
     "metadata": {},
     "output_type": "execute_result"
    },
    {
     "data": {
      "image/png": "[encoded data removed]",
      "text/plain": [
       "<Figure size 432x288 with 1 Axes>"
      ]
     },
     "metadata": {
      "needs_background": "light"
     },
     "output_type": "display_data"
    }
   ],
   "source": [
    "lr = LogisticRegression()\n",
    "lr.fit(X_train, y_train)\n",
    "y_pred = lr.predict(X_test)\n",
    "\n",
    "cm = confusion_matrix(y_test, y_pred)\n",
    "\n",
    "ax = plt.gca()\n",
    "sns.heatmap(cm, cmap='Reds', cbar=False, annot=True, xticklabels=y_test.unique(), yticklabels=y_test.unique(), ax=ax)\n",
    "ax.set_xlabel('y_pred')\n",
    "ax.set_ylabel('y_true')\n",
    "ax.set_title('Confusion Matrix')"
   ]
  },
  {
   "cell_type": "code",
   "execution_count": 41,
   "metadata": {},
   "outputs": [
    {
     "name": "stdout",
     "output_type": "stream",
     "text": [
      "              precision    recall  f1-score   support\n",
      "\n",
      "           0       0.72      0.92      0.81     48081\n",
      "           1       0.66      0.30      0.42     24162\n",
      "\n",
      "   micro avg       0.72      0.72      0.72     72243\n",
      "   macro avg       0.69      0.61      0.61     72243\n",
      "weighted avg       0.70      0.72      0.68     72243\n",
      "\n"
     ]
    }
   ],
   "source": [
    "print(classification_report(y_test, y_pred))"
   ]
  },
  {
   "cell_type": "code",
   "execution_count": 42,
   "metadata": {},
   "outputs": [
    {
     "data": {
      "text/plain": [
       "Text(0.5,0,'False Positive Rate')"
      ]
     },
     "execution_count": 42,
     "metadata": {},
     "output_type": "execute_result"
    },
    {
     "data": {
      "image/png": "[encoded data removed]",
      "text/plain": [
       "<Figure size 1080x576 with 2 Axes>"
      ]
     },
     "metadata": {
      "needs_background": "light"
     },
     "output_type": "display_data"
    }
   ],
   "source": [
    "fig, (ax1,ax2) = plt.subplots(nrows=1, ncols=2, figsize=(15,8))\n",
    "\n",
    "precision, recall, _ = precision_recall_curve(y_test, y_pred)\n",
    "\n",
    "step_kwargs = ({'step': 'post'} if 'step' in signature(plt.fill_between).parameters else {})\n",
    "\n",
    "ax1.step(recall, precision, color='b', alpha=0.2,where='post')\n",
    "ax1.fill_between(recall, precision, alpha=0.2, color='b', **step_kwargs)\n",
    "ax1.set_xlabel('Recall')\n",
    "ax1.set_ylabel('Precision')\n",
    "ax1.set_ylim([0.0, 1.05])\n",
    "ax1.set_xlim([0.0, 1.0])\n",
    "ax1.set_title('Precision-Recall curve')\n",
    "\n",
    "fpr, tpr, threshold = metrics.roc_curve(y_test, y_pred)\n",
    "roc_auc = metrics.auc(fpr, tpr)\n",
    "\n",
    "ax2.set_title('Receiver Operating Characteristic')\n",
    "ax2.plot(fpr, tpr, 'b', label = 'AUC = %0.2f' % roc_auc)\n",
    "ax2.legend(loc = 'lower right')\n",
    "ax2.plot([0, 1], [0, 1],'r--')\n",
    "ax2.set_xlim([0, 1])\n",
    "ax2.set_ylim([0, 1])\n",
    "ax2.set_ylabel('True Positive Rate')\n",
    "ax2.set_xlabel('False Positive Rate')"
   ]
  },
  {
   "cell_type": "code",
   "execution_count": 43,
   "metadata": {
    "scrolled": false
   },
   "outputs": [
    {
     "data": {
      "image/png": "[encoded data removed]",
      "text/plain": [
       "<Figure size 720x2160 with 1 Axes>"
      ]
     },
     "metadata": {
      "needs_background": "light"
     },
     "output_type": "display_data"
    }
   ],
   "source": [
    "feature_importance = (lr.coef_[0])\n",
    "feature_importance = 100.0 * (feature_importance / feature_importance.max())\n",
    "sorted_idx = np.argsort(feature_importance)\n",
    "pos = np.arange(sorted_idx.shape[0]) + .5\n",
    "\n",
    "featfig = plt.figure(figsize=(10,30))\n",
    "featax = featfig.add_subplot(1, 1, 1)\n",
    "featax.barh(pos, feature_importance[sorted_idx], align='center')\n",
    "featax.set_yticks(pos)\n",
    "featax.set_yticklabels(np.array(X.columns)[sorted_idx], fontsize=8)\n",
    "featax.set_xlabel('Relative Feature Importance')\n",
    "\n",
    "plt.tight_layout()   \n",
    "plt.show()"
   ]
  },
  {
   "cell_type": "markdown",
   "metadata": {},
   "source": [
    "# Deep Learning"
   ]
  },
  {
   "cell_type": "code",
   "execution_count": 44,
   "metadata": {},
   "outputs": [
    {
     "name": "stderr",
     "output_type": "stream",
     "text": [
      "Using TensorFlow backend.\n"
     ]
    }
   ],
   "source": [
    "from sklearn import metrics\n",
    "\n",
    "from keras.preprocessing.text import Tokenizer\n",
    "from keras.preprocessing.sequence import pad_sequences\n",
    "\n",
    "from sklearn.model_selection import GridSearchCV, KFold, StratifiedKFold\n",
    "from keras.wrappers.scikit_learn import KerasClassifier\n",
    "from sklearn.model_selection import cross_val_score\n",
    "from keras.models import Sequential, Model # initialize neural network library\n",
    "from keras.layers import Dense, Input, LSTM, Embedding, Dropout, Activation, CuDNNGRU, Conv1D, Bidirectional, GlobalMaxPool1D, GlobalAveragePooling1D, concatenate # build our layers library\n",
    "from keras import initializers, regularizers, constraints, optimizers, layers\n",
    "from sklearn.feature_extraction.text import CountVectorizer\n",
    "\n",
    "from keras.preprocessing import text, sequence\n",
    "from sklearn.metrics import f1_score"
   ]
  },
  {
   "cell_type": "code",
   "execution_count": 45,
   "metadata": {},
   "outputs": [
    {
     "data": {
      "text/plain": [
       "((168567,), (168567,), (72243,), (72243,))"
      ]
     },
     "execution_count": 45,
     "metadata": {},
     "output_type": "execute_result"
    }
   ],
   "source": [
    "X = subset.question_text\n",
    "y = subset.target\n",
    "\n",
    "X_train, X_test, y_train, y_test = train_test_split(X, y, test_size=0.3, random_state=6)\n",
    "X_train.shape, y_train.shape, X_test.shape, y_test.shape"
   ]
  },
  {
   "cell_type": "code",
   "execution_count": 46,
   "metadata": {},
   "outputs": [],
   "source": [
    "## some config values \n",
    "embed_size = 300 # how big is each word vector\n",
    "max_features = 50000 # how many unique words to use (i.e num rows in embedding vector)\n",
    "maxlen = 100 # max number of words in a question to use\n"
   ]
  },
  {
   "cell_type": "code",
   "execution_count": 47,
   "metadata": {},
   "outputs": [],
   "source": [
    "tokenizer = Tokenizer(num_words=max_features)\n",
    "tokenizer.fit_on_texts(list(X_train))\n",
    "X_train = tokenizer.texts_to_sequences(X_train)\n",
    "X_test = tokenizer.texts_to_sequences(X_test)"
   ]
  },
  {
   "cell_type": "code",
   "execution_count": 48,
   "metadata": {},
   "outputs": [],
   "source": [
    "X_train = pad_sequences(X_train, maxlen=maxlen)\n",
    "X_test = pad_sequences(X_test, maxlen=maxlen)"
   ]
  },
  {
   "cell_type": "code",
   "execution_count": 49,
   "metadata": {},
   "outputs": [
    {
     "name": "stdout",
     "output_type": "stream",
     "text": [
      "WARNING:tensorflow:From /anaconda3/lib/python3.7/site-packages/tensorflow/python/framework/op_def_library.py:263: colocate_with (from tensorflow.python.framework.ops) is deprecated and will be removed in a future version.\n",
      "Instructions for updating:\n",
      "Colocations handled automatically by placer.\n"
     ]
    }
   ],
   "source": [
    "def simple_nn_model():\n",
    "    model = Sequential() # initialize neural network\n",
    "    model.add(Dense(units = 8, kernel_initializer = 'uniform', activation = 'relu', input_dim = X_train.shape[1]))\n",
    "    model.add(Dense(units = 4, kernel_initializer = 'uniform', activation = 'relu'))\n",
    "    model.add(Dense(units = 1, kernel_initializer = 'uniform', activation = 'sigmoid'))\n",
    "    model.compile(optimizer = 'adam', loss = 'binary_crossentropy', metrics = ['accuracy'])\n",
    "    return model\n",
    "model = simple_nn_model()"
   ]
  },
  {
   "cell_type": "code",
   "execution_count": 50,
   "metadata": {},
   "outputs": [
    {
     "name": "stdout",
     "output_type": "stream",
     "text": [
      "WARNING:tensorflow:From /anaconda3/lib/python3.7/site-packages/tensorflow/python/ops/math_ops.py:3066: to_int32 (from tensorflow.python.ops.math_ops) is deprecated and will be removed in a future version.\n",
      "Instructions for updating:\n",
      "Use tf.cast instead.\n",
      "Epoch 1/1\n",
      "168567/168567 [==============================] - 9s 51us/step - loss: 0.6115 - acc: 0.6731\n"
     ]
    }
   ],
   "source": [
    "model.fit(X_train, y_train)\n",
    "pred_noemb_test_y = model.predict(X_test)"
   ]
  },
  {
   "cell_type": "code",
   "execution_count": 51,
   "metadata": {},
   "outputs": [],
   "source": [
    "#y_pred_val = (pred_noemb_val_y > 0.5).astype(int)\n",
    "y_pred_test = (pred_noemb_test_y > 0.5).astype(int)\n",
    "# Print predict using f1score from sklearn\n"
   ]
  },
  {
   "cell_type": "code",
   "execution_count": 52,
   "metadata": {},
   "outputs": [],
   "source": [
    "from sklearn.metrics import accuracy_score"
   ]
  },
  {
   "cell_type": "code",
   "execution_count": 53,
   "metadata": {},
   "outputs": [
    {
     "name": "stdout",
     "output_type": "stream",
     "text": [
      "0.6785294076934789\n"
     ]
    }
   ],
   "source": [
    "score = accuracy_score(y_test, y_pred_test)\n",
    "print(score)"
   ]
  },
  {
   "cell_type": "code",
   "execution_count": 54,
   "metadata": {},
   "outputs": [],
   "source": [
    "from sklearn.metrics import accuracy_score, f1_score, precision_score, recall_score, classification_report, confusion_matrix\n"
   ]
  },
  {
   "cell_type": "code",
   "execution_count": 55,
   "metadata": {},
   "outputs": [
    {
     "name": "stdout",
     "output_type": "stream",
     "text": [
      "0.49716425782926\n",
      "0.6419535729662653\n",
      "0.5387437778502109\n"
     ]
    }
   ],
   "source": [
    "print(f1_score(y_test, y_pred_test, average=\"macro\"))\n",
    "print(precision_score(y_test, y_pred_test, average=\"macro\"))\n",
    "print(recall_score(y_test, y_pred_test, average=\"macro\")) "
   ]
  },
  {
   "cell_type": "code",
   "execution_count": 56,
   "metadata": {},
   "outputs": [
    {
     "data": {
      "text/plain": [
       "Text(0.5,1,'Confusion Matrix')"
      ]
     },
     "execution_count": 56,
     "metadata": {},
     "output_type": "execute_result"
    },
    {
     "data": {
      "image/png": "[encoded data removed]",
      "text/plain": [
       "<Figure size 432x288 with 1 Axes>"
      ]
     },
     "metadata": {
      "needs_background": "light"
     },
     "output_type": "display_data"
    }
   ],
   "source": [
    "cm = confusion_matrix(y_test, y_pred)\n",
    "\n",
    "ax = plt.gca()\n",
    "sns.heatmap(cm, cmap='Greens', cbar=False, annot=True, xticklabels=y_test.unique(), yticklabels=y_test.unique(), ax=ax)\n",
    "ax.set_xlabel('y_pred')\n",
    "ax.set_ylabel('y_true')\n",
    "ax.set_title('Confusion Matrix')"
   ]
  },
  {
   "cell_type": "code",
   "execution_count": 57,
   "metadata": {},
   "outputs": [
    {
     "data": {
      "text/plain": [
       "Text(0.5,0,'False Positive Rate')"
      ]
     },
     "execution_count": 57,
     "metadata": {},
     "output_type": "execute_result"
    },
    {
     "data": {
      "image/png": "[encoded data removed]",
      "text/plain": [
       "<Figure size 1080x576 with 2 Axes>"
      ]
     },
     "metadata": {
      "needs_background": "light"
     },
     "output_type": "display_data"
    }
   ],
   "source": [
    "fig, (ax1,ax2) = plt.subplots(nrows=1, ncols=2, figsize=(15,8))\n",
    "\n",
    "precision, recall, _ = precision_recall_curve(y_test, y_pred)\n",
    "\n",
    "step_kwargs = ({'step': 'post'} if 'step' in signature(plt.fill_between).parameters else {})\n",
    "\n",
    "ax1.step(recall, precision, color='b', alpha=0.2,where='post')\n",
    "ax1.fill_between(recall, precision, alpha=0.2, color='b', **step_kwargs)\n",
    "ax1.set_xlabel('Recall')\n",
    "ax1.set_ylabel('Precision')\n",
    "ax1.set_ylim([0.0, 1.05])\n",
    "ax1.set_xlim([0.0, 1.0])\n",
    "ax1.set_title('Precision-Recall curve')\n",
    "\n",
    "fpr, tpr, threshold = metrics.roc_curve(y_test, y_pred)\n",
    "roc_auc = metrics.auc(fpr, tpr)\n",
    "\n",
    "ax2.set_title('Receiver Operating Characteristic')\n",
    "ax2.plot(fpr, tpr, 'b', label = 'AUC = %0.2f' % roc_auc)\n",
    "ax2.legend(loc = 'lower right')\n",
    "ax2.plot([0, 1], [0, 1],'r--')\n",
    "ax2.set_xlim([0, 1])\n",
    "ax2.set_ylim([0, 1])\n",
    "ax2.set_ylabel('True Positive Rate')\n",
    "ax2.set_xlabel('False Positive Rate')"
   ]
  },
  {
   "cell_type": "code",
   "execution_count": null,
   "metadata": {},
   "outputs": [],
   "source": []
  },
  {
   "cell_type": "code",
   "execution_count": 91,
   "metadata": {},
   "outputs": [],
   "source": [
    "lstm_subset = subset[['question_text','target']]"
   ]
  },
  {
   "cell_type": "code",
   "execution_count": 92,
   "metadata": {
    "scrolled": true
   },
   "outputs": [
    {
     "name": "stderr",
     "output_type": "stream",
     "text": [
      "Pandas Apply: 100%|██████████| 240810/240810 [00:03<00:00, 62245.17it/s]\n",
      "/anaconda3/lib/python3.7/site-packages/pandas/core/generic.py:4405: SettingWithCopyWarning: \n",
      "A value is trying to be set on a copy of a slice from a DataFrame.\n",
      "Try using .loc[row_indexer,col_indexer] = value instead\n",
      "\n",
      "See the caveats in the documentation: http://pandas.pydata.org/pandas-docs/stable/indexing.html#indexing-view-versus-copy\n",
      "  self[name] = value\n"
     ]
    }
   ],
   "source": [
    "lstm_subset.question_text = lstm_subset.question_text.swifter.apply(text_preprocess)"
   ]
  },
  {
   "cell_type": "code",
   "execution_count": 93,
   "metadata": {},
   "outputs": [],
   "source": [
    "train, test = train_test_split(lstm_subset, test_size=0.3, random_state = 6)"
   ]
  },
  {
   "cell_type": "code",
   "execution_count": 94,
   "metadata": {},
   "outputs": [],
   "source": [
    "vocabulary_size = 20000\n",
    "tokenizer = Tokenizer(num_words= vocabulary_size)\n",
    "tokenizer.fit_on_texts(train.question_text)\n",
    "sequences = tokenizer.texts_to_sequences(train.question_text)\n",
    "data = pad_sequences(sequences, maxlen=50)"
   ]
  },
  {
   "cell_type": "code",
   "execution_count": 97,
   "metadata": {},
   "outputs": [],
   "source": [
    "from keras.layers import Dense, Flatten, LSTM, Conv1D, MaxPooling1D, Dropout, Activation"
   ]
  },
  {
   "cell_type": "code",
   "execution_count": 100,
   "metadata": {},
   "outputs": [],
   "source": [
    "model = Sequential()\n",
    "model.add(Embedding(20000, 100, input_length=50))\n",
    "model.add(Dropout(0.2))\n",
    "model.add(Conv1D(64, 5, activation='relu'))\n",
    "model.add(MaxPooling1D(pool_size=4))\n",
    "model.add(LSTM(100))\n",
    "model.add(Dense(1, activation='sigmoid'))\n",
    "model.compile(loss='binary_crossentropy', optimizer='adam', metrics=['accuracy'])"
   ]
  },
  {
   "cell_type": "code",
   "execution_count": 101,
   "metadata": {},
   "outputs": [
    {
     "name": "stdout",
     "output_type": "stream",
     "text": [
      "Train on 117996 samples, validate on 50571 samples\n",
      "Epoch 1/1\n",
      "117996/117996 [==============================] - 233s 2ms/step - loss: 0.3201 - acc: 0.8692 - val_loss: 0.2967 - val_acc: 0.8812\n"
     ]
    },
    {
     "data": {
      "text/plain": [
       "<keras.callbacks.History at 0x1c8db18be0>"
      ]
     },
     "execution_count": 101,
     "metadata": {},
     "output_type": "execute_result"
    }
   ],
   "source": [
    "model.fit(data, train.target, validation_split=0.3, epochs=1)"
   ]
  },
  {
   "cell_type": "code",
   "execution_count": null,
   "metadata": {},
   "outputs": [],
   "source": []
  },
  {
   "cell_type": "code",
   "execution_count": 112,
   "metadata": {},
   "outputs": [],
   "source": [
    "word2vec_subset = subset[['question_text','target']]"
   ]
  },
  {
   "cell_type": "code",
   "execution_count": 113,
   "metadata": {},
   "outputs": [
    {
     "name": "stderr",
     "output_type": "stream",
     "text": [
      "Pandas Apply: 100%|██████████| 240810/240810 [00:04<00:00, 58599.27it/s]\n",
      "/anaconda3/lib/python3.7/site-packages/pandas/core/generic.py:4405: SettingWithCopyWarning:\n",
      "\n",
      "\n",
      "A value is trying to be set on a copy of a slice from a DataFrame.\n",
      "Try using .loc[row_indexer,col_indexer] = value instead\n",
      "\n",
      "See the caveats in the documentation: http://pandas.pydata.org/pandas-docs/stable/indexing.html#indexing-view-versus-copy\n",
      "\n"
     ]
    }
   ],
   "source": [
    "word2vec_subset.question_text = word2vec_subset.question_text.swifter.apply(text_preprocess)"
   ]
  },
  {
   "cell_type": "code",
   "execution_count": 123,
   "metadata": {},
   "outputs": [],
   "source": [
    "train, test = train_test_split(word2vec_subset, test_size=0.3, random_state = 6)"
   ]
  },
  {
   "cell_type": "code",
   "execution_count": 147,
   "metadata": {},
   "outputs": [],
   "source": [
    "from tqdm import tqdm\n",
    "from nltk.tokenize import WordPunctTokenizer\n"
   ]
  },
  {
   "cell_type": "code",
   "execution_count": 155,
   "metadata": {},
   "outputs": [],
   "source": [
    "def text_to_wordlist(text, lower=False):\n",
    "    \n",
    "    # Tokenize\n",
    "    text = nltk.word_tokenize(text)\n",
    "    \n",
    "    vocab.append(text)\n",
    "    return text\n",
    "\n",
    "def process_comments(list_sentences, lower=False):\n",
    "    comments = []\n",
    "    for text in tqdm(list_sentences):\n",
    "        txt = text_to_wordlist(text, lower=lower)\n",
    "        comments.append(txt)\n",
    "    return comments"
   ]
  },
  {
   "cell_type": "code",
   "execution_count": 156,
   "metadata": {},
   "outputs": [
    {
     "name": "stderr",
     "output_type": "stream",
     "text": [
      "100%|██████████| 240810/240810 [00:32<00:00, 7453.76it/s]\n"
     ]
    }
   ],
   "source": [
    "comments = process_comments(word2vec_subset.question_text)\n"
   ]
  },
  {
   "cell_type": "code",
   "execution_count": null,
   "metadata": {},
   "outputs": [],
   "source": []
  },
  {
   "cell_type": "code",
   "execution_count": null,
   "metadata": {},
   "outputs": [],
   "source": []
  },
  {
   "cell_type": "code",
   "execution_count": 157,
   "metadata": {},
   "outputs": [],
   "source": [
    "model = Word2Vec(comments)\n"
   ]
  },
  {
   "cell_type": "code",
   "execution_count": null,
   "metadata": {},
   "outputs": [],
   "source": []
  },
  {
   "cell_type": "code",
   "execution_count": 158,
   "metadata": {},
   "outputs": [
    {
     "name": "stdout",
     "output_type": "stream",
     "text": [
      "Number of word vectors: 21504\n"
     ]
    }
   ],
   "source": [
    "word_vectors = model.wv\n",
    "print(\"Number of word vectors: {}\".format(len(word_vectors.vocab)))"
   ]
  },
  {
   "cell_type": "code",
   "execution_count": 159,
   "metadata": {},
   "outputs": [
    {
     "data": {
      "text/plain": [
       "{'can': <gensim.models.keyedvectors.Vocab at 0x1ca33ddef0>,\n",
       " 'hypnosis': <gensim.models.keyedvectors.Vocab at 0x1ca33ddfd0>,\n",
       " 'help': <gensim.models.keyedvectors.Vocab at 0x1ca33ddf28>,\n",
       " 'me': <gensim.models.keyedvectors.Vocab at 0x1ca33ddf60>,\n",
       " 'change': <gensim.models.keyedvectors.Vocab at 0x1c68db3400>,\n",
       " 'some': <gensim.models.keyedvectors.Vocab at 0x1c68db3cc0>,\n",
       " 'details': <gensim.models.keyedvectors.Vocab at 0x1ca33e9048>,\n",
       " 'on': <gensim.models.keyedvectors.Vocab at 0x1ca33e9080>,\n",
       " 'a': <gensim.models.keyedvectors.Vocab at 0x1ca33e90b8>,\n",
       " 'time': <gensim.models.keyedvectors.Vocab at 0x1ca33e90f0>,\n",
       " 'in': <gensim.models.keyedvectors.Vocab at 0x1ca33e9128>,\n",
       " 'the': <gensim.models.keyedvectors.Vocab at 0x1ca33e9160>,\n",
       " 'past': <gensim.models.keyedvectors.Vocab at 0x1ca33e9198>,\n",
       " 'why': <gensim.models.keyedvectors.Vocab at 0x1ca33e91d0>,\n",
       " 'does': <gensim.models.keyedvectors.Vocab at 0x1ca33e9208>,\n",
       " 'cyclones': <gensim.models.keyedvectors.Vocab at 0x1ca33e9240>,\n",
       " 'spin': <gensim.models.keyedvectors.Vocab at 0x1ca33e9278>,\n",
       " 'clock': <gensim.models.keyedvectors.Vocab at 0x1ca33e92b0>,\n",
       " 'wise': <gensim.models.keyedvectors.Vocab at 0x1ca33e92e8>,\n",
       " 'but': <gensim.models.keyedvectors.Vocab at 0x1ca33e9320>,\n",
       " 'anticlockwise': <gensim.models.keyedvectors.Vocab at 0x1ca33e9358>,\n",
       " 'northern': <gensim.models.keyedvectors.Vocab at 0x1ca33e9390>,\n",
       " 'hemisphere': <gensim.models.keyedvectors.Vocab at 0x1ca33e93c8>,\n",
       " 'to': <gensim.models.keyedvectors.Vocab at 0x1ca33e9400>,\n",
       " 'get': <gensim.models.keyedvectors.Vocab at 0x1ca33e9438>,\n",
       " 'better': <gensim.models.keyedvectors.Vocab at 0x1ca33e9470>,\n",
       " 'at': <gensim.models.keyedvectors.Vocab at 0x1ca33e94a8>,\n",
       " 'anything': <gensim.models.keyedvectors.Vocab at 0x1ca33e94e0>,\n",
       " 'you': <gensim.models.keyedvectors.Vocab at 0x1ca33e9518>,\n",
       " 'do': <gensim.models.keyedvectors.Vocab at 0x1ca33e9550>,\n",
       " 'have': <gensim.models.keyedvectors.Vocab at 0x1ca33e9588>,\n",
       " 'uncomfortable': <gensim.models.keyedvectors.Vocab at 0x1ca33e95c0>,\n",
       " 'except': <gensim.models.keyedvectors.Vocab at 0x1ca33e95f8>,\n",
       " 'for': <gensim.models.keyedvectors.Vocab at 0x1ca33e9630>,\n",
       " 'retirement': <gensim.models.keyedvectors.Vocab at 0x1ca33e9668>,\n",
       " 'what': <gensim.models.keyedvectors.Vocab at 0x1ca33e96a0>,\n",
       " 'are': <gensim.models.keyedvectors.Vocab at 0x1ca33e96d8>,\n",
       " 'reasons': <gensim.models.keyedvectors.Vocab at 0x1ca33e9710>,\n",
       " 'save': <gensim.models.keyedvectors.Vocab at 0x1ca33e9748>,\n",
       " 'more': <gensim.models.keyedvectors.Vocab at 0x1ca33e9780>,\n",
       " 'money': <gensim.models.keyedvectors.Vocab at 0x1ca33e97b8>,\n",
       " 'talking': <gensim.models.keyedvectors.Vocab at 0x1ca33e97f0>,\n",
       " 'about': <gensim.models.keyedvectors.Vocab at 0x1ca33e9828>,\n",
       " 'sex': <gensim.models.keyedvectors.Vocab at 0x1ca33e9860>,\n",
       " 'make': <gensim.models.keyedvectors.Vocab at 0x1ca33e9898>,\n",
       " 'people': <gensim.models.keyedvectors.Vocab at 0x1ca33e98d0>,\n",
       " 'feel': <gensim.models.keyedvectors.Vocab at 0x1ca33e9908>,\n",
       " 'how': <gensim.models.keyedvectors.Vocab at 0x1ca33e9940>,\n",
       " 'palestinians': <gensim.models.keyedvectors.Vocab at 0x1ca33e9978>,\n",
       " 'fare': <gensim.models.keyedvectors.Vocab at 0x1ca33e99b0>,\n",
       " 'scandinavian': <gensim.models.keyedvectors.Vocab at 0x1ca33e99e8>,\n",
       " 'countries': <gensim.models.keyedvectors.Vocab at 0x1ca33e9a20>,\n",
       " 'ice': <gensim.models.keyedvectors.Vocab at 0x1ca33e9a58>,\n",
       " 'storms': <gensim.models.keyedvectors.Vocab at 0x1ca33e9a90>,\n",
       " 'occur': <gensim.models.keyedvectors.Vocab at 0x1ca33e9ac8>,\n",
       " 'most': <gensim.models.keyedvectors.Vocab at 0x1ca33e9b00>,\n",
       " 'often': <gensim.models.keyedvectors.Vocab at 0x1ca33e9b38>,\n",
       " 'during': <gensim.models.keyedvectors.Vocab at 0x1ca33e9b70>,\n",
       " 'months': <gensim.models.keyedvectors.Vocab at 0x1ca33e9ba8>,\n",
       " 'of': <gensim.models.keyedvectors.Vocab at 0x1ca33e9be0>,\n",
       " 'december': <gensim.models.keyedvectors.Vocab at 0x1ca33e9c18>,\n",
       " 'and': <gensim.models.keyedvectors.Vocab at 0x1ca33e9c50>,\n",
       " 'january': <gensim.models.keyedvectors.Vocab at 0x1ca33e9c88>,\n",
       " 'us': <gensim.models.keyedvectors.Vocab at 0x1ca33e9cc0>,\n",
       " 'important': <gensim.models.keyedvectors.Vocab at 0x1ca33e9cf8>,\n",
       " 'unsolved': <gensim.models.keyedvectors.Vocab at 0x1ca33e9d30>,\n",
       " 'economics': <gensim.models.keyedvectors.Vocab at 0x1ca33e9d68>,\n",
       " 'problems': <gensim.models.keyedvectors.Vocab at 0x1ca33e9da0>,\n",
       " 'which': <gensim.models.keyedvectors.Vocab at 0x1ca33e9dd8>,\n",
       " 'genuine': <gensim.models.keyedvectors.Vocab at 0x1ca33e9e10>,\n",
       " 'real': <gensim.models.keyedvectors.Vocab at 0x1ca33e9e48>,\n",
       " 'estate': <gensim.models.keyedvectors.Vocab at 0x1ca33e9e80>,\n",
       " 'online': <gensim.models.keyedvectors.Vocab at 0x1ca33e9eb8>,\n",
       " 'website': <gensim.models.keyedvectors.Vocab at 0x1ca33e9ef0>,\n",
       " 'i': <gensim.models.keyedvectors.Vocab at 0x1ca33e9f28>,\n",
       " 'invest': <gensim.models.keyedvectors.Vocab at 0x1ca33e9f60>,\n",
       " 'my': <gensim.models.keyedvectors.Vocab at 0x1ca33e9f98>,\n",
       " 'be': <gensim.models.keyedvectors.Vocab at 0x1ca33e9fd0>,\n",
       " 'getting': <gensim.models.keyedvectors.Vocab at 0x1ca33eb048>,\n",
       " 'steady': <gensim.models.keyedvectors.Vocab at 0x1ca33eb080>,\n",
       " 'returns': <gensim.models.keyedvectors.Vocab at 0x1ca33eb0b8>,\n",
       " 'deal': <gensim.models.keyedvectors.Vocab at 0x1ca33eb0f0>,\n",
       " 'with': <gensim.models.keyedvectors.Vocab at 0x1ca33eb128>,\n",
       " 'family': <gensim.models.keyedvectors.Vocab at 0x1ca33eb160>,\n",
       " 'member': <gensim.models.keyedvectors.Vocab at 0x1ca33eb198>,\n",
       " 'who': <gensim.models.keyedvectors.Vocab at 0x1ca33eb1d0>,\n",
       " 'is': <gensim.models.keyedvectors.Vocab at 0x1ca33eb208>,\n",
       " 'very': <gensim.models.keyedvectors.Vocab at 0x1ca33eb240>,\n",
       " 'self': <gensim.models.keyedvectors.Vocab at 0x1ca33eb278>,\n",
       " 'centered': <gensim.models.keyedvectors.Vocab at 0x1ca33eb2b0>,\n",
       " 'hurts': <gensim.models.keyedvectors.Vocab at 0x1ca33eb2e8>,\n",
       " 'many': <gensim.models.keyedvectors.Vocab at 0x1ca33eb320>,\n",
       " 'times': <gensim.models.keyedvectors.Vocab at 0x1ca33eb358>,\n",
       " 'state': <gensim.models.keyedvectors.Vocab at 0x1ca33eb390>,\n",
       " 'best': <gensim.models.keyedvectors.Vocab at 0x1ca33eb3c8>,\n",
       " 'guess': <gensim.models.keyedvectors.Vocab at 0x1ca33eb400>,\n",
       " 'setting': <gensim.models.keyedvectors.Vocab at 0x1ca33eb438>,\n",
       " 'mrs': <gensim.models.keyedvectors.Vocab at 0x1ca33eb470>,\n",
       " 'rats': <gensim.models.keyedvectors.Vocab at 0x1ca33eb4a8>,\n",
       " 'light': <gensim.models.keyedvectors.Vocab at 0x1ca33eb4e0>,\n",
       " 'accelerated': <gensim.models.keyedvectors.Vocab at 0x1ca33eb518>,\n",
       " 'there': <gensim.models.keyedvectors.Vocab at 0x1ca33eb550>,\n",
       " 'hate': <gensim.models.keyedvectors.Vocab at 0x1ca33eb588>,\n",
       " 'british': <gensim.models.keyedvectors.Vocab at 0x1ca33eb5c0>,\n",
       " 'empire': <gensim.models.keyedvectors.Vocab at 0x1ca33eb5f8>,\n",
       " 'as': <gensim.models.keyedvectors.Vocab at 0x1ca33eb630>,\n",
       " 'an': <gensim.models.keyedvectors.Vocab at 0x1ca33eb668>,\n",
       " 'australian': <gensim.models.keyedvectors.Vocab at 0x1ca33eb6a0>,\n",
       " 'nothing': <gensim.models.keyedvectors.Vocab at 0x1ca33eb6d8>,\n",
       " 'made': <gensim.models.keyedvectors.Vocab at 0x1ca33eb710>,\n",
       " 'happy': <gensim.models.keyedvectors.Vocab at 0x1ca33eb748>,\n",
       " 'than': <gensim.models.keyedvectors.Vocab at 0x1ca33eb780>,\n",
       " 'being': <gensim.models.keyedvectors.Vocab at 0x1ca33eb7b8>,\n",
       " 'commonwealth': <gensim.models.keyedvectors.Vocab at 0x1ca33eb7f0>,\n",
       " 'calling': <gensim.models.keyedvectors.Vocab at 0x1ca33eb828>,\n",
       " 'elizabeth': <gensim.models.keyedvectors.Vocab at 0x1ca33eb860>,\n",
       " 'queen': <gensim.models.keyedvectors.Vocab at 0x1ca33eb898>,\n",
       " 'oppose': <gensim.models.keyedvectors.Vocab at 0x1ca33eb8d0>,\n",
       " 'idea': <gensim.models.keyedvectors.Vocab at 0x1ca33eb908>,\n",
       " 'agent': <gensim.models.keyedvectors.Vocab at 0x1ca33eb940>,\n",
       " 'mean': <gensim.models.keyedvectors.Vocab at 0x1ca33eb978>,\n",
       " 'networking': <gensim.models.keyedvectors.Vocab at 0x1ca33eb9b0>,\n",
       " 'islam': <gensim.models.keyedvectors.Vocab at 0x1c68db3358>,\n",
       " 'survive': <gensim.models.keyedvectors.Vocab at 0x1c68db3278>,\n",
       " 'next': <gensim.models.keyedvectors.Vocab at 0x1c68de0588>,\n",
       " 'years': <gensim.models.keyedvectors.Vocab at 0x1c68de0908>,\n",
       " 'start': <gensim.models.keyedvectors.Vocab at 0x1c68de0a90>,\n",
       " 'new': <gensim.models.keyedvectors.Vocab at 0x1c68dc5e10>,\n",
       " 'business': <gensim.models.keyedvectors.Vocab at 0x1c68dc5da0>,\n",
       " 'less': <gensim.models.keyedvectors.Vocab at 0x1ca33eb9e8>,\n",
       " 'investment': <gensim.models.keyedvectors.Vocab at 0x1ca33eba20>,\n",
       " 'gain': <gensim.models.keyedvectors.Vocab at 0x1ca33eba58>,\n",
       " 'profit': <gensim.models.keyedvectors.Vocab at 0x1ca33eba90>,\n",
       " 'india': <gensim.models.keyedvectors.Vocab at 0x1ca33ebac8>,\n",
       " 'safe': <gensim.models.keyedvectors.Vocab at 0x1ca33ebb00>,\n",
       " 'paracetamol': <gensim.models.keyedvectors.Vocab at 0x1ca33ebb38>,\n",
       " 'share': <gensim.models.keyedvectors.Vocab at 0x1ca33ebb70>,\n",
       " 'know': <gensim.models.keyedvectors.Vocab at 0x1ca33ebba8>,\n",
       " 'members': <gensim.models.keyedvectors.Vocab at 0x1ca33ebbe0>,\n",
       " 'microsoft': <gensim.models.keyedvectors.Vocab at 0x1ca33ebc18>,\n",
       " 'orchestra': <gensim.models.keyedvectors.Vocab at 0x1ca33ebc50>,\n",
       " 'year': <gensim.models.keyedvectors.Vocab at 0x1ca33ebc88>,\n",
       " 'old': <gensim.models.keyedvectors.Vocab at 0x1ca33ebcc0>,\n",
       " 'car': <gensim.models.keyedvectors.Vocab at 0x1ca33ebcf8>,\n",
       " 'too': <gensim.models.keyedvectors.Vocab at 0x1ca33ebd30>,\n",
       " 'much': <gensim.models.keyedvectors.Vocab at 0x1ca33ebd68>,\n",
       " 'don': <gensim.models.keyedvectors.Vocab at 0x1ca33ebda0>,\n",
       " 't': <gensim.models.keyedvectors.Vocab at 0x1ca33ebdd8>,\n",
       " 'asian': <gensim.models.keyedvectors.Vocab at 0x1ca33ebe10>,\n",
       " 'nyc': <gensim.models.keyedvectors.Vocab at 0x1ca33ebe48>,\n",
       " 'speak': <gensim.models.keyedvectors.Vocab at 0x1ca33ebe80>,\n",
       " 'english': <gensim.models.keyedvectors.Vocab at 0x1ca33ebeb8>,\n",
       " 'intro': <gensim.models.keyedvectors.Vocab at 0x1ca33ebef0>,\n",
       " 'your': <gensim.models.keyedvectors.Vocab at 0x1ca33ebf28>,\n",
       " 'instagram': <gensim.models.keyedvectors.Vocab at 0x1ca33ebf60>,\n",
       " 'stories': <gensim.models.keyedvectors.Vocab at 0x1ca33ebf98>,\n",
       " 'compelling': <gensim.models.keyedvectors.Vocab at 0x1ca33ebfd0>,\n",
       " 'dslr': <gensim.models.keyedvectors.Vocab at 0x1c703a7048>,\n",
       " 'camera': <gensim.models.keyedvectors.Vocab at 0x1c703a7080>,\n",
       " 'making': <gensim.models.keyedvectors.Vocab at 0x1c703a70b8>,\n",
       " 'short': <gensim.models.keyedvectors.Vocab at 0x1c703a70f0>,\n",
       " 'films': <gensim.models.keyedvectors.Vocab at 0x1c703a7128>,\n",
       " 'film': <gensim.models.keyedvectors.Vocab at 0x1c703a7160>,\n",
       " 'festivals': <gensim.models.keyedvectors.Vocab at 0x1c703a7198>,\n",
       " 'flat': <gensim.models.keyedvectors.Vocab at 0x1c703a71d0>,\n",
       " 'affect': <gensim.models.keyedvectors.Vocab at 0x1c703a7208>,\n",
       " 'climate': <gensim.models.keyedvectors.Vocab at 0x1c703a7240>,\n",
       " 'processor': <gensim.models.keyedvectors.Vocab at 0x1c703a7278>,\n",
       " 'uses': <gensim.models.keyedvectors.Vocab at 0x1c703a72b0>,\n",
       " 'address': <gensim.models.keyedvectors.Vocab at 0x1c703a72e8>,\n",
       " 'bus': <gensim.models.keyedvectors.Vocab at 0x1c703a7320>,\n",
       " 'system': <gensim.models.keyedvectors.Vocab at 0x1c703a7358>,\n",
       " 'memory': <gensim.models.keyedvectors.Vocab at 0x1c703a7390>,\n",
       " 'didn': <gensim.models.keyedvectors.Vocab at 0x1c703a73c8>,\n",
       " 'ned': <gensim.models.keyedvectors.Vocab at 0x1c703a7400>,\n",
       " 'send': <gensim.models.keyedvectors.Vocab at 0x1c703a7438>,\n",
       " 'jon': <gensim.models.keyedvectors.Vocab at 0x1c703a7470>,\n",
       " 'live': <gensim.models.keyedvectors.Vocab at 0x1c703a74a8>,\n",
       " 'reed': <gensim.models.keyedvectors.Vocab at 0x1c703a74e0>,\n",
       " 'happens': <gensim.models.keyedvectors.Vocab at 0x1c703a7518>,\n",
       " 'america': <gensim.models.keyedvectors.Vocab at 0x1c703a7550>,\n",
       " 'if': <gensim.models.keyedvectors.Vocab at 0x1c703a7588>,\n",
       " 'taken': <gensim.models.keyedvectors.Vocab at 0x1c703a75c0>,\n",
       " 'hospital': <gensim.models.keyedvectors.Vocab at 0x1c703a75f8>,\n",
       " 'unconscious': <gensim.models.keyedvectors.Vocab at 0x1c703a7630>,\n",
       " 'then': <gensim.models.keyedvectors.Vocab at 0x1c703a7668>,\n",
       " 'afford': <gensim.models.keyedvectors.Vocab at 0x1c703a76a0>,\n",
       " 'treatment': <gensim.models.keyedvectors.Vocab at 0x1c703a76d8>,\n",
       " 'given': <gensim.models.keyedvectors.Vocab at 0x1c703a7710>,\n",
       " 'it': <gensim.models.keyedvectors.Vocab at 0x1c703a7748>,\n",
       " 'by': <gensim.models.keyedvectors.Vocab at 0x1c703a7780>,\n",
       " 'images': <gensim.models.keyedvectors.Vocab at 0x1c703a77b8>,\n",
       " 'that': <gensim.models.keyedvectors.Vocab at 0x1c703a77f0>,\n",
       " 'natural': <gensim.models.keyedvectors.Vocab at 0x1c703a7828>,\n",
       " 'basis': <gensim.models.keyedvectors.Vocab at 0x1c703a7860>,\n",
       " 'random': <gensim.models.keyedvectors.Vocab at 0x1c703a7898>,\n",
       " 'directions': <gensim.models.keyedvectors.Vocab at 0x1c703a78d0>,\n",
       " 'fetus': <gensim.models.keyedvectors.Vocab at 0x1c703a7908>,\n",
       " 'alive': <gensim.models.keyedvectors.Vocab at 0x1c703a7940>,\n",
       " 'functioning': <gensim.models.keyedvectors.Vocab at 0x1c703a7978>,\n",
       " 'while': <gensim.models.keyedvectors.Vocab at 0x1c703a79b0>,\n",
       " 'same': <gensim.models.keyedvectors.Vocab at 0x1c703a79e8>,\n",
       " 'developing': <gensim.models.keyedvectors.Vocab at 0x1c703a7a20>,\n",
       " 'growing': <gensim.models.keyedvectors.Vocab at 0x1c703a7a58>,\n",
       " 'inside': <gensim.models.keyedvectors.Vocab at 0x1c703a7a90>,\n",
       " 'womb': <gensim.models.keyedvectors.Vocab at 0x1c703a7ac8>,\n",
       " 's': <gensim.models.keyedvectors.Vocab at 0x1c703a7b00>,\n",
       " 'assembled': <gensim.models.keyedvectors.Vocab at 0x1c703a7b38>,\n",
       " 'already': <gensim.models.keyedvectors.Vocab at 0x1c703a7b70>,\n",
       " 'driven': <gensim.models.keyedvectors.Vocab at 0x1c703a7ba8>,\n",
       " 'down': <gensim.models.keyedvectors.Vocab at 0x1c703a7be0>,\n",
       " 'street': <gensim.models.keyedvectors.Vocab at 0x1c703a7c18>,\n",
       " 'marks': <gensim.models.keyedvectors.Vocab at 0x1c703a7c50>,\n",
       " 'kapoor': <gensim.models.keyedvectors.Vocab at 0x1c703a7c88>,\n",
       " 'aipmt': <gensim.models.keyedvectors.Vocab at 0x1c703a7cc0>,\n",
       " 'soviet': <gensim.models.keyedvectors.Vocab at 0x1c703a7cf8>,\n",
       " 'tank': <gensim.models.keyedvectors.Vocab at 0x1c703a7d30>,\n",
       " 'was': <gensim.models.keyedvectors.Vocab at 0x1c703a7d68>,\n",
       " 'produced': <gensim.models.keyedvectors.Vocab at 0x1c703a7da0>,\n",
       " 'numbers': <gensim.models.keyedvectors.Vocab at 0x1c703a7dd8>,\n",
       " 'over': <gensim.models.keyedvectors.Vocab at 0x1c703a7e10>,\n",
       " 'effectively': <gensim.models.keyedvectors.Vocab at 0x1c703a7e48>,\n",
       " 'determine': <gensim.models.keyedvectors.Vocab at 0x1c703a7e80>,\n",
       " 'biogas': <gensim.models.keyedvectors.Vocab at 0x1c703a7eb8>,\n",
       " 'requirement': <gensim.models.keyedvectors.Vocab at 0x1c703a7ef0>,\n",
       " 'cooking': <gensim.models.keyedvectors.Vocab at 0x1c703a7f28>,\n",
       " 'home': <gensim.models.keyedvectors.Vocab at 0x1c703a7f60>,\n",
       " 'm': <gensim.models.keyedvectors.Vocab at 0x1c703a7f98>,\n",
       " 'going': <gensim.models.keyedvectors.Vocab at 0x1c703a7fd0>,\n",
       " 'meet': <gensim.models.keyedvectors.Vocab at 0x1ca33f1048>,\n",
       " 'sister': <gensim.models.keyedvectors.Vocab at 0x1ca33f1080>,\n",
       " 'fiance': <gensim.models.keyedvectors.Vocab at 0x1ca33f10b8>,\n",
       " 'first': <gensim.models.keyedvectors.Vocab at 0x1ca33f10f0>,\n",
       " 'so': <gensim.models.keyedvectors.Vocab at 0x1ca33f1128>,\n",
       " 'should': <gensim.models.keyedvectors.Vocab at 0x1ca33f1160>,\n",
       " 'gift': <gensim.models.keyedvectors.Vocab at 0x1ca33f1198>,\n",
       " 'him': <gensim.models.keyedvectors.Vocab at 0x1ca33f11d0>,\n",
       " 'decent': <gensim.models.keyedvectors.Vocab at 0x1ca33f1208>,\n",
       " 'telescope': <gensim.models.keyedvectors.Vocab at 0x1ca33f1240>,\n",
       " 'look': <gensim.models.keyedvectors.Vocab at 0x1ca33f1278>,\n",
       " 'planets': <gensim.models.keyedvectors.Vocab at 0x1ca33f12b0>,\n",
       " 'galaxies': <gensim.models.keyedvectors.Vocab at 0x1ca33f12e8>,\n",
       " 'air': <gensim.models.keyedvectors.Vocab at 0x1ca33f1320>,\n",
       " 'action': <gensim.models.keyedvectors.Vocab at 0x1ca33f1358>,\n",
       " 'shows': <gensim.models.keyedvectors.Vocab at 0x1ca33f1390>,\n",
       " 'when': <gensim.models.keyedvectors.Vocab at 0x1ca33f13c8>,\n",
       " 'would': <gensim.models.keyedvectors.Vocab at 0x1ca33f1400>,\n",
       " 'up': <gensim.models.keyedvectors.Vocab at 0x1ca33f1438>,\n",
       " 'vote': <gensim.models.keyedvectors.Vocab at 0x1ca33f1470>,\n",
       " 'quora': <gensim.models.keyedvectors.Vocab at 0x1ca33f14a8>,\n",
       " 'answers': <gensim.models.keyedvectors.Vocab at 0x1ca33f14e0>,\n",
       " 'lacking': <gensim.models.keyedvectors.Vocab at 0x1ca33f1518>,\n",
       " 'scientific': <gensim.models.keyedvectors.Vocab at 0x1ca33f1550>,\n",
       " 'evidence': <gensim.models.keyedvectors.Vocab at 0x1ca33f1588>,\n",
       " 'whole': <gensim.models.keyedvectors.Vocab at 0x1ca33f15c0>,\n",
       " 'point': <gensim.models.keyedvectors.Vocab at 0x1ca33f15f8>,\n",
       " 'violins': <gensim.models.keyedvectors.Vocab at 0x1ca33f1630>,\n",
       " 'baroque': <gensim.models.keyedvectors.Vocab at 0x1ca33f1668>,\n",
       " 'come': <gensim.models.keyedvectors.Vocab at 0x1ca33f16a0>,\n",
       " 'performers': <gensim.models.keyedvectors.Vocab at 0x1ca33f16d8>,\n",
       " 'put': <gensim.models.keyedvectors.Vocab at 0x1ca33f1710>,\n",
       " 'non': <gensim.models.keyedvectors.Vocab at 0x1ca33f1748>,\n",
       " 'gut': <gensim.models.keyedvectors.Vocab at 0x1ca33f1780>,\n",
       " 'strings': <gensim.models.keyedvectors.Vocab at 0x1ca33f17b8>,\n",
       " 'them': <gensim.models.keyedvectors.Vocab at 0x1ca33f17f0>,\n",
       " 'situation': <gensim.models.keyedvectors.Vocab at 0x1ca33f1828>,\n",
       " 'bitcoins': <gensim.models.keyedvectors.Vocab at 0x1ca33f1860>,\n",
       " 'after': <gensim.models.keyedvectors.Vocab at 0x1ca33f1898>,\n",
       " 'raids': <gensim.models.keyedvectors.Vocab at 0x1ca33f18d0>,\n",
       " 'any': <gensim.models.keyedvectors.Vocab at 0x1ca33f1908>,\n",
       " 'value': <gensim.models.keyedvectors.Vocab at 0x1ca33f1940>,\n",
       " 'calculators': <gensim.models.keyedvectors.Vocab at 0x1ca33f1978>,\n",
       " 'such': <gensim.models.keyedvectors.Vocab at 0x1ca33f19b0>,\n",
       " 'project': <gensim.models.keyedvectors.Vocab at 0x1ca33f19e8>,\n",
       " 'killed': <gensim.models.keyedvectors.Vocab at 0x1ca33f1a20>,\n",
       " 'school': <gensim.models.keyedvectors.Vocab at 0x1ca33f1a58>,\n",
       " 'story': <gensim.models.keyedvectors.Vocab at 0x1ca33f1a90>,\n",
       " 'r': <gensim.models.keyedvectors.Vocab at 0x1ca33f1ac8>,\n",
       " 'james': <gensim.models.keyedvectors.Vocab at 0x1ca33f1b00>,\n",
       " 'quantum': <gensim.models.keyedvectors.Vocab at 0x1ca33f1b38>,\n",
       " 'collapses': <gensim.models.keyedvectors.Vocab at 0x1ca33f1b70>,\n",
       " 'due': <gensim.models.keyedvectors.Vocab at 0x1ca33f1ba8>,\n",
       " 'interaction': <gensim.models.keyedvectors.Vocab at 0x1ca33f1be0>,\n",
       " 'environment': <gensim.models.keyedvectors.Vocab at 0x1ca33f1c18>,\n",
       " 'also': <gensim.models.keyedvectors.Vocab at 0x1ca33f1c50>,\n",
       " 'create': <gensim.models.keyedvectors.Vocab at 0x1ca33f1c88>,\n",
       " 'mother': <gensim.models.keyedvectors.Vocab at 0x1ca33f1cc0>,\n",
       " 'tongue': <gensim.models.keyedvectors.Vocab at 0x1ca33f1cf8>,\n",
       " 'control': <gensim.models.keyedvectors.Vocab at 0x1ca33f1d30>,\n",
       " 'freak': <gensim.models.keyedvectors.Vocab at 0x1ca33f1d68>,\n",
       " 'without': <gensim.models.keyedvectors.Vocab at 0x1ca33f1da0>,\n",
       " 'offensive': <gensim.models.keyedvectors.Vocab at 0x1ca33f1dd8>,\n",
       " 'entrance': <gensim.models.keyedvectors.Vocab at 0x1ca33f1e10>,\n",
       " 'exam': <gensim.models.keyedvectors.Vocab at 0x1ca33f1e48>,\n",
       " 'bca': <gensim.models.keyedvectors.Vocab at 0x1ca33f1e80>,\n",
       " 'admission': <gensim.models.keyedvectors.Vocab at 0x1ca33f1eb8>,\n",
       " 'mumbai': <gensim.models.keyedvectors.Vocab at 0x1ca33f1ef0>,\n",
       " 'small': <gensim.models.keyedvectors.Vocab at 0x1ca33f1f28>,\n",
       " 'town': <gensim.models.keyedvectors.Vocab at 0x1ca33f1f60>,\n",
       " 'journalism': <gensim.models.keyedvectors.Vocab at 0x1ca33f1f98>,\n",
       " 'good': <gensim.models.keyedvectors.Vocab at 0x1ca33f1fd0>,\n",
       " 'opportunity': <gensim.models.keyedvectors.Vocab at 0x1ca33f4048>,\n",
       " 'graduates': <gensim.models.keyedvectors.Vocab at 0x1ca33f4080>,\n",
       " 'transfer': <gensim.models.keyedvectors.Vocab at 0x1ca33f40b8>,\n",
       " 'paypal': <gensim.models.keyedvectors.Vocab at 0x1ca33f40f0>,\n",
       " 'credit': <gensim.models.keyedvectors.Vocab at 0x1ca33f4128>,\n",
       " 'card': <gensim.models.keyedvectors.Vocab at 0x1ca33f4160>,\n",
       " 'mammals': <gensim.models.keyedvectors.Vocab at 0x1ca33f4198>,\n",
       " 'differ': <gensim.models.keyedvectors.Vocab at 0x1ca33f41d0>,\n",
       " 'from': <gensim.models.keyedvectors.Vocab at 0x1ca33f4208>,\n",
       " 'other': <gensim.models.keyedvectors.Vocab at 0x1ca33f4240>,\n",
       " 'warm': <gensim.models.keyedvectors.Vocab at 0x1ca33f4278>,\n",
       " 'blooded': <gensim.models.keyedvectors.Vocab at 0x1ca33f42b0>,\n",
       " 'animals': <gensim.models.keyedvectors.Vocab at 0x1ca33f42e8>,\n",
       " 'accepting': <gensim.models.keyedvectors.Vocab at 0x1ca33f4320>,\n",
       " 'mind': <gensim.models.keyedvectors.Vocab at 0x1ca33f4358>,\n",
       " 'provide': <gensim.models.keyedvectors.Vocab at 0x1ca33f4390>,\n",
       " 'potential': <gensim.models.keyedvectors.Vocab at 0x1ca33f43c8>,\n",
       " 'questions': <gensim.models.keyedvectors.Vocab at 0x1ca33f4400>,\n",
       " 'analytic': <gensim.models.keyedvectors.Vocab at 0x1ca33f4438>,\n",
       " 'metaphysics': <gensim.models.keyedvectors.Vocab at 0x1ca33f4470>,\n",
       " 'ie': <gensim.models.keyedvectors.Vocab at 0x1ca33f44a8>,\n",
       " 'properties': <gensim.models.keyedvectors.Vocab at 0x1ca33f44e0>,\n",
       " 'standard': <gensim.models.keyedvectors.Vocab at 0x1ca33f4518>,\n",
       " 'model': <gensim.models.keyedvectors.Vocab at 0x1ca33f4550>,\n",
       " 'seems': <gensim.models.keyedvectors.Vocab at 0x1ca33f4588>,\n",
       " 'improper': <gensim.models.keyedvectors.Vocab at 0x1ca33f45c0>,\n",
       " 'responding': <gensim.models.keyedvectors.Vocab at 0x1ca33f45f8>,\n",
       " 'see': <gensim.models.keyedvectors.Vocab at 0x1ca33f4630>,\n",
       " 'mutual': <gensim.models.keyedvectors.Vocab at 0x1ca33f4668>,\n",
       " 'friends': <gensim.models.keyedvectors.Vocab at 0x1ca33f46a0>,\n",
       " 'friend': <gensim.models.keyedvectors.Vocab at 0x1ca33f46d8>,\n",
       " 'hike': <gensim.models.keyedvectors.Vocab at 0x1ca33f4710>,\n",
       " 'mining': <gensim.models.keyedvectors.Vocab at 0x1ca33f4748>,\n",
       " 'really': <gensim.models.keyedvectors.Vocab at 0x1ca33f4780>,\n",
       " 'required': <gensim.models.keyedvectors.Vocab at 0x1ca33f47b8>,\n",
       " 'secure': <gensim.models.keyedvectors.Vocab at 0x1ca33f47f0>,\n",
       " 'bitcoin': <gensim.models.keyedvectors.Vocab at 0x1ca33f4828>,\n",
       " 'blockchain': <gensim.models.keyedvectors.Vocab at 0x1ca33f4860>,\n",
       " 'isn': <gensim.models.keyedvectors.Vocab at 0x1ca33f4898>,\n",
       " 'job': <gensim.models.keyedvectors.Vocab at 0x1ca33f48d0>,\n",
       " 'full': <gensim.models.keyedvectors.Vocab at 0x1ca33f4908>,\n",
       " 'nodes': <gensim.models.keyedvectors.Vocab at 0x1ca33f4940>,\n",
       " 'because': <gensim.models.keyedvectors.Vocab at 0x1ca33f4978>,\n",
       " 'hacker': <gensim.models.keyedvectors.Vocab at 0x1ca33f49b0>,\n",
       " 'needs': <gensim.models.keyedvectors.Vocab at 0x1ca33f49e8>,\n",
       " 'hack': <gensim.models.keyedvectors.Vocab at 0x1ca33f4a20>,\n",
       " 'into': <gensim.models.keyedvectors.Vocab at 0x1ca33f4a58>,\n",
       " 'half': <gensim.models.keyedvectors.Vocab at 0x1ca33f4a90>,\n",
       " 'confirm': <gensim.models.keyedvectors.Vocab at 0x1ca33f4ac8>,\n",
       " 'fraudulent': <gensim.models.keyedvectors.Vocab at 0x1ca33f4b00>,\n",
       " 'transaction': <gensim.models.keyedvectors.Vocab at 0x1ca33f4b38>,\n",
       " 'where': <gensim.models.keyedvectors.Vocab at 0x1ca33f4b70>,\n",
       " 'find': <gensim.models.keyedvectors.Vocab at 0x1ca33f4ba8>,\n",
       " 'copyright': <gensim.models.keyedvectors.Vocab at 0x1ca33f4be0>,\n",
       " 'free': <gensim.models.keyedvectors.Vocab at 0x1ca33f4c18>,\n",
       " 'jobs': <gensim.models.keyedvectors.Vocab at 0x1ca33f4c50>,\n",
       " 'suitable': <gensim.models.keyedvectors.Vocab at 0x1ca33f4c88>,\n",
       " 'correct': <gensim.models.keyedvectors.Vocab at 0x1ca33f4cc0>,\n",
       " 'eyes': <gensim.models.keyedvectors.Vocab at 0x1ca33f4cf8>,\n",
       " 'or': <gensim.models.keyedvectors.Vocab at 0x1ca33f4d30>,\n",
       " 'eye': <gensim.models.keyedvectors.Vocab at 0x1ca33f4d68>,\n",
       " 'nba': <gensim.models.keyedvectors.Vocab at 0x1ca33f4da0>,\n",
       " 'teams': <gensim.models.keyedvectors.Vocab at 0x1ca33f4dd8>,\n",
       " 'city': <gensim.models.keyedvectors.Vocab at 0x1ca33f4e10>,\n",
       " 'jerseys': <gensim.models.keyedvectors.Vocab at 0x1ca33f4e48>,\n",
       " 'right': <gensim.models.keyedvectors.Vocab at 0x1ca33f4e80>,\n",
       " 'now': <gensim.models.keyedvectors.Vocab at 0x1ca33f4eb8>,\n",
       " 'helpful': <gensim.models.keyedvectors.Vocab at 0x1ca33f4ef0>,\n",
       " 'tips': <gensim.models.keyedvectors.Vocab at 0x1ca33f4f28>,\n",
       " 'students': <gensim.models.keyedvectors.Vocab at 0x1ca33f4f60>,\n",
       " 'joining': <gensim.models.keyedvectors.Vocab at 0x1ca33f4f98>,\n",
       " 'imperial': <gensim.models.keyedvectors.Vocab at 0x1ca33f4fd0>,\n",
       " 'college': <gensim.models.keyedvectors.Vocab at 0x1ca33f6048>,\n",
       " 'london': <gensim.models.keyedvectors.Vocab at 0x1ca33f6080>,\n",
       " 'person': <gensim.models.keyedvectors.Vocab at 0x1ca33f60b8>,\n",
       " 'not': <gensim.models.keyedvectors.Vocab at 0x1ca33f60f0>,\n",
       " 'ten': <gensim.models.keyedvectors.Vocab at 0x1ca33f6128>,\n",
       " 'health': <gensim.models.keyedvectors.Vocab at 0x1ca33f6160>,\n",
       " 'could': <gensim.models.keyedvectors.Vocab at 0x1ca33f6198>,\n",
       " 'muslim': <gensim.models.keyedvectors.Vocab at 0x1ca33f61d0>,\n",
       " 'man': <gensim.models.keyedvectors.Vocab at 0x1ca33f6208>,\n",
       " 'marry': <gensim.models.keyedvectors.Vocab at 0x1ca33f6240>,\n",
       " 'christian': <gensim.models.keyedvectors.Vocab at 0x1ca33f6278>,\n",
       " 'woman': <gensim.models.keyedvectors.Vocab at 0x1ca33f62b0>,\n",
       " 'converting': <gensim.models.keyedvectors.Vocab at 0x1ca33f62e8>,\n",
       " 'diploma': <gensim.models.keyedvectors.Vocab at 0x1ca33f6320>,\n",
       " 'chennai': <gensim.models.keyedvectors.Vocab at 0x1ca33f6358>,\n",
       " 'boyfriend': <gensim.models.keyedvectors.Vocab at 0x1ca33f6390>,\n",
       " 'has': <gensim.models.keyedvectors.Vocab at 0x1ca33f63c8>,\n",
       " 'abusive': <gensim.models.keyedvectors.Vocab at 0x1ca33f6400>,\n",
       " 'father': <gensim.models.keyedvectors.Vocab at 0x1ca33f6438>,\n",
       " 'girl': <gensim.models.keyedvectors.Vocab at 0x1ca33f6470>,\n",
       " 'want': <gensim.models.keyedvectors.Vocab at 0x1ca33f64a8>,\n",
       " 'his': <gensim.models.keyedvectors.Vocab at 0x1ca33f64e0>,\n",
       " 'bf': <gensim.models.keyedvectors.Vocab at 0x1ca33f6518>,\n",
       " 'relieve': <gensim.models.keyedvectors.Vocab at 0x1ca33f6550>,\n",
       " 'breast': <gensim.models.keyedvectors.Vocab at 0x1ca33f6588>,\n",
       " 'breastfeeding': <gensim.models.keyedvectors.Vocab at 0x1ca33f65c0>,\n",
       " 'still': <gensim.models.keyedvectors.Vocab at 0x1ca33f65f8>,\n",
       " 'support': <gensim.models.keyedvectors.Vocab at 0x1ca33f6630>,\n",
       " 'donald': <gensim.models.keyedvectors.Vocab at 0x1ca33f6668>,\n",
       " 'trump': <gensim.models.keyedvectors.Vocab at 0x1ca33f66a0>,\n",
       " 'despite': <gensim.models.keyedvectors.Vocab at 0x1ca33f66d8>,\n",
       " 'numerous': <gensim.models.keyedvectors.Vocab at 0x1ca33f6710>,\n",
       " 'crises': <gensim.models.keyedvectors.Vocab at 0x1ca33f6748>,\n",
       " 'white': <gensim.models.keyedvectors.Vocab at 0x1ca33f6780>,\n",
       " 'house': <gensim.models.keyedvectors.Vocab at 0x1ca33f67b8>,\n",
       " 'angles': <gensim.models.keyedvectors.Vocab at 0x1ca33f67f0>,\n",
       " 'triangles': <gensim.models.keyedvectors.Vocab at 0x1ca33f6828>,\n",
       " 'similar': <gensim.models.keyedvectors.Vocab at 0x1ca33f6860>,\n",
       " 'mach': <gensim.models.keyedvectors.Vocab at 0x1ca33f6898>,\n",
       " 'sperm': <gensim.models.keyedvectors.Vocab at 0x1ca33f68d0>,\n",
       " 'programming': <gensim.models.keyedvectors.Vocab at 0x1ca33f6908>,\n",
       " 'languages': <gensim.models.keyedvectors.Vocab at 0x1ca33f6940>,\n",
       " 'computers': <gensim.models.keyedvectors.Vocab at 0x1ca33f6978>,\n",
       " 'equivalent': <gensim.models.keyedvectors.Vocab at 0x1ca33f69b0>,\n",
       " 'russia': <gensim.models.keyedvectors.Vocab at 0x1ca33f69e8>,\n",
       " 'national': <gensim.models.keyedvectors.Vocab at 0x1ca33f6a20>,\n",
       " 'bolshevik': <gensim.models.keyedvectors.Vocab at 0x1ca33f6a58>,\n",
       " 'party': <gensim.models.keyedvectors.Vocab at 0x1ca33f6a90>,\n",
       " 'preserve': <gensim.models.keyedvectors.Vocab at 0x1ca33f6ac8>,\n",
       " 'culture': <gensim.models.keyedvectors.Vocab at 0x1ca33f6b00>,\n",
       " 'possible': <gensim.models.keyedvectors.Vocab at 0x1ca33f6b38>,\n",
       " 'field': <gensim.models.keyedvectors.Vocab at 0x1ca33f6b70>,\n",
       " 'media': <gensim.models.keyedvectors.Vocab at 0x1ca33f6ba8>,\n",
       " 'entertainment': <gensim.models.keyedvectors.Vocab at 0x1ca33f6be0>,\n",
       " 'e': <gensim.models.keyedvectors.Vocab at 0x1ca33f6c18>,\n",
       " 'pgdm': <gensim.models.keyedvectors.Vocab at 0x1ca33f6c50>,\n",
       " 'bring': <gensim.models.keyedvectors.Vocab at 0x1ca33f6c88>,\n",
       " 'mistake': <gensim.models.keyedvectors.Vocab at 0x1ca33f6cc0>,\n",
       " 'ago': <gensim.models.keyedvectors.Vocab at 0x1ca33f6cf8>,\n",
       " 'thought': <gensim.models.keyedvectors.Vocab at 0x1ca33f6d30>,\n",
       " 'had': <gensim.models.keyedvectors.Vocab at 0x1ca33f6d68>,\n",
       " 'been': <gensim.models.keyedvectors.Vocab at 0x1ca33f6da0>,\n",
       " 'resolved': <gensim.models.keyedvectors.Vocab at 0x1ca33f6dd8>,\n",
       " 'let': <gensim.models.keyedvectors.Vocab at 0x1ca33f6e10>,\n",
       " 'go': <gensim.models.keyedvectors.Vocab at 0x1ca33f6e48>,\n",
       " 'tolkien': <gensim.models.keyedvectors.Vocab at 0x1ca33f6e80>,\n",
       " 'anti': <gensim.models.keyedvectors.Vocab at 0x1ca33f6eb8>,\n",
       " 'opinion': <gensim.models.keyedvectors.Vocab at 0x1ca33f6ef0>,\n",
       " 'colonialism': <gensim.models.keyedvectors.Vocab at 0x1ca33f6f28>,\n",
       " 'closely': <gensim.models.keyedvectors.Vocab at 0x1ca33f6f60>,\n",
       " 'linked': <gensim.models.keyedvectors.Vocab at 0x1ca33f6f98>,\n",
       " 'industry': <gensim.models.keyedvectors.Vocab at 0x1ca33f6fd0>,\n",
       " 'break': <gensim.models.keyedvectors.Vocab at 0x1ca33fa048>,\n",
       " 'pattern': <gensim.models.keyedvectors.Vocab at 0x1ca33fa080>,\n",
       " 'always': <gensim.models.keyedvectors.Vocab at 0x1ca33fa0b8>,\n",
       " 'liking': <gensim.models.keyedvectors.Vocab at 0x1ca33fa0f0>,\n",
       " 'kind': <gensim.models.keyedvectors.Vocab at 0x1ca33fa128>,\n",
       " 'guys': <gensim.models.keyedvectors.Vocab at 0x1ca33fa160>,\n",
       " 'will': <gensim.models.keyedvectors.Vocab at 0x1ca33fa198>,\n",
       " 'doing': <gensim.models.keyedvectors.Vocab at 0x1ca33fa1d0>,\n",
       " 'wicket': <gensim.models.keyedvectors.Vocab at 0x1ca33fa208>,\n",
       " 'keeping': <gensim.models.keyedvectors.Vocab at 0x1ca33fa240>,\n",
       " 'kkr': <gensim.models.keyedvectors.Vocab at 0x1ca33fa278>,\n",
       " 'robin': <gensim.models.keyedvectors.Vocab at 0x1ca33fa2b0>,\n",
       " 'define': <gensim.models.keyedvectors.Vocab at 0x1ca33fa2e8>,\n",
       " 'life': <gensim.models.keyedvectors.Vocab at 0x1ca33fa320>,\n",
       " 'present': <gensim.models.keyedvectors.Vocab at 0x1ca33fa358>,\n",
       " 'become': <gensim.models.keyedvectors.Vocab at 0x1ca33fa390>,\n",
       " 'perfect': <gensim.models.keyedvectors.Vocab at 0x1ca33fa3c8>,\n",
       " 'biology': <gensim.models.keyedvectors.Vocab at 0x1ca33fa400>,\n",
       " 'width': <gensim.models.keyedvectors.Vocab at 0x1ca33fa438>,\n",
       " 'depletion': <gensim.models.keyedvectors.Vocab at 0x1ca33fa470>,\n",
       " 'region': <gensim.models.keyedvectors.Vocab at 0x1ca33fa4a8>,\n",
       " 'both': <gensim.models.keyedvectors.Vocab at 0x1ca33fa4e0>,\n",
       " 'forward': <gensim.models.keyedvectors.Vocab at 0x1ca33fa518>,\n",
       " 'reverse': <gensim.models.keyedvectors.Vocab at 0x1ca33fa550>,\n",
       " 'biases': <gensim.models.keyedvectors.Vocab at 0x1ca33fa588>,\n",
       " 'p': <gensim.models.keyedvectors.Vocab at 0x1ca33fa5c0>,\n",
       " 'n': <gensim.models.keyedvectors.Vocab at 0x1ca33fa5f8>,\n",
       " 'junction': <gensim.models.keyedvectors.Vocab at 0x1ca33fa630>,\n",
       " 'explain': <gensim.models.keyedvectors.Vocab at 0x1ca33fa668>,\n",
       " 'diagram': <gensim.models.keyedvectors.Vocab at 0x1ca33fa6a0>,\n",
       " 'pay': <gensim.models.keyedvectors.Vocab at 0x1ca33fa6d8>,\n",
       " 'bills': <gensim.models.keyedvectors.Vocab at 0x1ca33fa710>,\n",
       " 'counterfeit': <gensim.models.keyedvectors.Vocab at 0x1ca33fa748>,\n",
       " 'famous': <gensim.models.keyedvectors.Vocab at 0x1ca33fa780>,\n",
       " 'sniper': <gensim.models.keyedvectors.Vocab at 0x1ca33fa7b8>,\n",
       " 'north': <gensim.models.keyedvectors.Vocab at 0x1ca33fa7f0>,\n",
       " 'vietnam': <gensim.models.keyedvectors.Vocab at 0x1ca33fa828>,\n",
       " 'war': <gensim.models.keyedvectors.Vocab at 0x1ca33fa860>,\n",
       " 'highlights': <gensim.models.keyedvectors.Vocab at 0x1ca33fa898>,\n",
       " 'york': <gensim.models.keyedvectors.Vocab at 0x1ca33fa8d0>,\n",
       " 'career': <gensim.models.keyedvectors.Vocab at 0x1ca33fa908>,\n",
       " 'sports': <gensim.models.keyedvectors.Vocab at 0x1ca33fa940>,\n",
       " 'executive': <gensim.models.keyedvectors.Vocab at 0x1ca33fa978>,\n",
       " 'location': <gensim.models.keyedvectors.Vocab at 0x1ca33fa9b0>,\n",
       " 'hawaii': <gensim.models.keyedvectors.Vocab at 0x1ca33fa9e8>,\n",
       " 'implement': <gensim.models.keyedvectors.Vocab at 0x1ca33faa20>,\n",
       " 'innovation': <gensim.models.keyedvectors.Vocab at 0x1ca33faa58>,\n",
       " 'finally': <gensim.models.keyedvectors.Vocab at 0x1ca33faa90>,\n",
       " 'big': <gensim.models.keyedvectors.Vocab at 0x1ca33faac8>,\n",
       " 'startup': <gensim.models.keyedvectors.Vocab at 0x1ca33fab00>,\n",
       " 'ww': <gensim.models.keyedvectors.Vocab at 0x1ca33fab38>,\n",
       " 'take': <gensim.models.keyedvectors.Vocab at 0x1ca33fab70>,\n",
       " 'abrams': <gensim.models.keyedvectors.Vocab at 0x1ca33faba8>,\n",
       " 'basic': <gensim.models.keyedvectors.Vocab at 0x1ca33fabe0>,\n",
       " 'things': <gensim.models.keyedvectors.Vocab at 0x1ca33fac18>,\n",
       " 'one': <gensim.models.keyedvectors.Vocab at 0x1ca33fac50>,\n",
       " 'long': <gensim.models.keyedvectors.Vocab at 0x1ca33fac88>,\n",
       " 'sit': <gensim.models.keyedvectors.Vocab at 0x1ca33facc0>,\n",
       " 'population': <gensim.models.keyedvectors.Vocab at 0x1ca33facf8>,\n",
       " 'andhra': <gensim.models.keyedvectors.Vocab at 0x1ca33fad30>,\n",
       " 'pradesh': <gensim.models.keyedvectors.Vocab at 0x1ca33fad68>,\n",
       " 'function': <gensim.models.keyedvectors.Vocab at 0x1ca33fada0>,\n",
       " 'islamic': <gensim.models.keyedvectors.Vocab at 0x1ca33fadd8>,\n",
       " 'military': <gensim.models.keyedvectors.Vocab at 0x1ca33fae10>,\n",
       " 'alliance': <gensim.models.keyedvectors.Vocab at 0x1ca33fae48>,\n",
       " 'intervene': <gensim.models.keyedvectors.Vocab at 0x1ca33fae80>,\n",
       " 'future': <gensim.models.keyedvectors.Vocab at 0x1ca33faeb8>,\n",
       " 'indo': <gensim.models.keyedvectors.Vocab at 0x1ca33faef0>,\n",
       " 'pak': <gensim.models.keyedvectors.Vocab at 0x1ca33faf28>,\n",
       " 'actually': <gensim.models.keyedvectors.Vocab at 0x1ca33faf60>,\n",
       " 'drunk': <gensim.models.keyedvectors.Vocab at 0x1ca33faf98>,\n",
       " 'costs': <gensim.models.keyedvectors.Vocab at 0x1ca33fafd0>,\n",
       " 'saved': <gensim.models.keyedvectors.Vocab at 0x1d32680048>,\n",
       " 'sbi': <gensim.models.keyedvectors.Vocab at 0x1d32680080>,\n",
       " 'merger': <gensim.models.keyedvectors.Vocab at 0x1d326800b8>,\n",
       " 'laws': <gensim.models.keyedvectors.Vocab at 0x1d326800f0>,\n",
       " 'norms': <gensim.models.keyedvectors.Vocab at 0x1d32680128>,\n",
       " 'allow': <gensim.models.keyedvectors.Vocab at 0x1d32680160>,\n",
       " 'indian': <gensim.models.keyedvectors.Vocab at 0x1d32680198>,\n",
       " 'government': <gensim.models.keyedvectors.Vocab at 0x1d326801d0>,\n",
       " 'colleges': <gensim.models.keyedvectors.Vocab at 0x1d32680208>,\n",
       " 'conduct': <gensim.models.keyedvectors.Vocab at 0x1d32680240>,\n",
       " 'campus': <gensim.models.keyedvectors.Vocab at 0x1d32680278>,\n",
       " 'placement': <gensim.models.keyedvectors.Vocab at 0x1d326802b0>,\n",
       " 'drive': <gensim.models.keyedvectors.Vocab at 0x1d326802e8>,\n",
       " 'way': <gensim.models.keyedvectors.Vocab at 0x1d32680320>,\n",
       " 'serve': <gensim.models.keyedvectors.Vocab at 0x1d32680358>,\n",
       " 'sausage': <gensim.models.keyedvectors.Vocab at 0x1d32680390>,\n",
       " 'habitual': <gensim.models.keyedvectors.Vocab at 0x1d326803c8>,\n",
       " 'activities': <gensim.models.keyedvectors.Vocab at 0x1d32680400>,\n",
       " 'hobbies': <gensim.models.keyedvectors.Vocab at 0x1d32680438>,\n",
       " 'participate': <gensim.models.keyedvectors.Vocab at 0x1d32680470>,\n",
       " 'daily': <gensim.models.keyedvectors.Vocab at 0x1d326804a8>,\n",
       " 'minutes': <gensim.models.keyedvectors.Vocab at 0x1d326804e0>,\n",
       " 'average': <gensim.models.keyedvectors.Vocab at 0x1d32680518>,\n",
       " 'spend': <gensim.models.keyedvectors.Vocab at 0x1d32680550>,\n",
       " 'each': <gensim.models.keyedvectors.Vocab at 0x1d32680588>,\n",
       " 'wallet': <gensim.models.keyedvectors.Vocab at 0x1d326805c0>,\n",
       " 'handbag': <gensim.models.keyedvectors.Vocab at 0x1d326805f8>,\n",
       " 'designing': <gensim.models.keyedvectors.Vocab at 0x1d32680630>,\n",
       " 'software': <gensim.models.keyedvectors.Vocab at 0x1d32680668>,\n",
       " 'weird': <gensim.models.keyedvectors.Vocab at 0x1d326806a0>,\n",
       " 'kicked': <gensim.models.keyedvectors.Vocab at 0x1d326806d8>,\n",
       " 'off': <gensim.models.keyedvectors.Vocab at 0x1d32680710>,\n",
       " 'flight': <gensim.models.keyedvectors.Vocab at 0x1d32680748>,\n",
       " 'we': <gensim.models.keyedvectors.Vocab at 0x1d32680780>,\n",
       " 'use': <gensim.models.keyedvectors.Vocab at 0x1d326807b8>,\n",
       " 'plastic': <gensim.models.keyedvectors.Vocab at 0x1d326807f0>,\n",
       " 'material': <gensim.models.keyedvectors.Vocab at 0x1d32680828>,\n",
       " 'instead': <gensim.models.keyedvectors.Vocab at 0x1d32680860>,\n",
       " 'metal': <gensim.models.keyedvectors.Vocab at 0x1d32680898>,\n",
       " 'manufacturing': <gensim.models.keyedvectors.Vocab at 0x1d326808d0>,\n",
       " 'transformers': <gensim.models.keyedvectors.Vocab at 0x1d32680908>,\n",
       " 'tanks': <gensim.models.keyedvectors.Vocab at 0x1d32680940>,\n",
       " 'losses': <gensim.models.keyedvectors.Vocab at 0x1d32680978>,\n",
       " 'wells': <gensim.models.keyedvectors.Vocab at 0x1d326809b0>,\n",
       " 'fargo': <gensim.models.keyedvectors.Vocab at 0x1d326809e8>,\n",
       " 'limit': <gensim.models.keyedvectors.Vocab at 0x1d32680a20>,\n",
       " 'atm': <gensim.models.keyedvectors.Vocab at 0x1d32680a58>,\n",
       " 'dollar': <gensim.models.keyedvectors.Vocab at 0x1d32680a90>,\n",
       " 'amount': <gensim.models.keyedvectors.Vocab at 0x1d32680ac8>,\n",
       " 'ceo': <gensim.models.keyedvectors.Vocab at 0x1d32680b00>,\n",
       " 'need': <gensim.models.keyedvectors.Vocab at 0x1d32680b38>,\n",
       " 'study': <gensim.models.keyedvectors.Vocab at 0x1d32680b70>,\n",
       " 'doesn': <gensim.models.keyedvectors.Vocab at 0x1d32680ba8>,\n",
       " 'israel': <gensim.models.keyedvectors.Vocab at 0x1d32680be0>,\n",
       " 'build': <gensim.models.keyedvectors.Vocab at 0x1d32680c18>,\n",
       " 'heavy': <gensim.models.keyedvectors.Vocab at 0x1d32680c50>,\n",
       " 'duty': <gensim.models.keyedvectors.Vocab at 0x1d32680c88>,\n",
       " 'fence': <gensim.models.keyedvectors.Vocab at 0x1d32680cc0>,\n",
       " 'around': <gensim.models.keyedvectors.Vocab at 0x1d32680cf8>,\n",
       " 'gaza': <gensim.models.keyedvectors.Vocab at 0x1d32680d30>,\n",
       " 'border': <gensim.models.keyedvectors.Vocab at 0x1d32680d68>,\n",
       " 'like': <gensim.models.keyedvectors.Vocab at 0x1d32680da0>,\n",
       " 'built': <gensim.models.keyedvectors.Vocab at 0x1d32680dd8>,\n",
       " 'egyptian': <gensim.models.keyedvectors.Vocab at 0x1d32680e10>,\n",
       " 'video': <gensim.models.keyedvectors.Vocab at 0x1d32680e48>,\n",
       " 'games': <gensim.models.keyedvectors.Vocab at 0x1d32680e80>,\n",
       " 'legal': <gensim.models.keyedvectors.Vocab at 0x1d32680eb8>,\n",
       " 'tint': <gensim.models.keyedvectors.Vocab at 0x1d32680ef0>,\n",
       " 'texas': <gensim.models.keyedvectors.Vocab at 0x1d32680f28>,\n",
       " 'entrepreneur': <gensim.models.keyedvectors.Vocab at 0x1d32680f60>,\n",
       " 'objectively': <gensim.models.keyedvectors.Vocab at 0x1d32680f98>,\n",
       " 'employee': <gensim.models.keyedvectors.Vocab at 0x1d32680fd0>,\n",
       " 'healthcare': <gensim.models.keyedvectors.Vocab at 0x1d32682048>,\n",
       " 'entitlement': <gensim.models.keyedvectors.Vocab at 0x1d32682080>,\n",
       " 'reasonable': <gensim.models.keyedvectors.Vocab at 0x1d326820b8>,\n",
       " 'referral': <gensim.models.keyedvectors.Vocab at 0x1d326820f0>,\n",
       " 'fee': <gensim.models.keyedvectors.Vocab at 0x1d32682128>,\n",
       " 'investor': <gensim.models.keyedvectors.Vocab at 0x1d32682160>,\n",
       " 'hotels': <gensim.models.keyedvectors.Vocab at 0x1d32682198>,\n",
       " 'indore': <gensim.models.keyedvectors.Vocab at 0x1d326821d0>,\n",
       " 'allows': <gensim.models.keyedvectors.Vocab at 0x1d32682208>,\n",
       " 'married': <gensim.models.keyedvectors.Vocab at 0x1d32682240>,\n",
       " 'couples': <gensim.models.keyedvectors.Vocab at 0x1d32682278>,\n",
       " 'night': <gensim.models.keyedvectors.Vocab at 0x1d326822b0>,\n",
       " 'stay': <gensim.models.keyedvectors.Vocab at 0x1d326822e8>,\n",
       " 'football': <gensim.models.keyedvectors.Vocab at 0x1d32682320>,\n",
       " 'jersey': <gensim.models.keyedvectors.Vocab at 0x1d32682358>,\n",
       " 'photoshop': <gensim.models.keyedvectors.Vocab at 0x1d32682390>,\n",
       " 'movie': <gensim.models.keyedvectors.Vocab at 0x1d326823c8>,\n",
       " 'own': <gensim.models.keyedvectors.Vocab at 0x1d32682400>,\n",
       " 'think': <gensim.models.keyedvectors.Vocab at 0x1d32682438>,\n",
       " 'watch': <gensim.models.keyedvectors.Vocab at 0x1d32682470>,\n",
       " 'anime': <gensim.models.keyedvectors.Vocab at 0x1d326824a8>,\n",
       " 'manga': <gensim.models.keyedvectors.Vocab at 0x1d326824e0>,\n",
       " 'section': <gensim.models.keyedvectors.Vocab at 0x1d32682518>,\n",
       " 'were': <gensim.models.keyedvectors.Vocab at 0x1d32682550>,\n",
       " 'lot': <gensim.models.keyedvectors.Vocab at 0x1d32682588>,\n",
       " 'gaara': <gensim.models.keyedvectors.Vocab at 0x1d326825c0>,\n",
       " 'character': <gensim.models.keyedvectors.Vocab at 0x1d326825f8>,\n",
       " 'naruto': <gensim.models.keyedvectors.Vocab at 0x1d32682630>,\n",
       " 'learning': <gensim.models.keyedvectors.Vocab at 0x1d32682668>,\n",
       " 'banking': <gensim.models.keyedvectors.Vocab at 0x1d326826a0>,\n",
       " 'obsession': <gensim.models.keyedvectors.Vocab at 0x1d326826d8>,\n",
       " 'perfection': <gensim.models.keyedvectors.Vocab at 0x1d32682710>,\n",
       " 'simply': <gensim.models.keyedvectors.Vocab at 0x1d32682748>,\n",
       " 'companies': <gensim.models.keyedvectors.Vocab at 0x1d32682780>,\n",
       " 'stripe': <gensim.models.keyedvectors.Vocab at 0x1d326827b8>,\n",
       " 'square': <gensim.models.keyedvectors.Vocab at 0x1d326827f0>,\n",
       " 'etc': <gensim.models.keyedvectors.Vocab at 0x1d32682828>,\n",
       " 'paid': <gensim.models.keyedvectors.Vocab at 0x1d32682860>,\n",
       " 'search': <gensim.models.keyedvectors.Vocab at 0x1d32682898>,\n",
       " 'forget': <gensim.models.keyedvectors.Vocab at 0x1d326828d0>,\n",
       " 'focus': <gensim.models.keyedvectors.Vocab at 0x1d32682908>,\n",
       " 'our': <gensim.models.keyedvectors.Vocab at 0x1d32682940>,\n",
       " 'relationship': <gensim.models.keyedvectors.Vocab at 0x1d32682978>,\n",
       " 'bachelor': <gensim.models.keyedvectors.Vocab at 0x1d326829b0>,\n",
       " 'living': <gensim.models.keyedvectors.Vocab at 0x1d326829e8>,\n",
       " 'alone': <gensim.models.keyedvectors.Vocab at 0x1d32682a20>,\n",
       " 'type': <gensim.models.keyedvectors.Vocab at 0x1d32682a58>,\n",
       " 'diabetes': <gensim.models.keyedvectors.Vocab at 0x1d32682a90>,\n",
       " 'network': <gensim.models.keyedvectors.Vocab at 0x1d32682ac8>,\n",
       " 'strong': <gensim.models.keyedvectors.Vocab at 0x1d32682b00>,\n",
       " 'compared': <gensim.models.keyedvectors.Vocab at 0x1d32682b38>,\n",
       " 'difference': <gensim.models.keyedvectors.Vocab at 0x1d32682b70>,\n",
       " 'between': <gensim.models.keyedvectors.Vocab at 0x1d32682ba8>,\n",
       " 'diplomacy': <gensim.models.keyedvectors.Vocab at 0x1d32682be0>,\n",
       " 'dams': <gensim.models.keyedvectors.Vocab at 0x1d32682c18>,\n",
       " 'notes': <gensim.models.keyedvectors.Vocab at 0x1d32682c50>,\n",
       " 'marketing': <gensim.models.keyedvectors.Vocab at 0x1d32682c88>,\n",
       " 'strategies': <gensim.models.keyedvectors.Vocab at 0x1d32682cc0>,\n",
       " 'used': <gensim.models.keyedvectors.Vocab at 0x1d32682cf8>,\n",
       " 'montreal': <gensim.models.keyedvectors.Vocab at 0x1d32682d30>,\n",
       " 'quebec': <gensim.models.keyedvectors.Vocab at 0x1d32682d68>,\n",
       " 'walmart': <gensim.models.keyedvectors.Vocab at 0x1d32682da0>,\n",
       " 'universities': <gensim.models.keyedvectors.Vocab at 0x1d32682dd8>,\n",
       " 'mafia': <gensim.models.keyedvectors.Vocab at 0x1d32682e10>,\n",
       " 'boss': <gensim.models.keyedvectors.Vocab at 0x1d32682e48>,\n",
       " 'mummy': <gensim.models.keyedvectors.Vocab at 0x1d32682e80>,\n",
       " 'cat': <gensim.models.keyedvectors.Vocab at 0x1d32682eb8>,\n",
       " 'lift': <gensim.models.keyedvectors.Vocab at 0x1d32682ef0>,\n",
       " 'her': <gensim.models.keyedvectors.Vocab at 0x1d32682f28>,\n",
       " 'newborns': <gensim.models.keyedvectors.Vocab at 0x1d32682f60>,\n",
       " 'feet': <gensim.models.keyedvectors.Vocab at 0x1d32682f98>,\n",
       " 'acquire': <gensim.models.keyedvectors.Vocab at 0x1d32682fd0>,\n",
       " 'skills': <gensim.models.keyedvectors.Vocab at 0x1d32686048>,\n",
       " 'teach': <gensim.models.keyedvectors.Vocab at 0x1d32686080>,\n",
       " 'oneself': <gensim.models.keyedvectors.Vocab at 0x1d326860b8>,\n",
       " 'dream': <gensim.models.keyedvectors.Vocab at 0x1d326860f0>,\n",
       " 'complaint': <gensim.models.keyedvectors.Vocab at 0x1d32686128>,\n",
       " 'dear': <gensim.models.keyedvectors.Vocab at 0x1d32686160>,\n",
       " 'ahmedabad': <gensim.models.keyedvectors.Vocab at 0x1d32686198>,\n",
       " 'grand': <gensim.models.keyedvectors.Vocab at 0x1d326861d0>,\n",
       " 'theory': <gensim.models.keyedvectors.Vocab at 0x1d32686208>,\n",
       " 'middle': <gensim.models.keyedvectors.Vocab at 0x1d32686240>,\n",
       " 'explaining': <gensim.models.keyedvectors.Vocab at 0x1d32686278>,\n",
       " 'concept': <gensim.models.keyedvectors.Vocab at 0x1d326862b0>,\n",
       " 'security': <gensim.models.keyedvectors.Vocab at 0x1d326862e8>,\n",
       " 'cooperation': <gensim.models.keyedvectors.Vocab at 0x1d32686320>,\n",
       " 'girls': <gensim.models.keyedvectors.Vocab at 0x1d32686358>,\n",
       " 'jealous': <gensim.models.keyedvectors.Vocab at 0x1d32686390>,\n",
       " 'selfish': <gensim.models.keyedvectors.Vocab at 0x1d326863c8>,\n",
       " 'engage': <gensim.models.keyedvectors.Vocab at 0x1d32686400>,\n",
       " 'visitors': <gensim.models.keyedvectors.Vocab at 0x1d32686438>,\n",
       " 'opt': <gensim.models.keyedvectors.Vocab at 0x1d32686470>,\n",
       " 're': <gensim.models.keyedvectors.Vocab at 0x1d326864a8>,\n",
       " 'packages': <gensim.models.keyedvectors.Vocab at 0x1d326864e0>,\n",
       " 'jio': <gensim.models.keyedvectors.Vocab at 0x1d32686518>,\n",
       " 'offer': <gensim.models.keyedvectors.Vocab at 0x1d32686550>,\n",
       " 'freshers': <gensim.models.keyedvectors.Vocab at 0x1d32686588>,\n",
       " 'quit': <gensim.models.keyedvectors.Vocab at 0x1d326865c0>,\n",
       " 'smoking': <gensim.models.keyedvectors.Vocab at 0x1d326865f8>,\n",
       " 'healthier': <gensim.models.keyedvectors.Vocab at 0x1d32686630>,\n",
       " 'physics': <gensim.models.keyedvectors.Vocab at 0x1d32686668>,\n",
       " 'faculty': <gensim.models.keyedvectors.Vocab at 0x1d326866a0>,\n",
       " 'allen': <gensim.models.keyedvectors.Vocab at 0x1d326866d8>,\n",
       " 'institute': <gensim.models.keyedvectors.Vocab at 0x1d32686710>,\n",
       " 'kota': <gensim.models.keyedvectors.Vocab at 0x1d32686748>,\n",
       " 'remedy': <gensim.models.keyedvectors.Vocab at 0x1d32686780>,\n",
       " 'stop': <gensim.models.keyedvectors.Vocab at 0x1d326867b8>,\n",
       " 'lazy': <gensim.models.keyedvectors.Vocab at 0x1d326867f0>,\n",
       " 'java': <gensim.models.keyedvectors.Vocab at 0x1d32686828>,\n",
       " 'language': <gensim.models.keyedvectors.Vocab at 0x1d32686860>,\n",
       " 'hacked': <gensim.models.keyedvectors.Vocab at 0x1d32686898>,\n",
       " 'am': <gensim.models.keyedvectors.Vocab at 0x1d326868d0>,\n",
       " 'scared': <gensim.models.keyedvectors.Vocab at 0x1d32686908>,\n",
       " 'give': <gensim.models.keyedvectors.Vocab at 0x1d32686940>,\n",
       " 'perks': <gensim.models.keyedvectors.Vocab at 0x1d32686978>,\n",
       " 'google': <gensim.models.keyedvectors.Vocab at 0x1d326869b0>,\n",
       " 'love': <gensim.models.keyedvectors.Vocab at 0x1d326869e8>,\n",
       " 'wife': <gensim.models.keyedvectors.Vocab at 0x1d32686a20>,\n",
       " 'only': <gensim.models.keyedvectors.Vocab at 0x1d32686a58>,\n",
       " 'gives': <gensim.models.keyedvectors.Vocab at 0x1d32686a90>,\n",
       " 'discuss': <gensim.models.keyedvectors.Vocab at 0x1d32686ac8>,\n",
       " 'this': <gensim.models.keyedvectors.Vocab at 0x1d32686b00>,\n",
       " 'she': <gensim.models.keyedvectors.Vocab at 0x1d32686b38>,\n",
       " 'respond': <gensim.models.keyedvectors.Vocab at 0x1d32686b70>,\n",
       " 'anal': <gensim.models.keyedvectors.Vocab at 0x1d32686ba8>,\n",
       " 'workplace': <gensim.models.keyedvectors.Vocab at 0x1d32686be0>,\n",
       " 'drug': <gensim.models.keyedvectors.Vocab at 0x1d32686c18>,\n",
       " 'testing': <gensim.models.keyedvectors.Vocab at 0x1d32686c50>,\n",
       " 'unethical': <gensim.models.keyedvectors.Vocab at 0x1d32686c88>,\n",
       " 'underrated': <gensim.models.keyedvectors.Vocab at 0x1d32686cc0>,\n",
       " 'two': <gensim.models.keyedvectors.Vocab at 0x1d32686cf8>,\n",
       " 'fans': <gensim.models.keyedvectors.Vocab at 0x1d32686d30>,\n",
       " 'facing': <gensim.models.keyedvectors.Vocab at 0x1d32686d68>,\n",
       " 'cancel': <gensim.models.keyedvectors.Vocab at 0x1d32686da0>,\n",
       " 'out': <gensim.models.keyedvectors.Vocab at 0x1d32686dd8>,\n",
       " 'movement': <gensim.models.keyedvectors.Vocab at 0x1d32686e10>,\n",
       " 'heat': <gensim.models.keyedvectors.Vocab at 0x1d32686e48>,\n",
       " 'age': <gensim.models.keyedvectors.Vocab at 0x1d32686e80>,\n",
       " 'biological': <gensim.models.keyedvectors.Vocab at 0x1d32686eb8>,\n",
       " 'immortality': <gensim.models.keyedvectors.Vocab at 0x1d32686ef0>,\n",
       " 'space': <gensim.models.keyedvectors.Vocab at 0x1d32686f28>,\n",
       " 'travel': <gensim.models.keyedvectors.Vocab at 0x1d32686f60>,\n",
       " 'someone': <gensim.models.keyedvectors.Vocab at 0x1d32686f98>,\n",
       " 'choose': <gensim.models.keyedvectors.Vocab at 0x1d32686fd0>,\n",
       " 'university': <gensim.models.keyedvectors.Vocab at 0x1d3268a048>,\n",
       " 'far': <gensim.models.keyedvectors.Vocab at 0x1d3268a080>,\n",
       " 'did': <gensim.models.keyedvectors.Vocab at 0x1d3268a0b8>,\n",
       " 'vikings': <gensim.models.keyedvectors.Vocab at 0x1d3268a0f0>,\n",
       " 'their': <gensim.models.keyedvectors.Vocab at 0x1d3268a128>,\n",
       " 'exercises': <gensim.models.keyedvectors.Vocab at 0x1d3268a160>,\n",
       " 'reducing': <gensim.models.keyedvectors.Vocab at 0x1d3268a198>,\n",
       " 'side': <gensim.models.keyedvectors.Vocab at 0x1d3268a1d0>,\n",
       " 'fat': <gensim.models.keyedvectors.Vocab at 0x1d3268a208>,\n",
       " 'nuclear': <gensim.models.keyedvectors.Vocab at 0x1d3268a240>,\n",
       " 'power': <gensim.models.keyedvectors.Vocab at 0x1d3268a278>,\n",
       " 'plants': <gensim.models.keyedvectors.Vocab at 0x1d3268a2b0>,\n",
       " 'allegedly': <gensim.models.keyedvectors.Vocab at 0x1d3268a2e8>,\n",
       " 'efficient': <gensim.models.keyedvectors.Vocab at 0x1d3268a320>,\n",
       " 'producers': <gensim.models.keyedvectors.Vocab at 0x1d3268a358>,\n",
       " 'energy': <gensim.models.keyedvectors.Vocab at 0x1d3268a390>,\n",
       " 'term': <gensim.models.keyedvectors.Vocab at 0x1d3268a3c8>,\n",
       " 'travelers': <gensim.models.keyedvectors.Vocab at 0x1d3268a400>,\n",
       " 'china': <gensim.models.keyedvectors.Vocab at 0x1d3268a438>,\n",
       " 'tall': <gensim.models.keyedvectors.Vocab at 0x1d3268a470>,\n",
       " 'dad': <gensim.models.keyedvectors.Vocab at 0x1d3268a4a8>,\n",
       " 'mom': <gensim.models.keyedvectors.Vocab at 0x1d3268a4e0>,\n",
       " 'currently': <gensim.models.keyedvectors.Vocab at 0x1d3268a518>,\n",
       " 'male': <gensim.models.keyedvectors.Vocab at 0x1d3268a550>,\n",
       " 'hard': <gensim.models.keyedvectors.Vocab at 0x1d3268a588>,\n",
       " 'ms': <gensim.models.keyedvectors.Vocab at 0x1d3268a5c0>,\n",
       " 'dhoni': <gensim.models.keyedvectors.Vocab at 0x1d3268a5f8>,\n",
       " 'decision': <gensim.models.keyedvectors.Vocab at 0x1d3268a630>,\n",
       " 'team': <gensim.models.keyedvectors.Vocab at 0x1d3268a668>,\n",
       " 'humans': <gensim.models.keyedvectors.Vocab at 0x1d3268a6a0>,\n",
       " 'nipples': <gensim.models.keyedvectors.Vocab at 0x1d3268a6d8>,\n",
       " 'children': <gensim.models.keyedvectors.Vocab at 0x1d3268a710>,\n",
       " 'bank': <gensim.models.keyedvectors.Vocab at 0x1d3268a748>,\n",
       " 'work': <gensim.models.keyedvectors.Vocab at 0x1d3268a780>,\n",
       " 'propeller': <gensim.models.keyedvectors.Vocab at 0x1d3268a7b8>,\n",
       " 'ship': <gensim.models.keyedvectors.Vocab at 0x1d3268a7f0>,\n",
       " 'rank': <gensim.models.keyedvectors.Vocab at 0x1d3268a828>,\n",
       " 'order': <gensim.models.keyedvectors.Vocab at 0x1d3268a860>,\n",
       " 'mechanical': <gensim.models.keyedvectors.Vocab at 0x1d3268a898>,\n",
       " 'gun': <gensim.models.keyedvectors.Vocab at 0x1d3268a8d0>,\n",
       " 'politicians': <gensim.models.keyedvectors.Vocab at 0x1d3268a908>,\n",
       " 'working': <gensim.models.keyedvectors.Vocab at 0x1d3268a940>,\n",
       " 'enemy': <gensim.models.keyedvectors.Vocab at 0x1d3268a978>,\n",
       " 'weaken': <gensim.models.keyedvectors.Vocab at 0x1d3268a9b0>,\n",
       " 'disarming': <gensim.models.keyedvectors.Vocab at 0x1d3268a9e8>,\n",
       " 'rid': <gensim.models.keyedvectors.Vocab at 0x1d3268aa20>,\n",
       " 'these': <gensim.models.keyedvectors.Vocab at 0x1d3268aa58>,\n",
       " 'traitors': <gensim.models.keyedvectors.Vocab at 0x1d3268aa90>,\n",
       " 'account': <gensim.models.keyedvectors.Vocab at 0x1d3268aac8>,\n",
       " 'sexually': <gensim.models.keyedvectors.Vocab at 0x1d3268ab00>,\n",
       " 'active': <gensim.models.keyedvectors.Vocab at 0x1d3268ab38>,\n",
       " 'able': <gensim.models.keyedvectors.Vocab at 0x1d3268ab70>,\n",
       " 'remember': <gensim.models.keyedvectors.Vocab at 0x1d3268aba8>,\n",
       " 'having': <gensim.models.keyedvectors.Vocab at 0x1d3268abe0>,\n",
       " 'severely': <gensim.models.keyedvectors.Vocab at 0x1d3268ac18>,\n",
       " 'mongols': <gensim.models.keyedvectors.Vocab at 0x1d3268ac50>,\n",
       " 'win': <gensim.models.keyedvectors.Vocab at 0x1d3268ac88>,\n",
       " 'christians': <gensim.models.keyedvectors.Vocab at 0x1d3268acc0>,\n",
       " 'phenomenon': <gensim.models.keyedvectors.Vocab at 0x1d3268acf8>,\n",
       " 'reincarnation': <gensim.models.keyedvectors.Vocab at 0x1d3268ad30>,\n",
       " 'told': <gensim.models.keyedvectors.Vocab at 0x1d3268ad68>,\n",
       " 'three': <gensim.models.keyedvectors.Vocab at 0x1d3268ada0>,\n",
       " 'canada': <gensim.models.keyedvectors.Vocab at 0x1d3268add8>,\n",
       " 'resident': <gensim.models.keyedvectors.Vocab at 0x1d3268ae10>,\n",
       " 'speed': <gensim.models.keyedvectors.Vocab at 0x1d3268ae48>,\n",
       " 'hair': <gensim.models.keyedvectors.Vocab at 0x1d3268ae80>,\n",
       " 'growth': <gensim.models.keyedvectors.Vocab at 0x1d3268aeb8>,\n",
       " 'several': <gensim.models.keyedvectors.Vocab at 0x1d3268aef0>,\n",
       " 'just': <gensim.models.keyedvectors.Vocab at 0x1d3268af28>,\n",
       " 'realised': <gensim.models.keyedvectors.Vocab at 0x1d3268af60>,\n",
       " 'click': <gensim.models.keyedvectors.Vocab at 0x1d3268af98>,\n",
       " 'answer': <gensim.models.keyedvectors.Vocab at 0x1d3268afd0>,\n",
       " 'access': <gensim.models.keyedvectors.Vocab at 0x1d3268e048>,\n",
       " 'multiple': <gensim.models.keyedvectors.Vocab at 0x1d3268e080>,\n",
       " 'seen': <gensim.models.keyedvectors.Vocab at 0x1d3268e0b8>,\n",
       " 'screen': <gensim.models.keyedvectors.Vocab at 0x1d3268e0f0>,\n",
       " 'kids': <gensim.models.keyedvectors.Vocab at 0x1d3268e128>,\n",
       " 'fun': <gensim.models.keyedvectors.Vocab at 0x1d3268e160>,\n",
       " 'forecast': <gensim.models.keyedvectors.Vocab at 0x1d3268e198>,\n",
       " 'market': <gensim.models.keyedvectors.Vocab at 0x1d3268e1d0>,\n",
       " 'leading': <gensim.models.keyedvectors.Vocab at 0x1d3268e208>,\n",
       " 'key': <gensim.models.keyedvectors.Vocab at 0x1d3268e240>,\n",
       " 'players': <gensim.models.keyedvectors.Vocab at 0x1d3268e278>,\n",
       " 'everything': <gensim.models.keyedvectors.Vocab at 0x1d3268e2b0>,\n",
       " 'clich': <gensim.models.keyedvectors.Vocab at 0x1d3268e2e8>,\n",
       " 'revise': <gensim.models.keyedvectors.Vocab at 0x1d3268e320>,\n",
       " 'chemistry': <gensim.models.keyedvectors.Vocab at 0x1d3268e358>,\n",
       " 'directly': <gensim.models.keyedvectors.Vocab at 0x1d3268e390>,\n",
       " 'ncert': <gensim.models.keyedvectors.Vocab at 0x1d3268e3c8>,\n",
       " 'neet': <gensim.models.keyedvectors.Vocab at 0x1d3268e400>,\n",
       " 'atomic': <gensim.models.keyedvectors.Vocab at 0x1d3268e438>,\n",
       " 'number': <gensim.models.keyedvectors.Vocab at 0x1d3268e470>,\n",
       " 'element': <gensim.models.keyedvectors.Vocab at 0x1d3268e4a8>,\n",
       " 'generate': <gensim.models.keyedvectors.Vocab at 0x1d3268e4e0>,\n",
       " 'electricity': <gensim.models.keyedvectors.Vocab at 0x1d3268e518>,\n",
       " 'providing': <gensim.models.keyedvectors.Vocab at 0x1d3268e550>,\n",
       " 'beerus': <gensim.models.keyedvectors.Vocab at 0x1d3268e588>,\n",
       " 'supreme': <gensim.models.keyedvectors.Vocab at 0x1d3268e5c0>,\n",
       " 'kai': <gensim.models.keyedvectors.Vocab at 0x1d3268e5f8>,\n",
       " 'eliminate': <gensim.models.keyedvectors.Vocab at 0x1d3268e630>,\n",
       " 'weakness': <gensim.models.keyedvectors.Vocab at 0x1d3268e668>,\n",
       " 'computer': <gensim.models.keyedvectors.Vocab at 0x1d3268e6a0>,\n",
       " 'science': <gensim.models.keyedvectors.Vocab at 0x1d3268e6d8>,\n",
       " 'program': <gensim.models.keyedvectors.Vocab at 0x1d3268e710>,\n",
       " 'advice': <gensim.models.keyedvectors.Vocab at 0x1d3268e748>,\n",
       " 'yourself': <gensim.models.keyedvectors.Vocab at 0x1d3268e780>,\n",
       " 'restrictions': <gensim.models.keyedvectors.Vocab at 0x1d3268e7b8>,\n",
       " 'against': <gensim.models.keyedvectors.Vocab at 0x1d3268e7f0>,\n",
       " 'phones': <gensim.models.keyedvectors.Vocab at 0x1d3268e828>,\n",
       " 'social': <gensim.models.keyedvectors.Vocab at 0x1d3268e860>,\n",
       " 'sites': <gensim.models.keyedvectors.Vocab at 0x1d3268e898>,\n",
       " 'banasthali': <gensim.models.keyedvectors.Vocab at 0x1d3268e8d0>,\n",
       " 'handwriting': <gensim.models.keyedvectors.Vocab at 0x1d3268e908>,\n",
       " 'reveals': <gensim.models.keyedvectors.Vocab at 0x1d3268e940>,\n",
       " 'yoga': <gensim.models.keyedvectors.Vocab at 0x1d3268e978>,\n",
       " 'jupiter': <gensim.models.keyedvectors.Vocab at 0x1d3268e9b0>,\n",
       " 'retrograde': <gensim.models.keyedvectors.Vocab at 0x1d3268e9e8>,\n",
       " 'sagittarius': <gensim.models.keyedvectors.Vocab at 0x1d3268ea20>,\n",
       " 'ascendant': <gensim.models.keyedvectors.Vocab at 0x1d3268ea58>,\n",
       " 'turnover': <gensim.models.keyedvectors.Vocab at 0x1d3268ea90>,\n",
       " 'ratios': <gensim.models.keyedvectors.Vocab at 0x1d3268eac8>,\n",
       " 'calculated': <gensim.models.keyedvectors.Vocab at 0x1d3268eb00>,\n",
       " 'dividing': <gensim.models.keyedvectors.Vocab at 0x1d3268eb38>,\n",
       " 'net': <gensim.models.keyedvectors.Vocab at 0x1d3268eb70>,\n",
       " 'sales': <gensim.models.keyedvectors.Vocab at 0x1d3268eba8>,\n",
       " 'lose': <gensim.models.keyedvectors.Vocab at 0x1d3268ebe0>,\n",
       " 'weight': <gensim.models.keyedvectors.Vocab at 0x1d3268ec18>,\n",
       " 'sun': <gensim.models.keyedvectors.Vocab at 0x1d3268ec50>,\n",
       " 'moon': <gensim.models.keyedvectors.Vocab at 0x1d3268ec88>,\n",
       " 'they': <gensim.models.keyedvectors.Vocab at 0x1d3268ecc0>,\n",
       " 'size': <gensim.models.keyedvectors.Vocab at 0x1d3268ecf8>,\n",
       " 'women': <gensim.models.keyedvectors.Vocab at 0x1d3268ed30>,\n",
       " 'forced': <gensim.models.keyedvectors.Vocab at 0x1d3268ed68>,\n",
       " 'cover': <gensim.models.keyedvectors.Vocab at 0x1d3268eda0>,\n",
       " 'move': <gensim.models.keyedvectors.Vocab at 0x1d3268edd8>,\n",
       " 'comfort': <gensim.models.keyedvectors.Vocab at 0x1d3268ee10>,\n",
       " 'zone': <gensim.models.keyedvectors.Vocab at 0x1d3268ee48>,\n",
       " 'example': <gensim.models.keyedvectors.Vocab at 0x1d3268ee80>,\n",
       " 'overall': <gensim.models.keyedvectors.Vocab at 0x1d3268eeb8>,\n",
       " 'successful': <gensim.models.keyedvectors.Vocab at 0x1d3268eef0>,\n",
       " 'authoritarian': <gensim.models.keyedvectors.Vocab at 0x1d3268ef28>,\n",
       " 'regime': <gensim.models.keyedvectors.Vocab at 0x1d3268ef60>,\n",
       " 'scripts': <gensim.models.keyedvectors.Vocab at 0x1d3268ef98>,\n",
       " 'writing': <gensim.models.keyedvectors.Vocab at 0x1d3268efd0>,\n",
       " 'incorporated': <gensim.models.keyedvectors.Vocab at 0x1d32690048>,\n",
       " 'single': <gensim.models.keyedvectors.Vocab at 0x1d32690080>,\n",
       " 'universal': <gensim.models.keyedvectors.Vocab at 0x1d326900b8>,\n",
       " 'machine': <gensim.models.keyedvectors.Vocab at 0x1d326900f0>,\n",
       " 'code': <gensim.models.keyedvectors.Vocab at 0x1d32690128>,\n",
       " 'processing': <gensim.models.keyedvectors.Vocab at 0x1d32690160>,\n",
       " 'michael': <gensim.models.keyedvectors.Vocab at 0x1d32690198>,\n",
       " 'avenatti': <gensim.models.keyedvectors.Vocab at 0x1d326901d0>,\n",
       " 'truly': <gensim.models.keyedvectors.Vocab at 0x1d32690208>,\n",
       " 'care': <gensim.models.keyedvectors.Vocab at 0x1d32690240>,\n",
       " 'stormy': <gensim.models.keyedvectors.Vocab at 0x1d32690278>,\n",
       " 'daniels': <gensim.models.keyedvectors.Vocab at 0x1d326902b0>,\n",
       " 'he': <gensim.models.keyedvectors.Vocab at 0x1d326902e8>,\n",
       " 'trying': <gensim.models.keyedvectors.Vocab at 0x1d32690320>,\n",
       " 'boost': <gensim.models.keyedvectors.Vocab at 0x1d32690358>,\n",
       " 'public': <gensim.models.keyedvectors.Vocab at 0x1d32690390>,\n",
       " 'image': <gensim.models.keyedvectors.Vocab at 0x1d326903c8>,\n",
       " 'all': <gensim.models.keyedvectors.Vocab at 0x1d32690400>,\n",
       " 'news': <gensim.models.keyedvectors.Vocab at 0x1d32690438>,\n",
       " 'interviews': <gensim.models.keyedvectors.Vocab at 0x1d32690470>,\n",
       " 'crush': <gensim.models.keyedvectors.Vocab at 0x1d326904a8>,\n",
       " 'trains': <gensim.models.keyedvectors.Vocab at 0x1d326904e0>,\n",
       " 'along': <gensim.models.keyedvectors.Vocab at 0x1d32690518>,\n",
       " 'rail': <gensim.models.keyedvectors.Vocab at 0x1d32690550>,\n",
       " 'writes': <gensim.models.keyedvectors.Vocab at 0x1d32690588>,\n",
       " 'cause': <gensim.models.keyedvectors.Vocab at 0x1d326905c0>,\n",
       " 'food': <gensim.models.keyedvectors.Vocab at 0x1d326905f8>,\n",
       " 'poisoning': <gensim.models.keyedvectors.Vocab at 0x1d32690630>,\n",
       " 'main': <gensim.models.keyedvectors.Vocab at 0x1d32690668>,\n",
       " 'electoral': <gensim.models.keyedvectors.Vocab at 0x1d326906a0>,\n",
       " 'reforms': <gensim.models.keyedvectors.Vocab at 0x1d326906d8>,\n",
       " 'spanish': <gensim.models.keyedvectors.Vocab at 0x1d32690710>,\n",
       " 'songs': <gensim.models.keyedvectors.Vocab at 0x1d32690748>,\n",
       " 'sang': <gensim.models.keyedvectors.Vocab at 0x1d32690780>,\n",
       " 'native': <gensim.models.keyedvectors.Vocab at 0x1d326907b8>,\n",
       " 'speakers': <gensim.models.keyedvectors.Vocab at 0x1d326907f0>,\n",
       " 'even': <gensim.models.keyedvectors.Vocab at 0x1d32690828>,\n",
       " 'sing': <gensim.models.keyedvectors.Vocab at 0x1d32690860>,\n",
       " 'airbnb': <gensim.models.keyedvectors.Vocab at 0x1d32690898>,\n",
       " 'examination': <gensim.models.keyedvectors.Vocab at 0x1d326908d0>,\n",
       " 'fees': <gensim.models.keyedvectors.Vocab at 0x1d32690908>,\n",
       " 'appearing': <gensim.models.keyedvectors.Vocab at 0x1d32690940>,\n",
       " 'chartered': <gensim.models.keyedvectors.Vocab at 0x1d32690978>,\n",
       " 'accountants': <gensim.models.keyedvectors.Vocab at 0x1d326909b0>,\n",
       " 'australia': <gensim.models.keyedvectors.Vocab at 0x1d326909e8>,\n",
       " 'zealand': <gensim.models.keyedvectors.Vocab at 0x1d32690a20>,\n",
       " 'ca': <gensim.models.keyedvectors.Vocab at 0x1d32690a58>,\n",
       " 'adaptation': <gensim.models.keyedvectors.Vocab at 0x1d32690a90>,\n",
       " 'easily': <gensim.models.keyedvectors.Vocab at 0x1d32690ac8>,\n",
       " 'understand': <gensim.models.keyedvectors.Vocab at 0x1d32690b00>,\n",
       " 'question': <gensim.models.keyedvectors.Vocab at 0x1d32690b38>,\n",
       " 'maths': <gensim.models.keyedvectors.Vocab at 0x1d32690b70>,\n",
       " 'noodles': <gensim.models.keyedvectors.Vocab at 0x1d32690ba8>,\n",
       " 'healthy': <gensim.models.keyedvectors.Vocab at 0x1d32690be0>,\n",
       " 'nowhere': <gensim.models.keyedvectors.Vocab at 0x1d32690c18>,\n",
       " 'running': <gensim.models.keyedvectors.Vocab at 0x1d32690c50>,\n",
       " 'bible': <gensim.models.keyedvectors.Vocab at 0x1d32690c88>,\n",
       " 'saying': <gensim.models.keyedvectors.Vocab at 0x1d32690cc0>,\n",
       " 'wanted': <gensim.models.keyedvectors.Vocab at 0x1d32690cf8>,\n",
       " 'facebook': <gensim.models.keyedvectors.Vocab at 0x1d32690d30>,\n",
       " 'birthday': <gensim.models.keyedvectors.Vocab at 0x1d32690d68>,\n",
       " 'calendar': <gensim.models.keyedvectors.Vocab at 0x1d32690da0>,\n",
       " 'though': <gensim.models.keyedvectors.Vocab at 0x1d32690dd8>,\n",
       " 'marked': <gensim.models.keyedvectors.Vocab at 0x1d32690e10>,\n",
       " 'private': <gensim.models.keyedvectors.Vocab at 0x1d32690e48>,\n",
       " 'follow': <gensim.models.keyedvectors.Vocab at 0x1d32690e80>,\n",
       " 'anonymous': <gensim.models.keyedvectors.Vocab at 0x1d32690eb8>,\n",
       " 'britain': <gensim.models.keyedvectors.Vocab at 0x1d32690ef0>,\n",
       " 'fought': <gensim.models.keyedvectors.Vocab at 0x1d32690f28>,\n",
       " 'wars': <gensim.models.keyedvectors.Vocab at 0x1d32690f60>,\n",
       " 'creator': <gensim.models.keyedvectors.Vocab at 0x1d32690f98>,\n",
       " 'soak': <gensim.models.keyedvectors.Vocab at 0x1d32690fd0>,\n",
       " 'seeds': <gensim.models.keyedvectors.Vocab at 0x1d32694048>,\n",
       " 'kulbhushan': <gensim.models.keyedvectors.Vocab at 0x1d32694080>,\n",
       " 'continuous': <gensim.models.keyedvectors.Vocab at 0x1d326940b8>,\n",
       " 'denial': <gensim.models.keyedvectors.Vocab at 0x1d326940f0>,\n",
       " 'force': <gensim.models.keyedvectors.Vocab at 0x1d32694128>,\n",
       " 'complex': <gensim.models.keyedvectors.Vocab at 0x1d32694160>,\n",
       " 'integral': <gensim.models.keyedvectors.Vocab at 0x1d32694198>,\n",
       " 'part': <gensim.models.keyedvectors.Vocab at 0x1d326941d0>,\n",
       " 'physical': <gensim.models.keyedvectors.Vocab at 0x1d32694208>,\n",
       " 'reality': <gensim.models.keyedvectors.Vocab at 0x1d32694240>,\n",
       " 'stock': <gensim.models.keyedvectors.Vocab at 0x1d32694278>,\n",
       " 'rally': <gensim.models.keyedvectors.Vocab at 0x1d326942b0>,\n",
       " 'continue': <gensim.models.keyedvectors.Vocab at 0x1d326942e8>,\n",
       " 'superman': <gensim.models.keyedvectors.Vocab at 0x1d32694320>,\n",
       " 'strongest': <gensim.models.keyedvectors.Vocab at 0x1d32694358>,\n",
       " 'heroes': <gensim.models.keyedvectors.Vocab at 0x1d32694390>,\n",
       " 'zeus': <gensim.models.keyedvectors.Vocab at 0x1d326943c8>,\n",
       " 'defeat': <gensim.models.keyedvectors.Vocab at 0x1d32694400>,\n",
       " 'meaning': <gensim.models.keyedvectors.Vocab at 0x1d32694438>,\n",
       " 'distinguishes': <gensim.models.keyedvectors.Vocab at 0x1d32694470>,\n",
       " 'kyle': <gensim.models.keyedvectors.Vocab at 0x1d326944a8>,\n",
       " 'acting': <gensim.models.keyedvectors.Vocab at 0x1d326944e0>,\n",
       " 'style': <gensim.models.keyedvectors.Vocab at 0x1d32694518>,\n",
       " 'perceive': <gensim.models.keyedvectors.Vocab at 0x1d32694550>,\n",
       " 'religious': <gensim.models.keyedvectors.Vocab at 0x1d32694588>,\n",
       " 'standpoint': <gensim.models.keyedvectors.Vocab at 0x1d326945c0>,\n",
       " 'interesting': <gensim.models.keyedvectors.Vocab at 0x1d326945f8>,\n",
       " 'foreign': <gensim.models.keyedvectors.Vocab at 0x1d32694630>,\n",
       " 'service': <gensim.models.keyedvectors.Vocab at 0x1d32694668>,\n",
       " 'officers': <gensim.models.keyedvectors.Vocab at 0x1d326946a0>,\n",
       " 'post': <gensim.models.keyedvectors.Vocab at 0x1d326946d8>,\n",
       " 'cabin': <gensim.models.keyedvectors.Vocab at 0x1d32694710>,\n",
       " 'photo': <gensim.models.keyedvectors.Vocab at 0x1d32694748>,\n",
       " 'through': <gensim.models.keyedvectors.Vocab at 0x1d32694780>,\n",
       " 'tb': <gensim.models.keyedvectors.Vocab at 0x1d326947b8>,\n",
       " 'smoke': <gensim.models.keyedvectors.Vocab at 0x1d326947f0>,\n",
       " 'weed': <gensim.models.keyedvectors.Vocab at 0x1d32694828>,\n",
       " 'once': <gensim.models.keyedvectors.Vocab at 0x1d32694860>,\n",
       " 'view': <gensim.models.keyedvectors.Vocab at 0x1d32694898>,\n",
       " 'colosseum': <gensim.models.keyedvectors.Vocab at 0x1d326948d0>,\n",
       " 'solution': <gensim.models.keyedvectors.Vocab at 0x1d32694908>,\n",
       " 'fast': <gensim.models.keyedvectors.Vocab at 0x1d32694940>,\n",
       " 'loss': <gensim.models.keyedvectors.Vocab at 0x1d32694978>,\n",
       " 'partner': <gensim.models.keyedvectors.Vocab at 0x1d326949b0>,\n",
       " 'envious': <gensim.models.keyedvectors.Vocab at 0x1d326949e8>,\n",
       " 'causes': <gensim.models.keyedvectors.Vocab at 0x1d32694a20>,\n",
       " 'migraine': <gensim.models.keyedvectors.Vocab at 0x1d32694a58>,\n",
       " 'high': <gensim.models.keyedvectors.Vocab at 0x1d32694a90>,\n",
       " 'blood': <gensim.models.keyedvectors.Vocab at 0x1d32694ac8>,\n",
       " 'pressure': <gensim.models.keyedvectors.Vocab at 0x1d32694b00>,\n",
       " 'bi': <gensim.models.keyedvectors.Vocab at 0x1d32694b38>,\n",
       " ...}"
      ]
     },
     "execution_count": 159,
     "metadata": {},
     "output_type": "execute_result"
    }
   ],
   "source": [
    "word_vectors.vocab"
   ]
  },
  {
   "cell_type": "code",
   "execution_count": 161,
   "metadata": {},
   "outputs": [
    {
     "name": "stdout",
     "output_type": "stream",
     "text": [
      "Number of word vectors: 21504\n"
     ]
    }
   ],
   "source": [
    "word_vectors = model.wv\n",
    "print(\"Number of word vectors: {}\".format(len(word_vectors.vocab)))\n"
   ]
  },
  {
   "cell_type": "code",
   "execution_count": 162,
   "metadata": {},
   "outputs": [],
   "source": [
    "MAX_NB_WORDS = len(word_vectors.vocab)\n",
    "MAX_SEQUENCE_LENGTH = 200"
   ]
  },
  {
   "cell_type": "code",
   "execution_count": null,
   "metadata": {},
   "outputs": [],
   "source": [
    "from keras.preprocessing.sequence import pad_sequences\n",
    "\n",
    "word_index = {t[0]: i+1 for i,t in enumerate(vocab.most_common(MAX_NB_WORDS))}\n",
    "sequences = [[word_index.get(t, 0) for t in comment]\n",
    "             for comment in comments[:len(list_sentences_train)]]\n",
    "test_sequences = [[word_index.get(t, 0)  for t in comment] \n",
    "                  for comment in comments[len(list_sentences_train):]]\n",
    "\n",
    "# pad\n",
    "data = pad_sequences(sequences, maxlen=MAX_SEQUENCE_LENGTH, \n",
    "                     padding=\"pre\", truncating=\"post\")\n",
    "list_classes = [\"toxic\", \"severe_toxic\", \"obscene\", \"threat\", \"insult\", \"identity_hate\"]\n",
    "y = train_df[list_classes].values\n",
    "print('Shape of data tensor:', data.shape)\n",
    "print('Shape of label tensor:', y.shape)\n",
    "\n",
    "test_data = pad_sequences(test_sequences, maxlen=MAX_SEQUENCE_LENGTH, padding=\"pre\",\n",
    "                          truncating=\"post\")\n",
    "print('Shape of test_data tensor:', test_data.shape)"
   ]
  },
  {
   "cell_type": "code",
   "execution_count": null,
   "metadata": {},
   "outputs": [],
   "source": [
    "WV_DIM = 100\n",
    "nb_words = min(MAX_NB_WORDS, len(word_vectors.vocab))\n",
    "# we initialize the matrix with random numbers\n",
    "wv_matrix = (np.random.rand(nb_words, WV_DIM) - 0.5) / 5.0\n",
    "for word, i in word_index.items():\n",
    "    if i >= MAX_NB_WORDS:\n",
    "        continue\n",
    "    try:\n",
    "        embedding_vector = word_vectors[word]\n",
    "        # words not found in embedding index will be all-zeros.\n",
    "        wv_matrix[i] = embedding_vector\n",
    "    except:\n",
    "        pass        "
   ]
  },
  {
   "cell_type": "code",
   "execution_count": null,
   "metadata": {},
   "outputs": [],
   "source": [
    "from keras.layers import Dense, Input, CuDNNLSTM, Embedding, Dropout,SpatialDropout1D, Bidirectional\n",
    "from keras.models import Model\n",
    "from keras.optimizers import Adam\n",
    "from keras.layers.normalization import BatchNormalization"
   ]
  },
  {
   "cell_type": "code",
   "execution_count": null,
   "metadata": {},
   "outputs": [],
   "source": []
  },
  {
   "cell_type": "code",
   "execution_count": null,
   "metadata": {},
   "outputs": [],
   "source": []
  }
 ],
 "metadata": {
  "kernelspec": {
   "display_name": "Python 3",
   "language": "python",
   "name": "python3"
  },
  "language_info": {
   "codemirror_mode": {
    "name": "ipython",
    "version": 3
   },
   "file_extension": ".py",
   "mimetype": "text/x-python",
   "name": "python",
   "nbconvert_exporter": "python",
   "pygments_lexer": "ipython3",
   "version": "3.7.2"
  }
 },
 "nbformat": 4,
 "nbformat_minor": 2
}
